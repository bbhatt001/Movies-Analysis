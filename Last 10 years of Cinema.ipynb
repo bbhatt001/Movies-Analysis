{
 "cells": [
  {
   "cell_type": "markdown",
   "metadata": {},
   "source": [
    "## Part 2"
   ]
  },
  {
   "cell_type": "markdown",
   "metadata": {},
   "source": [
    "This notebook deals with data cleaning and the interesting movie facts."
   ]
  },
  {
   "cell_type": "markdown",
   "metadata": {},
   "source": [
    "## Importing necessary modules"
   ]
  },
  {
   "cell_type": "code",
   "execution_count": 192,
   "metadata": {},
   "outputs": [],
   "source": [
    "import pandas as pd\n",
    "import numpy as np\n",
    "import matplotlib.pyplot as plt\n",
    "import seaborn as sns\n",
    "from wordcloud import WordCloud, STOPWORDS\n",
    "from collections import Counter\n",
    "% matplotlib inline\n",
    "import warnings\n",
    "warnings.filterwarnings('ignore')\n",
    "from sklearn.model_selection import train_test_split\n",
    "from sklearn.metrics import mean_squared_error\n",
    "from sklearn.ensemble import RandomForestRegressor\n",
    "from sklearn.model_selection import cross_val_score\n",
    "from sklearn.metrics import mean_squared_error\n",
    "from sklearn.metrics import r2_score\n",
    "from sklearn.model_selection import RandomizedSearchCV\n",
    "from sklearn.model_selection import GridSearchCV\n",
    "from sklearn.preprocessing import MultiLabelBinarizer"
   ]
  },
  {
   "cell_type": "code",
   "execution_count": 193,
   "metadata": {},
   "outputs": [
    {
     "data": {
      "text/html": [
       "<div>\n",
       "<style scoped>\n",
       "    .dataframe tbody tr th:only-of-type {\n",
       "        vertical-align: middle;\n",
       "    }\n",
       "\n",
       "    .dataframe tbody tr th {\n",
       "        vertical-align: top;\n",
       "    }\n",
       "\n",
       "    .dataframe thead th {\n",
       "        text-align: right;\n",
       "    }\n",
       "</style>\n",
       "<table border=\"1\" class=\"dataframe\">\n",
       "  <thead>\n",
       "    <tr style=\"text-align: right;\">\n",
       "      <th></th>\n",
       "      <th>Unnamed: 0</th>\n",
       "      <th>Unnamed: 0.1</th>\n",
       "      <th>certificate</th>\n",
       "      <th>directors</th>\n",
       "      <th>duration</th>\n",
       "      <th>genre</th>\n",
       "      <th>gross</th>\n",
       "      <th>metascore</th>\n",
       "      <th>movie</th>\n",
       "      <th>rating</th>\n",
       "      <th>stars</th>\n",
       "      <th>vote</th>\n",
       "      <th>year</th>\n",
       "    </tr>\n",
       "  </thead>\n",
       "  <tbody>\n",
       "    <tr>\n",
       "      <th>0</th>\n",
       "      <td>0</td>\n",
       "      <td>0</td>\n",
       "      <td>R</td>\n",
       "      <td>Susanne Bier</td>\n",
       "      <td>124 min</td>\n",
       "      <td>\\nDrama, Horror, Sci-Fi</td>\n",
       "      <td>NaN</td>\n",
       "      <td>52.0</td>\n",
       "      <td>Bird Box</td>\n",
       "      <td>6.7</td>\n",
       "      <td>Sandra Bullock, Trevante Rhodes, John Malkovic...</td>\n",
       "      <td>125127</td>\n",
       "      <td>(2018)</td>\n",
       "    </tr>\n",
       "    <tr>\n",
       "      <th>1</th>\n",
       "      <td>1</td>\n",
       "      <td>1</td>\n",
       "      <td>PG-13</td>\n",
       "      <td>James Wan</td>\n",
       "      <td>143 min</td>\n",
       "      <td>\\nAction, Adventure, Fantasy</td>\n",
       "      <td>260,024,160</td>\n",
       "      <td>55.0</td>\n",
       "      <td>Aquaman</td>\n",
       "      <td>7.5</td>\n",
       "      <td>Jason Momoa, Amber Heard, Willem Dafoe, Patric...</td>\n",
       "      <td>114391</td>\n",
       "      <td>(2018)</td>\n",
       "    </tr>\n",
       "  </tbody>\n",
       "</table>\n",
       "</div>"
      ],
      "text/plain": [
       "   Unnamed: 0  Unnamed: 0.1 certificate     directors duration  \\\n",
       "0           0             0           R  Susanne Bier  124 min   \n",
       "1           1             1       PG-13     James Wan  143 min   \n",
       "\n",
       "                                      genre        gross  metascore     movie  \\\n",
       "0       \\nDrama, Horror, Sci-Fi                      NaN       52.0  Bird Box   \n",
       "1  \\nAction, Adventure, Fantasy              260,024,160       55.0   Aquaman   \n",
       "\n",
       "   rating                                              stars    vote    year  \n",
       "0     6.7  Sandra Bullock, Trevante Rhodes, John Malkovic...  125127  (2018)  \n",
       "1     7.5  Jason Momoa, Amber Heard, Willem Dafoe, Patric...  114391  (2018)  "
      ]
     },
     "execution_count": 193,
     "metadata": {},
     "output_type": "execute_result"
    }
   ],
   "source": [
    "#pd.set_option('display.max_rows', None, 'display.max_columns', None)\n",
    "movies=pd.read_csv('movies_data.csv')\n",
    "movies.head(2)"
   ]
  },
  {
   "cell_type": "markdown",
   "metadata": {},
   "source": [
    "I then checked the shape and the columns in the dataframe. As 'Unnamed: 0' had no use, I deleted that."
   ]
  },
  {
   "cell_type": "code",
   "execution_count": 194,
   "metadata": {},
   "outputs": [
    {
     "data": {
      "text/plain": [
       "(48158, 13)"
      ]
     },
     "execution_count": 194,
     "metadata": {},
     "output_type": "execute_result"
    }
   ],
   "source": [
    "movies.shape"
   ]
  },
  {
   "cell_type": "code",
   "execution_count": 195,
   "metadata": {},
   "outputs": [
    {
     "data": {
      "text/plain": [
       "Index(['Unnamed: 0', 'Unnamed: 0.1', 'certificate', 'directors', 'duration',\n",
       "       'genre', 'gross', 'metascore', 'movie', 'rating', 'stars', 'vote',\n",
       "       'year'],\n",
       "      dtype='object')"
      ]
     },
     "execution_count": 195,
     "metadata": {},
     "output_type": "execute_result"
    }
   ],
   "source": [
    "movies.columns"
   ]
  },
  {
   "cell_type": "code",
   "execution_count": 196,
   "metadata": {},
   "outputs": [
    {
     "data": {
      "text/plain": [
       "Index(['certificate', 'directors', 'duration', 'genre', 'gross', 'metascore',\n",
       "       'movie', 'rating', 'stars', 'vote', 'year'],\n",
       "      dtype='object')"
      ]
     },
     "execution_count": 196,
     "metadata": {},
     "output_type": "execute_result"
    }
   ],
   "source": [
    "movies.drop(['Unnamed: 0','Unnamed: 0.1'],axis=1, inplace=True)\n",
    "movies.columns"
   ]
  },
  {
   "cell_type": "markdown",
   "metadata": {},
   "source": [
    "Using the info method I found that there are 44624 entries missing in the 'gross' column, which is the maximum entries lacking for any feature. Also, it gave information about the datatypes of the respective features, which is crucial while dealing with the respective columns."
   ]
  },
  {
   "cell_type": "code",
   "execution_count": 197,
   "metadata": {},
   "outputs": [
    {
     "name": "stdout",
     "output_type": "stream",
     "text": [
      "<class 'pandas.core.frame.DataFrame'>\n",
      "RangeIndex: 48158 entries, 0 to 48157\n",
      "Data columns (total 11 columns):\n",
      "certificate    14978 non-null object\n",
      "directors      46968 non-null object\n",
      "duration       38960 non-null object\n",
      "genre          46876 non-null object\n",
      "gross          3546 non-null object\n",
      "metascore      4775 non-null float64\n",
      "movie          48158 non-null object\n",
      "rating         29304 non-null float64\n",
      "stars          45974 non-null object\n",
      "vote           29321 non-null object\n",
      "year           48158 non-null object\n",
      "dtypes: float64(2), object(9)\n",
      "memory usage: 4.0+ MB\n"
     ]
    }
   ],
   "source": [
    "movies.info()"
   ]
  },
  {
   "cell_type": "markdown",
   "metadata": {},
   "source": [
    "## Data Cleaning"
   ]
  },
  {
   "cell_type": "markdown",
   "metadata": {},
   "source": [
    "I began filling the missing values of the 'metascore' feature. As all its nonnull values are float we replace its null values with '0'. The minimum value exiting before filling nan is 1. "
   ]
  },
  {
   "cell_type": "code",
   "execution_count": 198,
   "metadata": {},
   "outputs": [
    {
     "data": {
      "text/plain": [
       "1.0"
      ]
     },
     "execution_count": 198,
     "metadata": {},
     "output_type": "execute_result"
    }
   ],
   "source": [
    "movies['metascore'].min()"
   ]
  },
  {
   "cell_type": "code",
   "execution_count": 199,
   "metadata": {},
   "outputs": [],
   "source": [
    "movies['metascore']=movies['metascore'].fillna(0)"
   ]
  },
  {
   "cell_type": "markdown",
   "metadata": {},
   "source": [
    "Next we found that the year column has numeric year value combined with roman numbers. To solve that we sliced -5:-1 of the year string and then converted it into integer."
   ]
  },
  {
   "cell_type": "code",
   "execution_count": 200,
   "metadata": {},
   "outputs": [
    {
     "data": {
      "text/plain": [
       "array(['(2018)', '(I) (2018)', '(III) (2018)', '(II) (2018)',\n",
       "       '(V) (2018)', '(IV) (2018)', '(VIII) (2018)', '(VII) (2018)',\n",
       "       '(XI) (2018)', '(VI) (2018)', '(IX) (2018)', '(XXI) (2018)',\n",
       "       '(2017)', '(I) (2017)', '(II) (2017)', '(III) (2017)',\n",
       "       '(IV) (2017)', '(VI) (2017)', '(V) (2017)', '(XII) (2017)',\n",
       "       '(VIII) (2017)', '(XVI) (2017)', '(XV) (2017)', '(VII) (2017)',\n",
       "       '(IX) (2017)', '(XI) (2017)', '(XIV) (2017)', '(X) (2017)',\n",
       "       '(XX) (2017)', '(XXIV) (2017)', '(XIII) (2017)', '(IX) (2016)',\n",
       "       '(2016)', '(I) (2016)', '(II) (2016)', '(V) (2016)',\n",
       "       '(III) (2016)', '(IV) (2016)', '(VI) (2016)', '(VII) (2016)',\n",
       "       '(XI) (2016)', '(VIII) (2016)', '(XIV) (2016)', '(XVI) (2016)',\n",
       "       '(XII) (2016)', '(X) (2016)', '(XIII) (2016)', '(2015)',\n",
       "       '(I) (2015)', '(II) (2015)', '(VI) (2015)', '(III) (2015)',\n",
       "       '(IV) (2015)', '(VIII) (2015)', '(V) (2015)', '(VII) (2015)',\n",
       "       '(XI) (2015)', '(IX) (2015)', '(X) (2015)', '(XII) (2015)',\n",
       "       '(XVI) (2015)', '(2014)', '(2013)', '(I) (2013)', '(I) (2014)',\n",
       "       '(II) (2014)', '(II) (2013)', '(III) (2014)', '(VII) (2013)',\n",
       "       '(IV) (2014)', '(VI) (2014)', '(IV) (2013)', '(IX) (2014)',\n",
       "       '(VII) (2014)', '(V) (2013)', '(V) (2014)', '(III) (2013)',\n",
       "       '(XI) (2013)', '(VIII) (2014)', '(XI) (2014)', '(VI) (2013)',\n",
       "       '(VIII) (2013)', '(X) (2014)', '(IX) (2013)', '(XXII) (2013)',\n",
       "       '(XII) (2013)', '(XXIII) (2013)', '(X) (2013)', '(2011)', '(2012)',\n",
       "       '(I) (2012)', '(I) (2011)', '(III) (2012)', '(II) (2011)',\n",
       "       '(II) (2012)', '(IV) (2011)', '(IV) (2012)', '(V) (2012)',\n",
       "       '(III) (2011)', '(VII) (2012)', '(VI) (2011)', '(VI) (2012)',\n",
       "       '(VIII) (2011)', '(V) (2011)', '(XIV) (2012)', '(VIII) (2012)',\n",
       "       '(VII) (2011)', '(XV) (2012)', '(2009)', '(2010)', '(I) (2009)',\n",
       "       '(I) (2010)', '(II) (2009)', '(II) (2010)', '(III) (2010)',\n",
       "       '(III) (2009)', '(IV) (2009)', '(V) (2010)', '(IV) (2010)',\n",
       "       '(VI) (2010)', '(XIV) (2010)', '(VI) (2009)', '(VIII) (2010)',\n",
       "       '(VIII) (2009)', '(V) (2009)', '(XII) (2010)'], dtype=object)"
      ]
     },
     "execution_count": 200,
     "metadata": {},
     "output_type": "execute_result"
    }
   ],
   "source": [
    "movies['year'].unique()"
   ]
  },
  {
   "cell_type": "code",
   "execution_count": 201,
   "metadata": {},
   "outputs": [
    {
     "data": {
      "text/plain": [
       "array(['2018', '2017', '2016', '2015', '2014', '2013', '2011', '2012',\n",
       "       '2009', '2010'], dtype=object)"
      ]
     },
     "execution_count": 201,
     "metadata": {},
     "output_type": "execute_result"
    }
   ],
   "source": [
    "movies['year']=movies['year'].str[-5:-1]\n",
    "movies['year'].unique()"
   ]
  },
  {
   "cell_type": "code",
   "execution_count": 202,
   "metadata": {},
   "outputs": [],
   "source": [
    "movies['year']=movies['year'].astype(int)"
   ]
  },
  {
   "cell_type": "markdown",
   "metadata": {},
   "source": [
    "As indicated above by the info method, we found gross (the revenue generated by movie) to be reported as object. So, I first filled the missing value as 0 and then converted the dtattype to integer."
   ]
  },
  {
   "cell_type": "code",
   "execution_count": 203,
   "metadata": {},
   "outputs": [
    {
     "name": "stdout",
     "output_type": "stream",
     "text": [
      "<class 'pandas.core.frame.DataFrame'>\n",
      "RangeIndex: 48158 entries, 0 to 48157\n",
      "Data columns (total 11 columns):\n",
      "certificate    14978 non-null object\n",
      "directors      46968 non-null object\n",
      "duration       38960 non-null object\n",
      "genre          46876 non-null object\n",
      "gross          48158 non-null int64\n",
      "metascore      48158 non-null float64\n",
      "movie          48158 non-null object\n",
      "rating         29304 non-null float64\n",
      "stars          45974 non-null object\n",
      "vote           29321 non-null object\n",
      "year           48158 non-null int64\n",
      "dtypes: float64(2), int64(2), object(7)\n",
      "memory usage: 4.0+ MB\n"
     ]
    }
   ],
   "source": [
    "movies['gross']=movies['gross'].fillna('0')\n",
    "movies['gross']=movies['gross'].str.replace(',','').astype(int)\n",
    "movies.info()"
   ]
  },
  {
   "cell_type": "markdown",
   "metadata": {},
   "source": [
    "As seen above in the dataframe.head(), the dration is reported in a combination of numbers with 'min'. To get rid of 'min', I sliced the numbers out of duration. Then I filled the null values with 0."
   ]
  },
  {
   "cell_type": "code",
   "execution_count": 204,
   "metadata": {},
   "outputs": [
    {
     "data": {
      "text/html": [
       "<div>\n",
       "<style scoped>\n",
       "    .dataframe tbody tr th:only-of-type {\n",
       "        vertical-align: middle;\n",
       "    }\n",
       "\n",
       "    .dataframe tbody tr th {\n",
       "        vertical-align: top;\n",
       "    }\n",
       "\n",
       "    .dataframe thead th {\n",
       "        text-align: right;\n",
       "    }\n",
       "</style>\n",
       "<table border=\"1\" class=\"dataframe\">\n",
       "  <thead>\n",
       "    <tr style=\"text-align: right;\">\n",
       "      <th></th>\n",
       "      <th>certificate</th>\n",
       "      <th>directors</th>\n",
       "      <th>duration</th>\n",
       "      <th>genre</th>\n",
       "      <th>gross</th>\n",
       "      <th>metascore</th>\n",
       "      <th>movie</th>\n",
       "      <th>rating</th>\n",
       "      <th>stars</th>\n",
       "      <th>vote</th>\n",
       "      <th>year</th>\n",
       "    </tr>\n",
       "  </thead>\n",
       "  <tbody>\n",
       "    <tr>\n",
       "      <th>0</th>\n",
       "      <td>R</td>\n",
       "      <td>Susanne Bier</td>\n",
       "      <td>124</td>\n",
       "      <td>\\nDrama, Horror, Sci-Fi</td>\n",
       "      <td>0</td>\n",
       "      <td>52.0</td>\n",
       "      <td>Bird Box</td>\n",
       "      <td>6.7</td>\n",
       "      <td>Sandra Bullock, Trevante Rhodes, John Malkovic...</td>\n",
       "      <td>125127</td>\n",
       "      <td>2018</td>\n",
       "    </tr>\n",
       "    <tr>\n",
       "      <th>1</th>\n",
       "      <td>PG-13</td>\n",
       "      <td>James Wan</td>\n",
       "      <td>143</td>\n",
       "      <td>\\nAction, Adventure, Fantasy</td>\n",
       "      <td>260024160</td>\n",
       "      <td>55.0</td>\n",
       "      <td>Aquaman</td>\n",
       "      <td>7.5</td>\n",
       "      <td>Jason Momoa, Amber Heard, Willem Dafoe, Patric...</td>\n",
       "      <td>114391</td>\n",
       "      <td>2018</td>\n",
       "    </tr>\n",
       "  </tbody>\n",
       "</table>\n",
       "</div>"
      ],
      "text/plain": [
       "  certificate     directors duration  \\\n",
       "0           R  Susanne Bier      124   \n",
       "1       PG-13     James Wan      143   \n",
       "\n",
       "                                      genre      gross  metascore     movie  \\\n",
       "0       \\nDrama, Horror, Sci-Fi                      0       52.0  Bird Box   \n",
       "1  \\nAction, Adventure, Fantasy              260024160       55.0   Aquaman   \n",
       "\n",
       "   rating                                              stars    vote  year  \n",
       "0     6.7  Sandra Bullock, Trevante Rhodes, John Malkovic...  125127  2018  \n",
       "1     7.5  Jason Momoa, Amber Heard, Willem Dafoe, Patric...  114391  2018  "
      ]
     },
     "execution_count": 204,
     "metadata": {},
     "output_type": "execute_result"
    }
   ],
   "source": [
    "movies['duration']=movies['duration'].str[:-4]\n",
    "movies.head(2)"
   ]
  },
  {
   "cell_type": "code",
   "execution_count": 205,
   "metadata": {},
   "outputs": [
    {
     "data": {
      "text/plain": [
       "False"
      ]
     },
     "execution_count": 205,
     "metadata": {},
     "output_type": "execute_result"
    }
   ],
   "source": [
    "movies['duration']=movies['duration'].fillna('0')\n",
    "movies['duration'].isnull().any()"
   ]
  },
  {
   "cell_type": "markdown",
   "metadata": {},
   "source": [
    "Next I had to convert duration into 'int', but it was showing error. The reason behind it was evident when I checked that 2 values are 4 digits and they had ',' in them. That needed to be removed and then I converted the dtype to 'int'."
   ]
  },
  {
   "cell_type": "code",
   "execution_count": 206,
   "metadata": {},
   "outputs": [
    {
     "data": {
      "text/plain": [
       "array(['124', '143', '90', '117', '130', '114', '119', '149', '116',\n",
       "       '132', '134', '112', '141', '135', '136', '110', '133', '93',\n",
       "       '128', '104', '140', '147', '120', '107', '111', '127', '152',\n",
       "       '105', '103', '106', '118', '115', '101', '113', '86', '96', '102',\n",
       "       '121', '100', '129', '158', '89', '122', '85', '94', '97', '125',\n",
       "       '156', '91', '109', '139', '99', '108', '98', '95', '148', '92',\n",
       "       '0', '123', '159', '160', '84', '126', '88', '164', '81', '83',\n",
       "       '82', '80', '154', '79', '142', '77', '87', '74', '76', '71', '78',\n",
       "       '169', '73', '70', '72', '137', '75', '180', '144', '60', '220',\n",
       "       '62', '145', '138', '49', '67', '59', '19', '227', '155', '69',\n",
       "       '65', '8', '12', '14', '150', '153', '50', '68', '55', '66', '25',\n",
       "       '45', '21', '54', '15', '11', '38', '51', '52', '146', '183', '10',\n",
       "       '63', '61', '64', '7', '165', '30', '5', '46', '182', '170', '40',\n",
       "       '4', '20', '166', '47', '57', '13', '53', '6', '24', '44', '48',\n",
       "       '173', '27', '31', '58', '190', '200', '151', '23', '56', '17',\n",
       "       '22', '16', '32', '327', '9', '3', '34', '41', '1', '319', '2',\n",
       "       '29', '33', '198', '660', '168', '209', '174', '42', '36', '39',\n",
       "       '18', '35', '233', '171', '239', '176', '360', '26', '247', '157',\n",
       "       '300', '210', '424', '320', '240', '37', '207', '601', '193',\n",
       "       '181', '131', '161', '203', '192', '206', '172', '216', '185',\n",
       "       '43', '215', '195', '163', '204', '359', '623', '1,100', '243',\n",
       "       '188', '28', '162', '226', '485', '175', '202', '177', '540',\n",
       "       '383', '1,834', '242', '212', '250', '1,559', '1,440', '187',\n",
       "       '217', '197', '184', '186', '5,460', '1,151', '196', '338', '231',\n",
       "       '480', '252', '167', '248', '270', '178', '211', '549', '222',\n",
       "       '260', '272', '228', '310', '312', '230', '254', '333', '330',\n",
       "       '1,669', '236', '840', '4,200', '294', '194', '305', '189', '280',\n",
       "       '238', '295', '1,800', '237', '199', '1,200'], dtype=object)"
      ]
     },
     "execution_count": 206,
     "metadata": {},
     "output_type": "execute_result"
    }
   ],
   "source": [
    "movies['duration'].unique()"
   ]
  },
  {
   "cell_type": "code",
   "execution_count": 207,
   "metadata": {},
   "outputs": [
    {
     "data": {
      "text/plain": [
       "array(['124', '143', '90', '117', '130', '114', '119', '149', '116',\n",
       "       '132', '134', '112', '141', '135', '136', '110', '133', '93',\n",
       "       '128', '104', '140', '147', '120', '107', '111', '127', '152',\n",
       "       '105', '103', '106', '118', '115', '101', '113', '86', '96', '102',\n",
       "       '121', '100', '129', '158', '89', '122', '85', '94', '97', '125',\n",
       "       '156', '91', '109', '139', '99', '108', '98', '95', '148', '92',\n",
       "       '0', '123', '159', '160', '84', '126', '88', '164', '81', '83',\n",
       "       '82', '80', '154', '79', '142', '77', '87', '74', '76', '71', '78',\n",
       "       '169', '73', '70', '72', '137', '75', '180', '144', '60', '220',\n",
       "       '62', '145', '138', '49', '67', '59', '19', '227', '155', '69',\n",
       "       '65', '8', '12', '14', '150', '153', '50', '68', '55', '66', '25',\n",
       "       '45', '21', '54', '15', '11', '38', '51', '52', '146', '183', '10',\n",
       "       '63', '61', '64', '7', '165', '30', '5', '46', '182', '170', '40',\n",
       "       '4', '20', '166', '47', '57', '13', '53', '6', '24', '44', '48',\n",
       "       '173', '27', '31', '58', '190', '200', '151', '23', '56', '17',\n",
       "       '22', '16', '32', '327', '9', '3', '34', '41', '1', '319', '2',\n",
       "       '29', '33', '198', '660', '168', '209', '174', '42', '36', '39',\n",
       "       '18', '35', '233', '171', '239', '176', '360', '26', '247', '157',\n",
       "       '300', '210', '424', '320', '240', '37', '207', '601', '193',\n",
       "       '181', '131', '161', '203', '192', '206', '172', '216', '185',\n",
       "       '43', '215', '195', '163', '204', '359', '623', '1100', '243',\n",
       "       '188', '28', '162', '226', '485', '175', '202', '177', '540',\n",
       "       '383', '1834', '242', '212', '250', '1559', '1440', '187', '217',\n",
       "       '197', '184', '186', '5460', '1151', '196', '338', '231', '480',\n",
       "       '252', '167', '248', '270', '178', '211', '549', '222', '260',\n",
       "       '272', '228', '310', '312', '230', '254', '333', '330', '1669',\n",
       "       '236', '840', '4200', '294', '194', '305', '189', '280', '238',\n",
       "       '295', '1800', '237', '199', '1200'], dtype=object)"
      ]
     },
     "execution_count": 207,
     "metadata": {},
     "output_type": "execute_result"
    }
   ],
   "source": [
    "movies['duration']=movies['duration'].str.replace('1,100' , '1100')\n",
    "movies['duration']=movies['duration'].str.replace('1,834' , '1834')\n",
    "movies['duration']=movies['duration'].str.replace('1,559' , '1559')\n",
    "movies['duration']=movies['duration'].str.replace('1,440' , '1440')\n",
    "movies['duration']=movies['duration'].str.replace('5,460' , '5460')\n",
    "movies['duration']=movies['duration'].str.replace('1,151' , '1151')\n",
    "movies['duration']=movies['duration'].str.replace('1,669' , '1669')\n",
    "movies['duration']=movies['duration'].str.replace('4,200' , '4200')\n",
    "movies['duration']=movies['duration'].str.replace('1,800' , '1800')\n",
    "movies['duration']=movies['duration'].str.replace('1,200' , '1200')\n",
    "movies['duration'].unique()"
   ]
  },
  {
   "cell_type": "code",
   "execution_count": 208,
   "metadata": {},
   "outputs": [
    {
     "name": "stdout",
     "output_type": "stream",
     "text": [
      "<class 'pandas.core.frame.DataFrame'>\n",
      "RangeIndex: 48158 entries, 0 to 48157\n",
      "Data columns (total 11 columns):\n",
      "certificate    14978 non-null object\n",
      "directors      46968 non-null object\n",
      "duration       48158 non-null int64\n",
      "genre          46876 non-null object\n",
      "gross          48158 non-null int64\n",
      "metascore      48158 non-null float64\n",
      "movie          48158 non-null object\n",
      "rating         29304 non-null float64\n",
      "stars          45974 non-null object\n",
      "vote           29321 non-null object\n",
      "year           48158 non-null int64\n",
      "dtypes: float64(2), int64(3), object(6)\n",
      "memory usage: 4.0+ MB\n"
     ]
    }
   ],
   "source": [
    "movies['duration']=movies['duration'].astype(int)\n",
    "movies.info()"
   ]
  },
  {
   "cell_type": "markdown",
   "metadata": {},
   "source": [
    "Next, I filled the null values in the 'certificate' column. As can be seen, initially there were 1291 'Not Rated' values and 127 'Unrated'. Upon filling the missing values with 'Unrated', the number of 'Unrated' increased from 127 to 6645. In order to avoid duplicate name, I combined both 'Unrated' and 'Not Rated' into one. "
   ]
  },
  {
   "cell_type": "code",
   "execution_count": 209,
   "metadata": {},
   "outputs": [
    {
     "data": {
      "text/plain": [
       "True"
      ]
     },
     "execution_count": 209,
     "metadata": {},
     "output_type": "execute_result"
    }
   ],
   "source": [
    "movies['certificate'].isnull().any()"
   ]
  },
  {
   "cell_type": "code",
   "execution_count": 210,
   "metadata": {},
   "outputs": [
    {
     "data": {
      "text/plain": [
       "Not Rated    6840\n",
       "R            3442\n",
       "PG-13        1603\n",
       "Unrated       799\n",
       "PG            768\n",
       "TV-MA         620\n",
       "TV-14         434\n",
       "TV-PG         197\n",
       "G             142\n",
       "TV-G           84\n",
       "TV-Y           12\n",
       "TV-Y7          11\n",
       "Approved        9\n",
       "NC-17           5\n",
       "M               3\n",
       "AO              2\n",
       "Open            2\n",
       "E               2\n",
       "X               1\n",
       "C               1\n",
       "MA-17           1\n",
       "Name: certificate, dtype: int64"
      ]
     },
     "execution_count": 210,
     "metadata": {},
     "output_type": "execute_result"
    }
   ],
   "source": [
    "movies['certificate'].value_counts()"
   ]
  },
  {
   "cell_type": "code",
   "execution_count": 211,
   "metadata": {},
   "outputs": [
    {
     "data": {
      "text/plain": [
       "False"
      ]
     },
     "execution_count": 211,
     "metadata": {},
     "output_type": "execute_result"
    }
   ],
   "source": [
    "movies['certificate']=movies['certificate'].fillna('Unrated')\n",
    "movies['certificate'].isnull().any()"
   ]
  },
  {
   "cell_type": "code",
   "execution_count": 212,
   "metadata": {},
   "outputs": [
    {
     "data": {
      "text/plain": [
       "Unrated      33979\n",
       "Not Rated     6840\n",
       "R             3442\n",
       "PG-13         1603\n",
       "PG             768\n",
       "TV-MA          620\n",
       "TV-14          434\n",
       "TV-PG          197\n",
       "G              142\n",
       "TV-G            84\n",
       "TV-Y            12\n",
       "TV-Y7           11\n",
       "Approved         9\n",
       "NC-17            5\n",
       "M                3\n",
       "AO               2\n",
       "Open             2\n",
       "E                2\n",
       "X                1\n",
       "C                1\n",
       "MA-17            1\n",
       "Name: certificate, dtype: int64"
      ]
     },
     "execution_count": 212,
     "metadata": {},
     "output_type": "execute_result"
    }
   ],
   "source": [
    "movies['certificate'].value_counts()"
   ]
  },
  {
   "cell_type": "code",
   "execution_count": 213,
   "metadata": {},
   "outputs": [
    {
     "data": {
      "text/plain": [
       "Unrated     40819\n",
       "R            3442\n",
       "PG-13        1603\n",
       "PG            768\n",
       "TV-MA         620\n",
       "TV-14         434\n",
       "TV-PG         197\n",
       "G             142\n",
       "TV-G           84\n",
       "TV-Y           12\n",
       "TV-Y7          11\n",
       "Approved        9\n",
       "NC-17           5\n",
       "M               3\n",
       "AO              2\n",
       "Open            2\n",
       "E               2\n",
       "X               1\n",
       "C               1\n",
       "MA-17           1\n",
       "Name: certificate, dtype: int64"
      ]
     },
     "execution_count": 213,
     "metadata": {},
     "output_type": "execute_result"
    }
   ],
   "source": [
    "movies['certificate']=movies['certificate'].str.replace('Not Rated','Unrated')\n",
    "movies['certificate'].value_counts()"
   ]
  },
  {
   "cell_type": "markdown",
   "metadata": {},
   "source": [
    "Next I found that the 'genre' column had a lot of empty space and '\\n'. These needed to be stripped and the null values were filled with 'Unknown'. The reason filling missing values will become clear later."
   ]
  },
  {
   "cell_type": "code",
   "execution_count": 214,
   "metadata": {},
   "outputs": [],
   "source": [
    "movies['genre']=movies['genre'].str.rstrip()\n",
    "#movies['genre'].unique().head()"
   ]
  },
  {
   "cell_type": "code",
   "execution_count": 215,
   "metadata": {},
   "outputs": [],
   "source": [
    "movies['genre']=movies['genre'].str.strip('\\n')\n",
    "#movies['genre'].unique()"
   ]
  },
  {
   "cell_type": "code",
   "execution_count": 216,
   "metadata": {},
   "outputs": [
    {
     "data": {
      "text/plain": [
       "False"
      ]
     },
     "execution_count": 216,
     "metadata": {},
     "output_type": "execute_result"
    }
   ],
   "source": [
    "movies['genre']=movies['genre'].fillna('Unknown')\n",
    "movies['genre'].isnull().any()"
   ]
  },
  {
   "cell_type": "markdown",
   "metadata": {},
   "source": [
    "Next, I filled missing values for directors and stars"
   ]
  },
  {
   "cell_type": "code",
   "execution_count": 217,
   "metadata": {},
   "outputs": [
    {
     "data": {
      "text/plain": [
       "False"
      ]
     },
     "execution_count": 217,
     "metadata": {},
     "output_type": "execute_result"
    }
   ],
   "source": [
    "movies['directors']=movies['directors'].fillna('Unknown')\n",
    "movies['directors'].isnull().any()"
   ]
  },
  {
   "cell_type": "code",
   "execution_count": 218,
   "metadata": {},
   "outputs": [],
   "source": [
    "#movies['directors']=movies['directors'].str.strip()"
   ]
  },
  {
   "cell_type": "code",
   "execution_count": 219,
   "metadata": {},
   "outputs": [
    {
     "data": {
      "text/plain": [
       "False"
      ]
     },
     "execution_count": 219,
     "metadata": {},
     "output_type": "execute_result"
    }
   ],
   "source": [
    "movies['stars']=movies['stars'].fillna('Unknown')\n",
    "movies['stars'].isnull().any()"
   ]
  },
  {
   "cell_type": "code",
   "execution_count": 220,
   "metadata": {},
   "outputs": [],
   "source": [
    "#movies['stars']=movies['stars'].str.strip()"
   ]
  },
  {
   "cell_type": "code",
   "execution_count": 221,
   "metadata": {},
   "outputs": [
    {
     "data": {
      "text/plain": [
       "array(['125127', '114391', '56440', ..., '1063', '7,200', '2,200'],\n",
       "      dtype=object)"
      ]
     },
     "execution_count": 221,
     "metadata": {},
     "output_type": "execute_result"
    }
   ],
   "source": [
    "movies['vote'].unique()"
   ]
  },
  {
   "cell_type": "code",
   "execution_count": 222,
   "metadata": {},
   "outputs": [
    {
     "data": {
      "text/plain": [
       "array(['125127', '114391', '56440', ..., '1299', '669', '1063'],\n",
       "      dtype=object)"
      ]
     },
     "execution_count": 222,
     "metadata": {},
     "output_type": "execute_result"
    }
   ],
   "source": [
    "movies['vote']=movies['vote'].str.replace(',','')\n",
    "movies['vote'].unique()"
   ]
  },
  {
   "cell_type": "code",
   "execution_count": 223,
   "metadata": {},
   "outputs": [
    {
     "data": {
      "text/plain": [
       "False"
      ]
     },
     "execution_count": 223,
     "metadata": {},
     "output_type": "execute_result"
    }
   ],
   "source": [
    "movies['vote']=movies['vote'].fillna('0').astype(int)\n",
    "movies['vote'].isnull().any()"
   ]
  },
  {
   "cell_type": "code",
   "execution_count": 224,
   "metadata": {},
   "outputs": [],
   "source": [
    "#movies['vote'].value_counts()"
   ]
  },
  {
   "cell_type": "markdown",
   "metadata": {},
   "source": [
    "Next, I  filled missing values for 'rating' column. The minimum rating anyone can give to any movie in IMDb is 1. "
   ]
  },
  {
   "cell_type": "code",
   "execution_count": 225,
   "metadata": {},
   "outputs": [
    {
     "data": {
      "text/plain": [
       "False"
      ]
     },
     "execution_count": 225,
     "metadata": {},
     "output_type": "execute_result"
    }
   ],
   "source": [
    "movies['rating']=movies['rating'].fillna(0)\n",
    "movies['rating'].isnull().any()"
   ]
  },
  {
   "cell_type": "markdown",
   "metadata": {},
   "source": [
    "Next, I rearranged the columns and sorted them according to year and rating."
   ]
  },
  {
   "cell_type": "code",
   "execution_count": 226,
   "metadata": {},
   "outputs": [
    {
     "data": {
      "text/html": [
       "<div>\n",
       "<style scoped>\n",
       "    .dataframe tbody tr th:only-of-type {\n",
       "        vertical-align: middle;\n",
       "    }\n",
       "\n",
       "    .dataframe tbody tr th {\n",
       "        vertical-align: top;\n",
       "    }\n",
       "\n",
       "    .dataframe thead th {\n",
       "        text-align: right;\n",
       "    }\n",
       "</style>\n",
       "<table border=\"1\" class=\"dataframe\">\n",
       "  <thead>\n",
       "    <tr style=\"text-align: right;\">\n",
       "      <th></th>\n",
       "      <th>movie</th>\n",
       "      <th>year</th>\n",
       "      <th>genre</th>\n",
       "      <th>duration</th>\n",
       "      <th>certificate</th>\n",
       "      <th>directors</th>\n",
       "      <th>stars</th>\n",
       "      <th>rating</th>\n",
       "      <th>metascore</th>\n",
       "      <th>vote</th>\n",
       "      <th>gross</th>\n",
       "    </tr>\n",
       "  </thead>\n",
       "  <tbody>\n",
       "    <tr>\n",
       "      <th>2319</th>\n",
       "      <td>Hassan - The image of our common pain</td>\n",
       "      <td>2018</td>\n",
       "      <td>Drama, Family</td>\n",
       "      <td>111</td>\n",
       "      <td>Unrated</td>\n",
       "      <td>Emaan</td>\n",
       "      <td>Leena Alam, Haroon Azizi, Hakim Diljo, Emaan</td>\n",
       "      <td>10.0</td>\n",
       "      <td>0.0</td>\n",
       "      <td>5</td>\n",
       "      <td>0</td>\n",
       "    </tr>\n",
       "    <tr>\n",
       "      <th>1528</th>\n",
       "      <td>Halt: The Motion Picture</td>\n",
       "      <td>2018</td>\n",
       "      <td>Drama</td>\n",
       "      <td>110</td>\n",
       "      <td>Unrated</td>\n",
       "      <td>Jezar Riches</td>\n",
       "      <td>Harley Wallen, Andrew Dawe-Collins, Dennis Doy...</td>\n",
       "      <td>9.9</td>\n",
       "      <td>0.0</td>\n",
       "      <td>29</td>\n",
       "      <td>0</td>\n",
       "    </tr>\n",
       "    <tr>\n",
       "      <th>910</th>\n",
       "      <td>Onyx, Kings of the Grail</td>\n",
       "      <td>2018</td>\n",
       "      <td>History</td>\n",
       "      <td>0</td>\n",
       "      <td>Unrated</td>\n",
       "      <td>Roberto Girault</td>\n",
       "      <td>Jim Caviezel, Maria de Medeiros, Anthony Howel...</td>\n",
       "      <td>9.8</td>\n",
       "      <td>0.0</td>\n",
       "      <td>5</td>\n",
       "      <td>0</td>\n",
       "    </tr>\n",
       "    <tr>\n",
       "      <th>1562</th>\n",
       "      <td>Mr. Presto</td>\n",
       "      <td>2018</td>\n",
       "      <td>Comedy</td>\n",
       "      <td>111</td>\n",
       "      <td>Unrated</td>\n",
       "      <td>Joey Kneiser</td>\n",
       "      <td>Shane Spresser, Eric Giles, Jon Latham, Spence...</td>\n",
       "      <td>9.8</td>\n",
       "      <td>0.0</td>\n",
       "      <td>5</td>\n",
       "      <td>0</td>\n",
       "    </tr>\n",
       "    <tr>\n",
       "      <th>1727</th>\n",
       "      <td>Green on Green</td>\n",
       "      <td>2018</td>\n",
       "      <td>Adventure, Comedy</td>\n",
       "      <td>90</td>\n",
       "      <td>Unrated</td>\n",
       "      <td>Tom Knoblauch</td>\n",
       "      <td>Rachel Dinan, Leah Cardenas, David Remus, Drew...</td>\n",
       "      <td>9.8</td>\n",
       "      <td>0.0</td>\n",
       "      <td>5</td>\n",
       "      <td>0</td>\n",
       "    </tr>\n",
       "  </tbody>\n",
       "</table>\n",
       "</div>"
      ],
      "text/plain": [
       "                                      movie  year              genre  \\\n",
       "2319  Hassan - The image of our common pain  2018      Drama, Family   \n",
       "1528               Halt: The Motion Picture  2018              Drama   \n",
       "910                Onyx, Kings of the Grail  2018            History   \n",
       "1562                             Mr. Presto  2018             Comedy   \n",
       "1727                         Green on Green  2018  Adventure, Comedy   \n",
       "\n",
       "      duration certificate        directors  \\\n",
       "2319       111     Unrated            Emaan   \n",
       "1528       110     Unrated     Jezar Riches   \n",
       "910          0     Unrated  Roberto Girault   \n",
       "1562       111     Unrated     Joey Kneiser   \n",
       "1727        90     Unrated    Tom Knoblauch   \n",
       "\n",
       "                                                  stars  rating  metascore  \\\n",
       "2319       Leena Alam, Haroon Azizi, Hakim Diljo, Emaan    10.0        0.0   \n",
       "1528  Harley Wallen, Andrew Dawe-Collins, Dennis Doy...     9.9        0.0   \n",
       "910   Jim Caviezel, Maria de Medeiros, Anthony Howel...     9.8        0.0   \n",
       "1562  Shane Spresser, Eric Giles, Jon Latham, Spence...     9.8        0.0   \n",
       "1727  Rachel Dinan, Leah Cardenas, David Remus, Drew...     9.8        0.0   \n",
       "\n",
       "      vote  gross  \n",
       "2319     5      0  \n",
       "1528    29      0  \n",
       "910      5      0  \n",
       "1562     5      0  \n",
       "1727     5      0  "
      ]
     },
     "execution_count": 226,
     "metadata": {},
     "output_type": "execute_result"
    }
   ],
   "source": [
    "movies=movies[['movie','year','genre','duration','certificate','directors','stars','rating','metascore','vote','gross']]\n",
    "movies=movies.sort_values(by=['year','rating'],ascending=False)\n",
    "movies.head()"
   ]
  },
  {
   "cell_type": "code",
   "execution_count": 227,
   "metadata": {},
   "outputs": [
    {
     "data": {
      "text/html": [
       "<div>\n",
       "<style scoped>\n",
       "    .dataframe tbody tr th:only-of-type {\n",
       "        vertical-align: middle;\n",
       "    }\n",
       "\n",
       "    .dataframe tbody tr th {\n",
       "        vertical-align: top;\n",
       "    }\n",
       "\n",
       "    .dataframe thead th {\n",
       "        text-align: right;\n",
       "    }\n",
       "</style>\n",
       "<table border=\"1\" class=\"dataframe\">\n",
       "  <thead>\n",
       "    <tr style=\"text-align: right;\">\n",
       "      <th></th>\n",
       "      <th>index</th>\n",
       "      <th>movie</th>\n",
       "      <th>year</th>\n",
       "      <th>genre</th>\n",
       "      <th>duration</th>\n",
       "      <th>certificate</th>\n",
       "      <th>directors</th>\n",
       "      <th>stars</th>\n",
       "      <th>rating</th>\n",
       "      <th>metascore</th>\n",
       "      <th>vote</th>\n",
       "      <th>gross</th>\n",
       "    </tr>\n",
       "  </thead>\n",
       "  <tbody>\n",
       "    <tr>\n",
       "      <th>0</th>\n",
       "      <td>2319</td>\n",
       "      <td>Hassan - The image of our common pain</td>\n",
       "      <td>2018</td>\n",
       "      <td>Drama, Family</td>\n",
       "      <td>111</td>\n",
       "      <td>Unrated</td>\n",
       "      <td>Emaan</td>\n",
       "      <td>Leena Alam, Haroon Azizi, Hakim Diljo, Emaan</td>\n",
       "      <td>10.0</td>\n",
       "      <td>0.0</td>\n",
       "      <td>5</td>\n",
       "      <td>0</td>\n",
       "    </tr>\n",
       "    <tr>\n",
       "      <th>1</th>\n",
       "      <td>1528</td>\n",
       "      <td>Halt: The Motion Picture</td>\n",
       "      <td>2018</td>\n",
       "      <td>Drama</td>\n",
       "      <td>110</td>\n",
       "      <td>Unrated</td>\n",
       "      <td>Jezar Riches</td>\n",
       "      <td>Harley Wallen, Andrew Dawe-Collins, Dennis Doy...</td>\n",
       "      <td>9.9</td>\n",
       "      <td>0.0</td>\n",
       "      <td>29</td>\n",
       "      <td>0</td>\n",
       "    </tr>\n",
       "  </tbody>\n",
       "</table>\n",
       "</div>"
      ],
      "text/plain": [
       "   index                                  movie  year          genre  \\\n",
       "0   2319  Hassan - The image of our common pain  2018  Drama, Family   \n",
       "1   1528               Halt: The Motion Picture  2018          Drama   \n",
       "\n",
       "   duration certificate     directors  \\\n",
       "0       111     Unrated         Emaan   \n",
       "1       110     Unrated  Jezar Riches   \n",
       "\n",
       "                                               stars  rating  metascore  vote  \\\n",
       "0       Leena Alam, Haroon Azizi, Hakim Diljo, Emaan    10.0        0.0     5   \n",
       "1  Harley Wallen, Andrew Dawe-Collins, Dennis Doy...     9.9        0.0    29   \n",
       "\n",
       "   gross  \n",
       "0      0  \n",
       "1      0  "
      ]
     },
     "execution_count": 227,
     "metadata": {},
     "output_type": "execute_result"
    }
   ],
   "source": [
    "movies=movies.reset_index()\n",
    "movies.head(2)"
   ]
  },
  {
   "cell_type": "code",
   "execution_count": 228,
   "metadata": {},
   "outputs": [
    {
     "name": "stdout",
     "output_type": "stream",
     "text": [
      "<class 'pandas.core.frame.DataFrame'>\n",
      "RangeIndex: 48158 entries, 0 to 48157\n",
      "Data columns (total 11 columns):\n",
      "movie          48158 non-null object\n",
      "year           48158 non-null int64\n",
      "genre          48158 non-null object\n",
      "duration       48158 non-null int64\n",
      "certificate    48158 non-null object\n",
      "directors      48158 non-null object\n",
      "stars          48158 non-null object\n",
      "rating         48158 non-null float64\n",
      "metascore      48158 non-null float64\n",
      "vote           48158 non-null int64\n",
      "gross          48158 non-null int64\n",
      "dtypes: float64(2), int64(4), object(5)\n",
      "memory usage: 4.0+ MB\n"
     ]
    }
   ],
   "source": [
    "movies=movies.drop('index',axis=1)\n",
    "movies.info()"
   ]
  },
  {
   "cell_type": "code",
   "execution_count": 229,
   "metadata": {},
   "outputs": [],
   "source": [
    " movies.to_csv('movies_2.csv')"
   ]
  },
  {
   "cell_type": "markdown",
   "metadata": {},
   "source": [
    "## Analysis"
   ]
  },
  {
   "cell_type": "markdown",
   "metadata": {},
   "source": [
    "I then started exploring interesting facts about movies. To begin with,I checked the numbers of movies releasedper year. From the plot it is clear that there is a growing trend in number of movies released per year, with maximum movies released in 2018 in the last 10 years."
   ]
  },
  {
   "cell_type": "code",
   "execution_count": 230,
   "metadata": {},
   "outputs": [
    {
     "data": {
      "text/plain": [
       "year\n",
       "2009    3778\n",
       "2010    3759\n",
       "2011    4222\n",
       "2012    4420\n",
       "2013    4696\n",
       "2014    4911\n",
       "2015    5019\n",
       "2016    5387\n",
       "2017    5887\n",
       "2018    6079\n",
       "Name: movie, dtype: int64"
      ]
     },
     "execution_count": 230,
     "metadata": {},
     "output_type": "execute_result"
    }
   ],
   "source": [
    " movies.groupby('year')['movie'].count()"
   ]
  },
  {
   "cell_type": "code",
   "execution_count": 231,
   "metadata": {},
   "outputs": [
    {
     "data": {
      "text/plain": [
       "Text(0.5,1,'Movies made per year')"
      ]
     },
     "execution_count": 231,
     "metadata": {},
     "output_type": "execute_result"
    },
    {
     "data": {
      "image/png": "[encoded data removed]",
      "text/plain": [
       "<Figure size 432x288 with 1 Axes>"
      ]
     },
     "metadata": {},
     "output_type": "display_data"
    }
   ],
   "source": [
    "movies.groupby('year')['movie'].count().plot(kind='line')\n",
    "plt.xlabel('Year', fontsize=14)\n",
    "plt.ylabel('Number of movies made', fontsize=14)\n",
    "plt.title('Movies made per year', fontsize=16)"
   ]
  },
  {
   "cell_type": "markdown",
   "metadata": {},
   "source": [
    "Next, I explored the most popular words in movie titles. No doubt the most popular word in movie titles came up to be 'Love'..an intrinsic and unavoidable theme across cultures and age :) It is followed by 'Movie','Night','Dead','Life', 'Man' ."
   ]
  },
  {
   "cell_type": "code",
   "execution_count": 149,
   "metadata": {},
   "outputs": [
    {
     "data": {
      "image/png": "[encoded data removed]",
      "text/plain": [
       "<Figure size 1152x576 with 1 Axes>"
      ]
     },
     "metadata": {},
     "output_type": "display_data"
    }
   ],
   "source": [
    "title_corpus = ' '.join(movies['movie'])\n",
    "title_wordcloud = WordCloud( stopwords=STOPWORDS,background_color='white', height=2000, width=4000).generate(title_corpus)\n",
    "plt.figure(figsize=(16,8))\n",
    "plt.imshow(title_wordcloud)\n",
    "plt.axis('off')\n",
    "plt.show()"
   ]
  },
  {
   "cell_type": "code",
   "execution_count": 232,
   "metadata": {},
   "outputs": [
    {
     "data": {
      "text/html": [
       "<div>\n",
       "<style scoped>\n",
       "    .dataframe tbody tr th:only-of-type {\n",
       "        vertical-align: middle;\n",
       "    }\n",
       "\n",
       "    .dataframe tbody tr th {\n",
       "        vertical-align: top;\n",
       "    }\n",
       "\n",
       "    .dataframe thead th {\n",
       "        text-align: right;\n",
       "    }\n",
       "</style>\n",
       "<table border=\"1\" class=\"dataframe\">\n",
       "  <thead>\n",
       "    <tr style=\"text-align: right;\">\n",
       "      <th></th>\n",
       "      <th>movie</th>\n",
       "      <th>year</th>\n",
       "      <th>genre</th>\n",
       "      <th>duration</th>\n",
       "      <th>certificate</th>\n",
       "      <th>directors</th>\n",
       "      <th>stars</th>\n",
       "      <th>rating</th>\n",
       "      <th>metascore</th>\n",
       "      <th>vote</th>\n",
       "      <th>gross</th>\n",
       "    </tr>\n",
       "  </thead>\n",
       "  <tbody>\n",
       "    <tr>\n",
       "      <th>36</th>\n",
       "      <td>Christian Movie: Yearning</td>\n",
       "      <td>2018</td>\n",
       "      <td>Drama</td>\n",
       "      <td>0</td>\n",
       "      <td>Unrated</td>\n",
       "      <td>Chenze, Fan Li, Xiang Li</td>\n",
       "      <td>Duanzheng, Yanqing Gu, Simiao Xu, Chenze</td>\n",
       "      <td>9.3</td>\n",
       "      <td>0.0</td>\n",
       "      <td>49</td>\n",
       "      <td>0</td>\n",
       "    </tr>\n",
       "    <tr>\n",
       "      <th>56</th>\n",
       "      <td>Voyage Trekkers: The Movie</td>\n",
       "      <td>2018</td>\n",
       "      <td>Comedy</td>\n",
       "      <td>24</td>\n",
       "      <td>Unrated</td>\n",
       "      <td>Nathan Blackwell</td>\n",
       "      <td>Adam Rini, Gabrielle Van Buren, Logan Blackwel...</td>\n",
       "      <td>9.2</td>\n",
       "      <td>0.0</td>\n",
       "      <td>25</td>\n",
       "      <td>0</td>\n",
       "    </tr>\n",
       "    <tr>\n",
       "      <th>126</th>\n",
       "      <td>Penis Parker: The Movie</td>\n",
       "      <td>2018</td>\n",
       "      <td>Action</td>\n",
       "      <td>63</td>\n",
       "      <td>Unrated</td>\n",
       "      <td>Unknown</td>\n",
       "      <td>Unknown</td>\n",
       "      <td>8.8</td>\n",
       "      <td>0.0</td>\n",
       "      <td>33</td>\n",
       "      <td>0</td>\n",
       "    </tr>\n",
       "    <tr>\n",
       "      <th>218</th>\n",
       "      <td>Out On Stage (Movie Version)</td>\n",
       "      <td>2018</td>\n",
       "      <td>Comedy</td>\n",
       "      <td>0</td>\n",
       "      <td>Unrated</td>\n",
       "      <td>Samuel Brownfield</td>\n",
       "      <td>Gloria Bigelow, Janine Brito, Christopher Smit...</td>\n",
       "      <td>8.5</td>\n",
       "      <td>0.0</td>\n",
       "      <td>6</td>\n",
       "      <td>0</td>\n",
       "    </tr>\n",
       "    <tr>\n",
       "      <th>298</th>\n",
       "      <td>Boku no Hero Academia the Movie</td>\n",
       "      <td>2018</td>\n",
       "      <td>Animation, Action, Comedy</td>\n",
       "      <td>96</td>\n",
       "      <td>Unrated</td>\n",
       "      <td>Kenji Nagasaki</td>\n",
       "      <td>Justin Briner, Christopher Sabat, Ray Chase, E...</td>\n",
       "      <td>8.2</td>\n",
       "      <td>0.0</td>\n",
       "      <td>1524</td>\n",
       "      <td>5754556</td>\n",
       "    </tr>\n",
       "    <tr>\n",
       "      <th>677</th>\n",
       "      <td>Slapped! The Movie</td>\n",
       "      <td>2018</td>\n",
       "      <td>Comedy, Fantasy</td>\n",
       "      <td>119</td>\n",
       "      <td>Unrated</td>\n",
       "      <td>Alex Magaña</td>\n",
       "      <td>Jonah Anderson, Maureen Andronis, Aimée Binfor...</td>\n",
       "      <td>7.4</td>\n",
       "      <td>0.0</td>\n",
       "      <td>90</td>\n",
       "      <td>0</td>\n",
       "    </tr>\n",
       "    <tr>\n",
       "      <th>718</th>\n",
       "      <td>Chicken Girls: The Movie</td>\n",
       "      <td>2018</td>\n",
       "      <td>Comedy, Drama</td>\n",
       "      <td>0</td>\n",
       "      <td>Unrated</td>\n",
       "      <td>K. Asher Levin</td>\n",
       "      <td>Annie LeBlanc, Hayley LeBlanc, Hayden Summeral...</td>\n",
       "      <td>7.3</td>\n",
       "      <td>0.0</td>\n",
       "      <td>50</td>\n",
       "      <td>0</td>\n",
       "    </tr>\n",
       "    <tr>\n",
       "      <th>905</th>\n",
       "      <td>Milk and Honey: The Movie</td>\n",
       "      <td>2018</td>\n",
       "      <td>Action, Crime, Drama</td>\n",
       "      <td>102</td>\n",
       "      <td>Unrated</td>\n",
       "      <td>Matt Gambell</td>\n",
       "      <td>Mark Wingett, Claire King, Rachel Bright, Nich...</td>\n",
       "      <td>7.0</td>\n",
       "      <td>0.0</td>\n",
       "      <td>7</td>\n",
       "      <td>0</td>\n",
       "    </tr>\n",
       "    <tr>\n",
       "      <th>917</th>\n",
       "      <td>Little Horror Movie</td>\n",
       "      <td>2018</td>\n",
       "      <td>Horror</td>\n",
       "      <td>93</td>\n",
       "      <td>Unrated</td>\n",
       "      <td>Jérôme Cohen-Olivar</td>\n",
       "      <td>Einar Kuusk, Cody Heuer, Rosine Young, Rebecca...</td>\n",
       "      <td>7.0</td>\n",
       "      <td>0.0</td>\n",
       "      <td>52</td>\n",
       "      <td>0</td>\n",
       "    </tr>\n",
       "    <tr>\n",
       "      <th>1008</th>\n",
       "      <td>Teen Titans Go! To the Movies</td>\n",
       "      <td>2018</td>\n",
       "      <td>Animation, Action, Comedy</td>\n",
       "      <td>84</td>\n",
       "      <td>PG</td>\n",
       "      <td>Aaron Horvath, Peter Rida Michail</td>\n",
       "      <td>Greg Cipes, Scott Menville, Khary Payton, Tara...</td>\n",
       "      <td>6.8</td>\n",
       "      <td>69.0</td>\n",
       "      <td>9949</td>\n",
       "      <td>29562341</td>\n",
       "    </tr>\n",
       "    <tr>\n",
       "      <th>1346</th>\n",
       "      <td>Trek: The Movie</td>\n",
       "      <td>2018</td>\n",
       "      <td>Comedy, Drama, Family</td>\n",
       "      <td>102</td>\n",
       "      <td>PG</td>\n",
       "      <td>Alan Peterson</td>\n",
       "      <td>Austin R. Grant, Joel Bishop, Stefania Barr, C...</td>\n",
       "      <td>6.2</td>\n",
       "      <td>0.0</td>\n",
       "      <td>61</td>\n",
       "      <td>0</td>\n",
       "    </tr>\n",
       "    <tr>\n",
       "      <th>1483</th>\n",
       "      <td>Thomas &amp; Friends: Big World! Big Adventures! T...</td>\n",
       "      <td>2018</td>\n",
       "      <td>Animation, Action, Adventure</td>\n",
       "      <td>85</td>\n",
       "      <td>Unrated</td>\n",
       "      <td>David Stoten</td>\n",
       "      <td>Dona Adwera, Peter Andre, Richie Campbell, Chi...</td>\n",
       "      <td>5.9</td>\n",
       "      <td>0.0</td>\n",
       "      <td>106</td>\n",
       "      <td>0</td>\n",
       "    </tr>\n",
       "    <tr>\n",
       "      <th>1727</th>\n",
       "      <td>Damo &amp; Ivor: The Movie</td>\n",
       "      <td>2018</td>\n",
       "      <td>Comedy</td>\n",
       "      <td>87</td>\n",
       "      <td>Unrated</td>\n",
       "      <td>Rob Burke, Ronan Burke</td>\n",
       "      <td>Ruth McCabe, Andy Quirke, Graeme Singleton, Le...</td>\n",
       "      <td>5.4</td>\n",
       "      <td>0.0</td>\n",
       "      <td>141</td>\n",
       "      <td>0</td>\n",
       "    </tr>\n",
       "    <tr>\n",
       "      <th>2109</th>\n",
       "      <td>David Movie</td>\n",
       "      <td>2018</td>\n",
       "      <td>Drama</td>\n",
       "      <td>50</td>\n",
       "      <td>Unrated</td>\n",
       "      <td>Jarrell Crump</td>\n",
       "      <td>Dennis Adams, Zaida Baley, Ray Barber, Tracy B...</td>\n",
       "      <td>4.4</td>\n",
       "      <td>0.0</td>\n",
       "      <td>25</td>\n",
       "      <td>0</td>\n",
       "    </tr>\n",
       "    <tr>\n",
       "      <th>2445</th>\n",
       "      <td>Samhain: A Halloween Horror Movie</td>\n",
       "      <td>2018</td>\n",
       "      <td>Horror</td>\n",
       "      <td>80</td>\n",
       "      <td>Unrated</td>\n",
       "      <td>Joe Gray</td>\n",
       "      <td>Michelle Morocco, Drew Schrum</td>\n",
       "      <td>2.5</td>\n",
       "      <td>0.0</td>\n",
       "      <td>17</td>\n",
       "      <td>0</td>\n",
       "    </tr>\n",
       "    <tr>\n",
       "      <th>2593</th>\n",
       "      <td>The Best Movie Ever 4ever</td>\n",
       "      <td>2018</td>\n",
       "      <td>Action</td>\n",
       "      <td>0</td>\n",
       "      <td>Unrated</td>\n",
       "      <td>Chris Ramos, Chris Woods</td>\n",
       "      <td>Erik Barnhart Jr., Erik A. Barnhart, Joshua Ba...</td>\n",
       "      <td>0.0</td>\n",
       "      <td>0.0</td>\n",
       "      <td>0</td>\n",
       "      <td>0</td>\n",
       "    </tr>\n",
       "    <tr>\n",
       "      <th>2627</th>\n",
       "      <td>Skin: The Movie</td>\n",
       "      <td>2018</td>\n",
       "      <td>Comedy</td>\n",
       "      <td>51</td>\n",
       "      <td>Unrated</td>\n",
       "      <td>Ronn Kilby</td>\n",
       "      <td>Mark Christopher Lawrence, Merrick McCartha, M...</td>\n",
       "      <td>0.0</td>\n",
       "      <td>0.0</td>\n",
       "      <td>0</td>\n",
       "      <td>0</td>\n",
       "    </tr>\n",
       "    <tr>\n",
       "      <th>3072</th>\n",
       "      <td>Frat House: A College Party Movie</td>\n",
       "      <td>2018</td>\n",
       "      <td>Comedy</td>\n",
       "      <td>0</td>\n",
       "      <td>Unrated</td>\n",
       "      <td>Rodney Cox</td>\n",
       "      <td>Michael Branch, Terrell Briggs, Antonio Brooki...</td>\n",
       "      <td>0.0</td>\n",
       "      <td>0.0</td>\n",
       "      <td>0</td>\n",
       "      <td>0</td>\n",
       "    </tr>\n",
       "    <tr>\n",
       "      <th>3130</th>\n",
       "      <td>A Maine Movie</td>\n",
       "      <td>2018</td>\n",
       "      <td>Comedy</td>\n",
       "      <td>78</td>\n",
       "      <td>Unrated</td>\n",
       "      <td>Matt Nelsen</td>\n",
       "      <td>Carmen Christopher, Ana Fabrega, Jessica Frey,...</td>\n",
       "      <td>0.0</td>\n",
       "      <td>0.0</td>\n",
       "      <td>0</td>\n",
       "      <td>0</td>\n",
       "    </tr>\n",
       "    <tr>\n",
       "      <th>3154</th>\n",
       "      <td>Palau the Movie</td>\n",
       "      <td>2018</td>\n",
       "      <td>Biography</td>\n",
       "      <td>0</td>\n",
       "      <td>Unrated</td>\n",
       "      <td>Kevin Knoblock</td>\n",
       "      <td>Manuel Espinosa, Alexandra Bard, Veronica Calv...</td>\n",
       "      <td>0.0</td>\n",
       "      <td>0.0</td>\n",
       "      <td>0</td>\n",
       "      <td>0</td>\n",
       "    </tr>\n",
       "    <tr>\n",
       "      <th>3209</th>\n",
       "      <td>Animal Crossing: The Movie</td>\n",
       "      <td>2018</td>\n",
       "      <td>Animation</td>\n",
       "      <td>87</td>\n",
       "      <td>Unrated</td>\n",
       "      <td>Joji Shimura</td>\n",
       "      <td>Cody Burns, Alexa Danielle Sanchez, Justin Tao...</td>\n",
       "      <td>0.0</td>\n",
       "      <td>0.0</td>\n",
       "      <td>0</td>\n",
       "      <td>0</td>\n",
       "    </tr>\n",
       "    <tr>\n",
       "      <th>3366</th>\n",
       "      <td>Atlanta Vampire Movie</td>\n",
       "      <td>2018</td>\n",
       "      <td>Comedy, Horror</td>\n",
       "      <td>110</td>\n",
       "      <td>Unrated</td>\n",
       "      <td>Giles Shepherd</td>\n",
       "      <td>Chelsea Howard, Carl W. Childers, Artemis, Jev...</td>\n",
       "      <td>0.0</td>\n",
       "      <td>0.0</td>\n",
       "      <td>0</td>\n",
       "      <td>0</td>\n",
       "    </tr>\n",
       "    <tr>\n",
       "      <th>3374</th>\n",
       "      <td>Count Time the Movie</td>\n",
       "      <td>2018</td>\n",
       "      <td>Drama</td>\n",
       "      <td>94</td>\n",
       "      <td>Unrated</td>\n",
       "      <td>Jason 'Kulayd' Clayton</td>\n",
       "      <td>Jason 'Kulayd' Clayton, Jared Withrow, Melvin ...</td>\n",
       "      <td>0.0</td>\n",
       "      <td>0.0</td>\n",
       "      <td>0</td>\n",
       "      <td>0</td>\n",
       "    </tr>\n",
       "    <tr>\n",
       "      <th>3484</th>\n",
       "      <td>The Minecraft Adventure Time Movie</td>\n",
       "      <td>2018</td>\n",
       "      <td>Animation, Action, Adventure</td>\n",
       "      <td>0</td>\n",
       "      <td>Unrated</td>\n",
       "      <td>Gabriel Combs</td>\n",
       "      <td>Dylan Bond, Gabriel Combs</td>\n",
       "      <td>0.0</td>\n",
       "      <td>0.0</td>\n",
       "      <td>0</td>\n",
       "      <td>0</td>\n",
       "    </tr>\n",
       "    <tr>\n",
       "      <th>3708</th>\n",
       "      <td>Begin Again the Movie</td>\n",
       "      <td>2018</td>\n",
       "      <td>Comedy, Drama</td>\n",
       "      <td>0</td>\n",
       "      <td>Unrated</td>\n",
       "      <td>Vickie Doerr</td>\n",
       "      <td>Mitch Brauer, Micaiah Bruce, Mark Carter, Mark...</td>\n",
       "      <td>0.0</td>\n",
       "      <td>0.0</td>\n",
       "      <td>0</td>\n",
       "      <td>0</td>\n",
       "    </tr>\n",
       "    <tr>\n",
       "      <th>3721</th>\n",
       "      <td>YouTube Poop: The Movie - Fart 2</td>\n",
       "      <td>2018</td>\n",
       "      <td>Comedy</td>\n",
       "      <td>79</td>\n",
       "      <td>Unrated</td>\n",
       "      <td>Myles Byrne-Dunhill</td>\n",
       "      <td>Unknown</td>\n",
       "      <td>0.0</td>\n",
       "      <td>0.0</td>\n",
       "      <td>0</td>\n",
       "      <td>0</td>\n",
       "    </tr>\n",
       "    <tr>\n",
       "      <th>3757</th>\n",
       "      <td>The Stikbot Movie</td>\n",
       "      <td>2018</td>\n",
       "      <td>Animation, Action, Adventure</td>\n",
       "      <td>0</td>\n",
       "      <td>Unrated</td>\n",
       "      <td>Jake Silberman</td>\n",
       "      <td>Unknown</td>\n",
       "      <td>0.0</td>\n",
       "      <td>0.0</td>\n",
       "      <td>0</td>\n",
       "      <td>0</td>\n",
       "    </tr>\n",
       "    <tr>\n",
       "      <th>4008</th>\n",
       "      <td>Kopps The Movie</td>\n",
       "      <td>2018</td>\n",
       "      <td>Action, Comedy</td>\n",
       "      <td>0</td>\n",
       "      <td>Unrated</td>\n",
       "      <td>Amy Adams</td>\n",
       "      <td>Raymelle A. Adams, Daniel Hutchinson, Ryan D. ...</td>\n",
       "      <td>0.0</td>\n",
       "      <td>0.0</td>\n",
       "      <td>0</td>\n",
       "      <td>0</td>\n",
       "    </tr>\n",
       "    <tr>\n",
       "      <th>4010</th>\n",
       "      <td>Rubber The Movie</td>\n",
       "      <td>2018</td>\n",
       "      <td>Animation, Comedy, Family</td>\n",
       "      <td>53</td>\n",
       "      <td>Unrated</td>\n",
       "      <td>Alexander</td>\n",
       "      <td>Alexander</td>\n",
       "      <td>0.0</td>\n",
       "      <td>0.0</td>\n",
       "      <td>0</td>\n",
       "      <td>0</td>\n",
       "    </tr>\n",
       "    <tr>\n",
       "      <th>4212</th>\n",
       "      <td>The Jeff Show Movie</td>\n",
       "      <td>2018</td>\n",
       "      <td>Comedy</td>\n",
       "      <td>81</td>\n",
       "      <td>Unrated</td>\n",
       "      <td>Jeffrey Ashkin</td>\n",
       "      <td>Sammy Anderson, Alex Preble, Jeffrey Ashkin, K...</td>\n",
       "      <td>0.0</td>\n",
       "      <td>0.0</td>\n",
       "      <td>0</td>\n",
       "      <td>0</td>\n",
       "    </tr>\n",
       "    <tr>\n",
       "      <th>...</th>\n",
       "      <td>...</td>\n",
       "      <td>...</td>\n",
       "      <td>...</td>\n",
       "      <td>...</td>\n",
       "      <td>...</td>\n",
       "      <td>...</td>\n",
       "      <td>...</td>\n",
       "      <td>...</td>\n",
       "      <td>...</td>\n",
       "      <td>...</td>\n",
       "      <td>...</td>\n",
       "    </tr>\n",
       "    <tr>\n",
       "      <th>45455</th>\n",
       "      <td>Grown Up Movie Star</td>\n",
       "      <td>2009</td>\n",
       "      <td>Drama</td>\n",
       "      <td>95</td>\n",
       "      <td>Unrated</td>\n",
       "      <td>Adriana Maggs</td>\n",
       "      <td>Shawn Doyle, Tatiana Maslany, Julia Kennedy, J...</td>\n",
       "      <td>6.4</td>\n",
       "      <td>0.0</td>\n",
       "      <td>308</td>\n",
       "      <td>0</td>\n",
       "    </tr>\n",
       "    <tr>\n",
       "      <th>45658</th>\n",
       "      <td>Macbeth the Movie</td>\n",
       "      <td>2009</td>\n",
       "      <td>Drama</td>\n",
       "      <td>117</td>\n",
       "      <td>Unrated</td>\n",
       "      <td>Brett Eshelman</td>\n",
       "      <td>Chris Canfield, Kat Olsson, Breanna Rankin, Si...</td>\n",
       "      <td>6.2</td>\n",
       "      <td>0.0</td>\n",
       "      <td>6</td>\n",
       "      <td>0</td>\n",
       "    </tr>\n",
       "    <tr>\n",
       "      <th>45913</th>\n",
       "      <td>Yaya &amp; Angelina: The Spoiled Brat Movie</td>\n",
       "      <td>2009</td>\n",
       "      <td>Comedy</td>\n",
       "      <td>0</td>\n",
       "      <td>Unrated</td>\n",
       "      <td>Michael Tuviera</td>\n",
       "      <td>Ogie Alcasid, Michael V., Aiko Melendez, Jomar...</td>\n",
       "      <td>5.8</td>\n",
       "      <td>0.0</td>\n",
       "      <td>33</td>\n",
       "      <td>0</td>\n",
       "    </tr>\n",
       "    <tr>\n",
       "      <th>45941</th>\n",
       "      <td>Shelter: A Monster Movie</td>\n",
       "      <td>2009</td>\n",
       "      <td>Crime</td>\n",
       "      <td>0</td>\n",
       "      <td>Unrated</td>\n",
       "      <td>J. Horton</td>\n",
       "      <td>Robert Valentino Kitchen, Blaine Cade, Jason S...</td>\n",
       "      <td>5.8</td>\n",
       "      <td>0.0</td>\n",
       "      <td>9</td>\n",
       "      <td>0</td>\n",
       "    </tr>\n",
       "    <tr>\n",
       "      <th>45984</th>\n",
       "      <td>Jesus People: The Movie</td>\n",
       "      <td>2009</td>\n",
       "      <td>Comedy</td>\n",
       "      <td>90</td>\n",
       "      <td>Unrated</td>\n",
       "      <td>Jason Naumann</td>\n",
       "      <td>Tim Bagley, Mindy Sterling, Joel McCrary, Wend...</td>\n",
       "      <td>5.7</td>\n",
       "      <td>0.0</td>\n",
       "      <td>79</td>\n",
       "      <td>0</td>\n",
       "    </tr>\n",
       "    <tr>\n",
       "      <th>46055</th>\n",
       "      <td>The Strawberry Shortcake Movie: Sky's the Limit</td>\n",
       "      <td>2009</td>\n",
       "      <td>Animation, Family</td>\n",
       "      <td>72</td>\n",
       "      <td>G</td>\n",
       "      <td>David Mucci Fassett</td>\n",
       "      <td>Anna Cummer, Ashleigh Ball, Ingrid Nilson, Jan...</td>\n",
       "      <td>5.6</td>\n",
       "      <td>0.0</td>\n",
       "      <td>55</td>\n",
       "      <td>0</td>\n",
       "    </tr>\n",
       "    <tr>\n",
       "      <th>46113</th>\n",
       "      <td>Parody Movie</td>\n",
       "      <td>2009</td>\n",
       "      <td>Adventure, Comedy, Sci-Fi</td>\n",
       "      <td>81</td>\n",
       "      <td>TV-14</td>\n",
       "      <td>Charles Dewandeler</td>\n",
       "      <td>Jennifer Altimore, Scott Czasak, Charles Dewan...</td>\n",
       "      <td>5.5</td>\n",
       "      <td>0.0</td>\n",
       "      <td>37</td>\n",
       "      <td>0</td>\n",
       "    </tr>\n",
       "    <tr>\n",
       "      <th>46148</th>\n",
       "      <td>Bazookas: The Movie</td>\n",
       "      <td>2009</td>\n",
       "      <td>Comedy</td>\n",
       "      <td>89</td>\n",
       "      <td>R</td>\n",
       "      <td>Michael G. Leonard</td>\n",
       "      <td>Vinny Duwe, Sean R. Brooks, Angela Cohen, Nico...</td>\n",
       "      <td>5.4</td>\n",
       "      <td>0.0</td>\n",
       "      <td>74</td>\n",
       "      <td>0</td>\n",
       "    </tr>\n",
       "    <tr>\n",
       "      <th>46302</th>\n",
       "      <td>W the Movie</td>\n",
       "      <td>2009</td>\n",
       "      <td>Fantasy</td>\n",
       "      <td>95</td>\n",
       "      <td>Unrated</td>\n",
       "      <td>Alfred Eaker, Ross St. Just</td>\n",
       "      <td>Alfred Eaker, Pink Freud, John M. Bennett, Ros...</td>\n",
       "      <td>5.2</td>\n",
       "      <td>0.0</td>\n",
       "      <td>21</td>\n",
       "      <td>0</td>\n",
       "    </tr>\n",
       "    <tr>\n",
       "      <th>46418</th>\n",
       "      <td>A Zombie Movie</td>\n",
       "      <td>2009</td>\n",
       "      <td>Comedy</td>\n",
       "      <td>90</td>\n",
       "      <td>Unrated</td>\n",
       "      <td>Glenn Payne</td>\n",
       "      <td>Kenny Cook, Ryan Coon, Chris Counts, Casey Dil...</td>\n",
       "      <td>4.9</td>\n",
       "      <td>0.0</td>\n",
       "      <td>28</td>\n",
       "      <td>0</td>\n",
       "    </tr>\n",
       "    <tr>\n",
       "      <th>46608</th>\n",
       "      <td>Hannah Montana: The Movie</td>\n",
       "      <td>2009</td>\n",
       "      <td>Comedy, Drama, Family</td>\n",
       "      <td>102</td>\n",
       "      <td>G</td>\n",
       "      <td>Peter Chelsom</td>\n",
       "      <td>Miley Cyrus, Emily Osment, Billy Ray Cyrus, Ja...</td>\n",
       "      <td>4.4</td>\n",
       "      <td>47.0</td>\n",
       "      <td>36146</td>\n",
       "      <td>79566871</td>\n",
       "    </tr>\n",
       "    <tr>\n",
       "      <th>46667</th>\n",
       "      <td>Zombie Town: The Movie</td>\n",
       "      <td>2009</td>\n",
       "      <td>Adventure, Horror</td>\n",
       "      <td>75</td>\n",
       "      <td>Unrated</td>\n",
       "      <td>Nicholas Aubrey</td>\n",
       "      <td>Nicholas Aubrey, Carolyn Tranghese, Michael Au...</td>\n",
       "      <td>4.3</td>\n",
       "      <td>0.0</td>\n",
       "      <td>18</td>\n",
       "      <td>0</td>\n",
       "    </tr>\n",
       "    <tr>\n",
       "      <th>46672</th>\n",
       "      <td>999 West Z Street: The Movie</td>\n",
       "      <td>2009</td>\n",
       "      <td>Horror</td>\n",
       "      <td>0</td>\n",
       "      <td>Unrated</td>\n",
       "      <td>Jerell Gray</td>\n",
       "      <td>Daryl Garbiso, Jayden Green, Kai Lanette, Shan...</td>\n",
       "      <td>4.3</td>\n",
       "      <td>0.0</td>\n",
       "      <td>15</td>\n",
       "      <td>0</td>\n",
       "    </tr>\n",
       "    <tr>\n",
       "      <th>46696</th>\n",
       "      <td>The 420 Movie</td>\n",
       "      <td>2009</td>\n",
       "      <td>Comedy</td>\n",
       "      <td>79</td>\n",
       "      <td>R</td>\n",
       "      <td>James Blackburn, Scott Flick, Robert Nathan Gl...</td>\n",
       "      <td>James Blackburn, Scott Flick, Tom B. Gleason, ...</td>\n",
       "      <td>4.2</td>\n",
       "      <td>0.0</td>\n",
       "      <td>13</td>\n",
       "      <td>0</td>\n",
       "    </tr>\n",
       "    <tr>\n",
       "      <th>46849</th>\n",
       "      <td>Steppin: The Movie</td>\n",
       "      <td>2009</td>\n",
       "      <td>Comedy, Music</td>\n",
       "      <td>138</td>\n",
       "      <td>PG-13</td>\n",
       "      <td>Michael Taliferro</td>\n",
       "      <td>Wesley Jonathan, Chrystee Pharris, Monica Allg...</td>\n",
       "      <td>3.5</td>\n",
       "      <td>0.0</td>\n",
       "      <td>308</td>\n",
       "      <td>0</td>\n",
       "    </tr>\n",
       "    <tr>\n",
       "      <th>46893</th>\n",
       "      <td>Fish Bait: The Movie</td>\n",
       "      <td>2009</td>\n",
       "      <td>Horror</td>\n",
       "      <td>90</td>\n",
       "      <td>Unrated</td>\n",
       "      <td>Jeff Joslin, Darby Lynn Totten</td>\n",
       "      <td>Paul Simmons, Frank Murphy, Dave Snow, Dave Fe...</td>\n",
       "      <td>3.3</td>\n",
       "      <td>0.0</td>\n",
       "      <td>7</td>\n",
       "      <td>0</td>\n",
       "    </tr>\n",
       "    <tr>\n",
       "      <th>46997</th>\n",
       "      <td>Unrated: The Movie</td>\n",
       "      <td>2009</td>\n",
       "      <td>Horror, Musical</td>\n",
       "      <td>81</td>\n",
       "      <td>Unrated</td>\n",
       "      <td>Timo Rose, Andreas Schnaas</td>\n",
       "      <td>Eleanor James, Eileen Daly, Magdalèna Kalley, ...</td>\n",
       "      <td>2.3</td>\n",
       "      <td>0.0</td>\n",
       "      <td>276</td>\n",
       "      <td>0</td>\n",
       "    </tr>\n",
       "    <tr>\n",
       "      <th>47008</th>\n",
       "      <td>Operation Repo: The Movie</td>\n",
       "      <td>2009</td>\n",
       "      <td>Comedy, Drama</td>\n",
       "      <td>0</td>\n",
       "      <td>Unrated</td>\n",
       "      <td>Lou Pizarro</td>\n",
       "      <td>Patricia Ayame Thomson, Lou Pizarro, Pedro Inf...</td>\n",
       "      <td>2.0</td>\n",
       "      <td>0.0</td>\n",
       "      <td>256</td>\n",
       "      <td>0</td>\n",
       "    </tr>\n",
       "    <tr>\n",
       "      <th>47028</th>\n",
       "      <td>Blunted House: The Movie</td>\n",
       "      <td>2009</td>\n",
       "      <td>Comedy</td>\n",
       "      <td>90</td>\n",
       "      <td>Unrated</td>\n",
       "      <td>Norman Miller</td>\n",
       "      <td>Ajubeka Adekoya, Don Anthony, Ric-hard Baker, ...</td>\n",
       "      <td>0.0</td>\n",
       "      <td>0.0</td>\n",
       "      <td>0</td>\n",
       "      <td>0</td>\n",
       "    </tr>\n",
       "    <tr>\n",
       "      <th>47074</th>\n",
       "      <td>Urban Soul: The Movie</td>\n",
       "      <td>2009</td>\n",
       "      <td>Musical</td>\n",
       "      <td>57</td>\n",
       "      <td>Unrated</td>\n",
       "      <td>Infmega</td>\n",
       "      <td>Maya Azucena, Charles Anthony Burks, Kristen C...</td>\n",
       "      <td>0.0</td>\n",
       "      <td>0.0</td>\n",
       "      <td>0</td>\n",
       "      <td>0</td>\n",
       "    </tr>\n",
       "    <tr>\n",
       "      <th>47171</th>\n",
       "      <td>Mashup Movie</td>\n",
       "      <td>2009</td>\n",
       "      <td>Comedy</td>\n",
       "      <td>87</td>\n",
       "      <td>Unrated</td>\n",
       "      <td>Geoff Atkinson, Kim Fuller</td>\n",
       "      <td>Jon Glover, Lewis Macleod, Jess Robinson</td>\n",
       "      <td>0.0</td>\n",
       "      <td>0.0</td>\n",
       "      <td>0</td>\n",
       "      <td>0</td>\n",
       "    </tr>\n",
       "    <tr>\n",
       "      <th>47180</th>\n",
       "      <td>Car Park: The Movie</td>\n",
       "      <td>2009</td>\n",
       "      <td>Drama</td>\n",
       "      <td>0</td>\n",
       "      <td>Unrated</td>\n",
       "      <td>Bill McCoid</td>\n",
       "      <td>Julie Hobbs, Alan Keegan</td>\n",
       "      <td>0.0</td>\n",
       "      <td>0.0</td>\n",
       "      <td>0</td>\n",
       "      <td>0</td>\n",
       "    </tr>\n",
       "    <tr>\n",
       "      <th>47190</th>\n",
       "      <td>Midnight Movie Madness</td>\n",
       "      <td>2009</td>\n",
       "      <td>Comedy, Horror</td>\n",
       "      <td>75</td>\n",
       "      <td>Unrated</td>\n",
       "      <td>Todd Tjersland</td>\n",
       "      <td>Gevin Booth, Isaac Cooper, Noname Jane, Jace M...</td>\n",
       "      <td>0.0</td>\n",
       "      <td>0.0</td>\n",
       "      <td>0</td>\n",
       "      <td>0</td>\n",
       "    </tr>\n",
       "    <tr>\n",
       "      <th>47403</th>\n",
       "      <td>Autistic License Movie</td>\n",
       "      <td>2009</td>\n",
       "      <td>Biography, Comedy, Drama</td>\n",
       "      <td>89</td>\n",
       "      <td>Unrated</td>\n",
       "      <td>Peter Moore</td>\n",
       "      <td>Damon Brook, Camille D'Ambrose, Lynnea Doublet...</td>\n",
       "      <td>0.0</td>\n",
       "      <td>0.0</td>\n",
       "      <td>0</td>\n",
       "      <td>0</td>\n",
       "    </tr>\n",
       "    <tr>\n",
       "      <th>47619</th>\n",
       "      <td>Loyalty the Movie</td>\n",
       "      <td>2009</td>\n",
       "      <td>Action</td>\n",
       "      <td>152</td>\n",
       "      <td>R</td>\n",
       "      <td>Samuel Wheeler III</td>\n",
       "      <td>Unknown</td>\n",
       "      <td>0.0</td>\n",
       "      <td>0.0</td>\n",
       "      <td>0</td>\n",
       "      <td>0</td>\n",
       "    </tr>\n",
       "    <tr>\n",
       "      <th>47640</th>\n",
       "      <td>Disco Cops: The Movie</td>\n",
       "      <td>2009</td>\n",
       "      <td>Action, Comedy, Crime</td>\n",
       "      <td>50</td>\n",
       "      <td>PG</td>\n",
       "      <td>Tanner Robbins</td>\n",
       "      <td>Jake Lovett, Mitch Robbins, Mitchell Robbins, ...</td>\n",
       "      <td>0.0</td>\n",
       "      <td>0.0</td>\n",
       "      <td>0</td>\n",
       "      <td>0</td>\n",
       "    </tr>\n",
       "    <tr>\n",
       "      <th>47738</th>\n",
       "      <td>Movies 101</td>\n",
       "      <td>2009</td>\n",
       "      <td>Comedy</td>\n",
       "      <td>0</td>\n",
       "      <td>Unrated</td>\n",
       "      <td>Christopher Lloyd Hirtz</td>\n",
       "      <td>Chase Applegarth, Steve Applegarth, Rich Calza...</td>\n",
       "      <td>0.0</td>\n",
       "      <td>0.0</td>\n",
       "      <td>0</td>\n",
       "      <td>0</td>\n",
       "    </tr>\n",
       "    <tr>\n",
       "      <th>47763</th>\n",
       "      <td>Sweets: A College Sitcom Movie?</td>\n",
       "      <td>2009</td>\n",
       "      <td>Comedy</td>\n",
       "      <td>67</td>\n",
       "      <td>Unrated</td>\n",
       "      <td>Alan Abulencia</td>\n",
       "      <td>Alan Abulencia, Jeff Blum, Matt Brownell, Davi...</td>\n",
       "      <td>0.0</td>\n",
       "      <td>0.0</td>\n",
       "      <td>0</td>\n",
       "      <td>0</td>\n",
       "    </tr>\n",
       "    <tr>\n",
       "      <th>48065</th>\n",
       "      <td>I'll Never Make a Movie About Michael Bolton A...</td>\n",
       "      <td>2009</td>\n",
       "      <td>Adventure, Comedy, Music</td>\n",
       "      <td>71</td>\n",
       "      <td>Unrated</td>\n",
       "      <td>Xander Moffat</td>\n",
       "      <td>Nic Zawarski, Max Barth, Jennah Gredell, Max B...</td>\n",
       "      <td>0.0</td>\n",
       "      <td>0.0</td>\n",
       "      <td>0</td>\n",
       "      <td>0</td>\n",
       "    </tr>\n",
       "    <tr>\n",
       "      <th>48107</th>\n",
       "      <td>Rotating: The Movie</td>\n",
       "      <td>2009</td>\n",
       "      <td>Action, Adventure, Fantasy</td>\n",
       "      <td>0</td>\n",
       "      <td>Unrated</td>\n",
       "      <td>Zack Youngduk</td>\n",
       "      <td>Unknown</td>\n",
       "      <td>0.0</td>\n",
       "      <td>0.0</td>\n",
       "      <td>0</td>\n",
       "      <td>0</td>\n",
       "    </tr>\n",
       "  </tbody>\n",
       "</table>\n",
       "<p>508 rows × 11 columns</p>\n",
       "</div>"
      ],
      "text/plain": [
       "                                                   movie  year  \\\n",
       "36                             Christian Movie: Yearning  2018   \n",
       "56                            Voyage Trekkers: The Movie  2018   \n",
       "126                              Penis Parker: The Movie  2018   \n",
       "218                         Out On Stage (Movie Version)  2018   \n",
       "298                      Boku no Hero Academia the Movie  2018   \n",
       "677                                   Slapped! The Movie  2018   \n",
       "718                             Chicken Girls: The Movie  2018   \n",
       "905                            Milk and Honey: The Movie  2018   \n",
       "917                                  Little Horror Movie  2018   \n",
       "1008                       Teen Titans Go! To the Movies  2018   \n",
       "1346                                     Trek: The Movie  2018   \n",
       "1483   Thomas & Friends: Big World! Big Adventures! T...  2018   \n",
       "1727                              Damo & Ivor: The Movie  2018   \n",
       "2109                                         David Movie  2018   \n",
       "2445                   Samhain: A Halloween Horror Movie  2018   \n",
       "2593                           The Best Movie Ever 4ever  2018   \n",
       "2627                                     Skin: The Movie  2018   \n",
       "3072                   Frat House: A College Party Movie  2018   \n",
       "3130                                       A Maine Movie  2018   \n",
       "3154                                     Palau the Movie  2018   \n",
       "3209                          Animal Crossing: The Movie  2018   \n",
       "3366                               Atlanta Vampire Movie  2018   \n",
       "3374                                Count Time the Movie  2018   \n",
       "3484                  The Minecraft Adventure Time Movie  2018   \n",
       "3708                               Begin Again the Movie  2018   \n",
       "3721                    YouTube Poop: The Movie - Fart 2  2018   \n",
       "3757                                   The Stikbot Movie  2018   \n",
       "4008                                     Kopps The Movie  2018   \n",
       "4010                                    Rubber The Movie  2018   \n",
       "4212                                 The Jeff Show Movie  2018   \n",
       "...                                                  ...   ...   \n",
       "45455                                Grown Up Movie Star  2009   \n",
       "45658                                  Macbeth the Movie  2009   \n",
       "45913            Yaya & Angelina: The Spoiled Brat Movie  2009   \n",
       "45941                           Shelter: A Monster Movie  2009   \n",
       "45984                            Jesus People: The Movie  2009   \n",
       "46055    The Strawberry Shortcake Movie: Sky's the Limit  2009   \n",
       "46113                                       Parody Movie  2009   \n",
       "46148                                Bazookas: The Movie  2009   \n",
       "46302                                        W the Movie  2009   \n",
       "46418                                     A Zombie Movie  2009   \n",
       "46608                          Hannah Montana: The Movie  2009   \n",
       "46667                             Zombie Town: The Movie  2009   \n",
       "46672                       999 West Z Street: The Movie  2009   \n",
       "46696                                      The 420 Movie  2009   \n",
       "46849                                 Steppin: The Movie  2009   \n",
       "46893                               Fish Bait: The Movie  2009   \n",
       "46997                                 Unrated: The Movie  2009   \n",
       "47008                          Operation Repo: The Movie  2009   \n",
       "47028                           Blunted House: The Movie  2009   \n",
       "47074                              Urban Soul: The Movie  2009   \n",
       "47171                                       Mashup Movie  2009   \n",
       "47180                                Car Park: The Movie  2009   \n",
       "47190                             Midnight Movie Madness  2009   \n",
       "47403                             Autistic License Movie  2009   \n",
       "47619                                  Loyalty the Movie  2009   \n",
       "47640                              Disco Cops: The Movie  2009   \n",
       "47738                                         Movies 101  2009   \n",
       "47763                    Sweets: A College Sitcom Movie?  2009   \n",
       "48065  I'll Never Make a Movie About Michael Bolton A...  2009   \n",
       "48107                                Rotating: The Movie  2009   \n",
       "\n",
       "                              genre  duration certificate  \\\n",
       "36                            Drama         0     Unrated   \n",
       "56                           Comedy        24     Unrated   \n",
       "126                          Action        63     Unrated   \n",
       "218                          Comedy         0     Unrated   \n",
       "298       Animation, Action, Comedy        96     Unrated   \n",
       "677                 Comedy, Fantasy       119     Unrated   \n",
       "718                   Comedy, Drama         0     Unrated   \n",
       "905            Action, Crime, Drama       102     Unrated   \n",
       "917                          Horror        93     Unrated   \n",
       "1008      Animation, Action, Comedy        84          PG   \n",
       "1346          Comedy, Drama, Family       102          PG   \n",
       "1483   Animation, Action, Adventure        85     Unrated   \n",
       "1727                         Comedy        87     Unrated   \n",
       "2109                          Drama        50     Unrated   \n",
       "2445                         Horror        80     Unrated   \n",
       "2593                         Action         0     Unrated   \n",
       "2627                         Comedy        51     Unrated   \n",
       "3072                         Comedy         0     Unrated   \n",
       "3130                         Comedy        78     Unrated   \n",
       "3154                      Biography         0     Unrated   \n",
       "3209                      Animation        87     Unrated   \n",
       "3366                 Comedy, Horror       110     Unrated   \n",
       "3374                          Drama        94     Unrated   \n",
       "3484   Animation, Action, Adventure         0     Unrated   \n",
       "3708                  Comedy, Drama         0     Unrated   \n",
       "3721                         Comedy        79     Unrated   \n",
       "3757   Animation, Action, Adventure         0     Unrated   \n",
       "4008                 Action, Comedy         0     Unrated   \n",
       "4010      Animation, Comedy, Family        53     Unrated   \n",
       "4212                         Comedy        81     Unrated   \n",
       "...                             ...       ...         ...   \n",
       "45455                         Drama        95     Unrated   \n",
       "45658                         Drama       117     Unrated   \n",
       "45913                        Comedy         0     Unrated   \n",
       "45941                         Crime         0     Unrated   \n",
       "45984                        Comedy        90     Unrated   \n",
       "46055             Animation, Family        72           G   \n",
       "46113     Adventure, Comedy, Sci-Fi        81       TV-14   \n",
       "46148                        Comedy        89           R   \n",
       "46302                       Fantasy        95     Unrated   \n",
       "46418                        Comedy        90     Unrated   \n",
       "46608         Comedy, Drama, Family       102           G   \n",
       "46667             Adventure, Horror        75     Unrated   \n",
       "46672                        Horror         0     Unrated   \n",
       "46696                        Comedy        79           R   \n",
       "46849                 Comedy, Music       138       PG-13   \n",
       "46893                        Horror        90     Unrated   \n",
       "46997               Horror, Musical        81     Unrated   \n",
       "47008                 Comedy, Drama         0     Unrated   \n",
       "47028                        Comedy        90     Unrated   \n",
       "47074                       Musical        57     Unrated   \n",
       "47171                        Comedy        87     Unrated   \n",
       "47180                         Drama         0     Unrated   \n",
       "47190                Comedy, Horror        75     Unrated   \n",
       "47403      Biography, Comedy, Drama        89     Unrated   \n",
       "47619                        Action       152           R   \n",
       "47640         Action, Comedy, Crime        50          PG   \n",
       "47738                        Comedy         0     Unrated   \n",
       "47763                        Comedy        67     Unrated   \n",
       "48065      Adventure, Comedy, Music        71     Unrated   \n",
       "48107    Action, Adventure, Fantasy         0     Unrated   \n",
       "\n",
       "                                               directors  \\\n",
       "36                              Chenze, Fan Li, Xiang Li   \n",
       "56                                      Nathan Blackwell   \n",
       "126                                              Unknown   \n",
       "218                                    Samuel Brownfield   \n",
       "298                                       Kenji Nagasaki   \n",
       "677                                          Alex Magaña   \n",
       "718                                       K. Asher Levin   \n",
       "905                                         Matt Gambell   \n",
       "917                                  Jérôme Cohen-Olivar   \n",
       "1008                   Aaron Horvath, Peter Rida Michail   \n",
       "1346                                       Alan Peterson   \n",
       "1483                                        David Stoten   \n",
       "1727                              Rob Burke, Ronan Burke   \n",
       "2109                                       Jarrell Crump   \n",
       "2445                                            Joe Gray   \n",
       "2593                            Chris Ramos, Chris Woods   \n",
       "2627                                          Ronn Kilby   \n",
       "3072                                          Rodney Cox   \n",
       "3130                                         Matt Nelsen   \n",
       "3154                                      Kevin Knoblock   \n",
       "3209                                        Joji Shimura   \n",
       "3366                                      Giles Shepherd   \n",
       "3374                              Jason 'Kulayd' Clayton   \n",
       "3484                                       Gabriel Combs   \n",
       "3708                                        Vickie Doerr   \n",
       "3721                                 Myles Byrne-Dunhill   \n",
       "3757                                      Jake Silberman   \n",
       "4008                                           Amy Adams   \n",
       "4010                                           Alexander   \n",
       "4212                                      Jeffrey Ashkin   \n",
       "...                                                  ...   \n",
       "45455                                      Adriana Maggs   \n",
       "45658                                     Brett Eshelman   \n",
       "45913                                    Michael Tuviera   \n",
       "45941                                          J. Horton   \n",
       "45984                                      Jason Naumann   \n",
       "46055                                David Mucci Fassett   \n",
       "46113                                 Charles Dewandeler   \n",
       "46148                                 Michael G. Leonard   \n",
       "46302                        Alfred Eaker, Ross St. Just   \n",
       "46418                                        Glenn Payne   \n",
       "46608                                      Peter Chelsom   \n",
       "46667                                    Nicholas Aubrey   \n",
       "46672                                        Jerell Gray   \n",
       "46696  James Blackburn, Scott Flick, Robert Nathan Gl...   \n",
       "46849                                  Michael Taliferro   \n",
       "46893                     Jeff Joslin, Darby Lynn Totten   \n",
       "46997                         Timo Rose, Andreas Schnaas   \n",
       "47008                                        Lou Pizarro   \n",
       "47028                                      Norman Miller   \n",
       "47074                                            Infmega   \n",
       "47171                         Geoff Atkinson, Kim Fuller   \n",
       "47180                                        Bill McCoid   \n",
       "47190                                     Todd Tjersland   \n",
       "47403                                        Peter Moore   \n",
       "47619                                 Samuel Wheeler III   \n",
       "47640                                     Tanner Robbins   \n",
       "47738                            Christopher Lloyd Hirtz   \n",
       "47763                                     Alan Abulencia   \n",
       "48065                                      Xander Moffat   \n",
       "48107                                      Zack Youngduk   \n",
       "\n",
       "                                                   stars  rating  metascore  \\\n",
       "36              Duanzheng, Yanqing Gu, Simiao Xu, Chenze     9.3        0.0   \n",
       "56     Adam Rini, Gabrielle Van Buren, Logan Blackwel...     9.2        0.0   \n",
       "126                                              Unknown     8.8        0.0   \n",
       "218    Gloria Bigelow, Janine Brito, Christopher Smit...     8.5        0.0   \n",
       "298    Justin Briner, Christopher Sabat, Ray Chase, E...     8.2        0.0   \n",
       "677    Jonah Anderson, Maureen Andronis, Aimée Binfor...     7.4        0.0   \n",
       "718    Annie LeBlanc, Hayley LeBlanc, Hayden Summeral...     7.3        0.0   \n",
       "905    Mark Wingett, Claire King, Rachel Bright, Nich...     7.0        0.0   \n",
       "917    Einar Kuusk, Cody Heuer, Rosine Young, Rebecca...     7.0        0.0   \n",
       "1008   Greg Cipes, Scott Menville, Khary Payton, Tara...     6.8       69.0   \n",
       "1346   Austin R. Grant, Joel Bishop, Stefania Barr, C...     6.2        0.0   \n",
       "1483   Dona Adwera, Peter Andre, Richie Campbell, Chi...     5.9        0.0   \n",
       "1727   Ruth McCabe, Andy Quirke, Graeme Singleton, Le...     5.4        0.0   \n",
       "2109   Dennis Adams, Zaida Baley, Ray Barber, Tracy B...     4.4        0.0   \n",
       "2445                       Michelle Morocco, Drew Schrum     2.5        0.0   \n",
       "2593   Erik Barnhart Jr., Erik A. Barnhart, Joshua Ba...     0.0        0.0   \n",
       "2627   Mark Christopher Lawrence, Merrick McCartha, M...     0.0        0.0   \n",
       "3072   Michael Branch, Terrell Briggs, Antonio Brooki...     0.0        0.0   \n",
       "3130   Carmen Christopher, Ana Fabrega, Jessica Frey,...     0.0        0.0   \n",
       "3154   Manuel Espinosa, Alexandra Bard, Veronica Calv...     0.0        0.0   \n",
       "3209   Cody Burns, Alexa Danielle Sanchez, Justin Tao...     0.0        0.0   \n",
       "3366   Chelsea Howard, Carl W. Childers, Artemis, Jev...     0.0        0.0   \n",
       "3374   Jason 'Kulayd' Clayton, Jared Withrow, Melvin ...     0.0        0.0   \n",
       "3484                           Dylan Bond, Gabriel Combs     0.0        0.0   \n",
       "3708   Mitch Brauer, Micaiah Bruce, Mark Carter, Mark...     0.0        0.0   \n",
       "3721                                             Unknown     0.0        0.0   \n",
       "3757                                             Unknown     0.0        0.0   \n",
       "4008   Raymelle A. Adams, Daniel Hutchinson, Ryan D. ...     0.0        0.0   \n",
       "4010                                           Alexander     0.0        0.0   \n",
       "4212   Sammy Anderson, Alex Preble, Jeffrey Ashkin, K...     0.0        0.0   \n",
       "...                                                  ...     ...        ...   \n",
       "45455  Shawn Doyle, Tatiana Maslany, Julia Kennedy, J...     6.4        0.0   \n",
       "45658  Chris Canfield, Kat Olsson, Breanna Rankin, Si...     6.2        0.0   \n",
       "45913  Ogie Alcasid, Michael V., Aiko Melendez, Jomar...     5.8        0.0   \n",
       "45941  Robert Valentino Kitchen, Blaine Cade, Jason S...     5.8        0.0   \n",
       "45984  Tim Bagley, Mindy Sterling, Joel McCrary, Wend...     5.7        0.0   \n",
       "46055  Anna Cummer, Ashleigh Ball, Ingrid Nilson, Jan...     5.6        0.0   \n",
       "46113  Jennifer Altimore, Scott Czasak, Charles Dewan...     5.5        0.0   \n",
       "46148  Vinny Duwe, Sean R. Brooks, Angela Cohen, Nico...     5.4        0.0   \n",
       "46302  Alfred Eaker, Pink Freud, John M. Bennett, Ros...     5.2        0.0   \n",
       "46418  Kenny Cook, Ryan Coon, Chris Counts, Casey Dil...     4.9        0.0   \n",
       "46608  Miley Cyrus, Emily Osment, Billy Ray Cyrus, Ja...     4.4       47.0   \n",
       "46667  Nicholas Aubrey, Carolyn Tranghese, Michael Au...     4.3        0.0   \n",
       "46672  Daryl Garbiso, Jayden Green, Kai Lanette, Shan...     4.3        0.0   \n",
       "46696  James Blackburn, Scott Flick, Tom B. Gleason, ...     4.2        0.0   \n",
       "46849  Wesley Jonathan, Chrystee Pharris, Monica Allg...     3.5        0.0   \n",
       "46893  Paul Simmons, Frank Murphy, Dave Snow, Dave Fe...     3.3        0.0   \n",
       "46997  Eleanor James, Eileen Daly, Magdalèna Kalley, ...     2.3        0.0   \n",
       "47008  Patricia Ayame Thomson, Lou Pizarro, Pedro Inf...     2.0        0.0   \n",
       "47028  Ajubeka Adekoya, Don Anthony, Ric-hard Baker, ...     0.0        0.0   \n",
       "47074  Maya Azucena, Charles Anthony Burks, Kristen C...     0.0        0.0   \n",
       "47171           Jon Glover, Lewis Macleod, Jess Robinson     0.0        0.0   \n",
       "47180                           Julie Hobbs, Alan Keegan     0.0        0.0   \n",
       "47190  Gevin Booth, Isaac Cooper, Noname Jane, Jace M...     0.0        0.0   \n",
       "47403  Damon Brook, Camille D'Ambrose, Lynnea Doublet...     0.0        0.0   \n",
       "47619                                            Unknown     0.0        0.0   \n",
       "47640  Jake Lovett, Mitch Robbins, Mitchell Robbins, ...     0.0        0.0   \n",
       "47738  Chase Applegarth, Steve Applegarth, Rich Calza...     0.0        0.0   \n",
       "47763  Alan Abulencia, Jeff Blum, Matt Brownell, Davi...     0.0        0.0   \n",
       "48065  Nic Zawarski, Max Barth, Jennah Gredell, Max B...     0.0        0.0   \n",
       "48107                                            Unknown     0.0        0.0   \n",
       "\n",
       "        vote     gross  \n",
       "36        49         0  \n",
       "56        25         0  \n",
       "126       33         0  \n",
       "218        6         0  \n",
       "298     1524   5754556  \n",
       "677       90         0  \n",
       "718       50         0  \n",
       "905        7         0  \n",
       "917       52         0  \n",
       "1008    9949  29562341  \n",
       "1346      61         0  \n",
       "1483     106         0  \n",
       "1727     141         0  \n",
       "2109      25         0  \n",
       "2445      17         0  \n",
       "2593       0         0  \n",
       "2627       0         0  \n",
       "3072       0         0  \n",
       "3130       0         0  \n",
       "3154       0         0  \n",
       "3209       0         0  \n",
       "3366       0         0  \n",
       "3374       0         0  \n",
       "3484       0         0  \n",
       "3708       0         0  \n",
       "3721       0         0  \n",
       "3757       0         0  \n",
       "4008       0         0  \n",
       "4010       0         0  \n",
       "4212       0         0  \n",
       "...      ...       ...  \n",
       "45455    308         0  \n",
       "45658      6         0  \n",
       "45913     33         0  \n",
       "45941      9         0  \n",
       "45984     79         0  \n",
       "46055     55         0  \n",
       "46113     37         0  \n",
       "46148     74         0  \n",
       "46302     21         0  \n",
       "46418     28         0  \n",
       "46608  36146  79566871  \n",
       "46667     18         0  \n",
       "46672     15         0  \n",
       "46696     13         0  \n",
       "46849    308         0  \n",
       "46893      7         0  \n",
       "46997    276         0  \n",
       "47008    256         0  \n",
       "47028      0         0  \n",
       "47074      0         0  \n",
       "47171      0         0  \n",
       "47180      0         0  \n",
       "47190      0         0  \n",
       "47403      0         0  \n",
       "47619      0         0  \n",
       "47640      0         0  \n",
       "47738      0         0  \n",
       "47763      0         0  \n",
       "48065      0         0  \n",
       "48107      0         0  \n",
       "\n",
       "[508 rows x 11 columns]"
      ]
     },
     "execution_count": 232,
     "metadata": {},
     "output_type": "execute_result"
    }
   ],
   "source": [
    "movies[movies['movie'].str.contains('Movie')]"
   ]
  },
  {
   "cell_type": "markdown",
   "metadata": {},
   "source": [
    "Next, I checked that most popular movie genre. Drama seems to be a popular theme here."
   ]
  },
  {
   "cell_type": "code",
   "execution_count": 233,
   "metadata": {},
   "outputs": [],
   "source": [
    "movies['genre']=movies['genre'].str.replace('Unknown','')"
   ]
  },
  {
   "cell_type": "code",
   "execution_count": 234,
   "metadata": {},
   "outputs": [
    {
     "data": {
      "text/html": [
       "<div>\n",
       "<style scoped>\n",
       "    .dataframe tbody tr th:only-of-type {\n",
       "        vertical-align: middle;\n",
       "    }\n",
       "\n",
       "    .dataframe tbody tr th {\n",
       "        vertical-align: top;\n",
       "    }\n",
       "\n",
       "    .dataframe thead th {\n",
       "        text-align: right;\n",
       "    }\n",
       "</style>\n",
       "<table border=\"1\" class=\"dataframe\">\n",
       "  <thead>\n",
       "    <tr style=\"text-align: right;\">\n",
       "      <th></th>\n",
       "      <th>movie</th>\n",
       "      <th>year</th>\n",
       "      <th>genre</th>\n",
       "      <th>duration</th>\n",
       "      <th>certificate</th>\n",
       "      <th>directors</th>\n",
       "      <th>stars</th>\n",
       "      <th>rating</th>\n",
       "      <th>metascore</th>\n",
       "      <th>vote</th>\n",
       "      <th>gross</th>\n",
       "    </tr>\n",
       "  </thead>\n",
       "  <tbody>\n",
       "    <tr>\n",
       "      <th>0</th>\n",
       "      <td>Hassan - The image of our common pain</td>\n",
       "      <td>2018</td>\n",
       "      <td>[Drama,  Family]</td>\n",
       "      <td>111</td>\n",
       "      <td>Unrated</td>\n",
       "      <td>Emaan</td>\n",
       "      <td>Leena Alam, Haroon Azizi, Hakim Diljo, Emaan</td>\n",
       "      <td>10.0</td>\n",
       "      <td>0.0</td>\n",
       "      <td>5</td>\n",
       "      <td>0</td>\n",
       "    </tr>\n",
       "    <tr>\n",
       "      <th>1</th>\n",
       "      <td>Halt: The Motion Picture</td>\n",
       "      <td>2018</td>\n",
       "      <td>[Drama]</td>\n",
       "      <td>110</td>\n",
       "      <td>Unrated</td>\n",
       "      <td>Jezar Riches</td>\n",
       "      <td>Harley Wallen, Andrew Dawe-Collins, Dennis Doy...</td>\n",
       "      <td>9.9</td>\n",
       "      <td>0.0</td>\n",
       "      <td>29</td>\n",
       "      <td>0</td>\n",
       "    </tr>\n",
       "  </tbody>\n",
       "</table>\n",
       "</div>"
      ],
      "text/plain": [
       "                                   movie  year             genre  duration  \\\n",
       "0  Hassan - The image of our common pain  2018  [Drama,  Family]       111   \n",
       "1               Halt: The Motion Picture  2018           [Drama]       110   \n",
       "\n",
       "  certificate     directors  \\\n",
       "0     Unrated         Emaan   \n",
       "1     Unrated  Jezar Riches   \n",
       "\n",
       "                                               stars  rating  metascore  vote  \\\n",
       "0       Leena Alam, Haroon Azizi, Hakim Diljo, Emaan    10.0        0.0     5   \n",
       "1  Harley Wallen, Andrew Dawe-Collins, Dennis Doy...     9.9        0.0    29   \n",
       "\n",
       "   gross  \n",
       "0      0  \n",
       "1      0  "
      ]
     },
     "execution_count": 234,
     "metadata": {},
     "output_type": "execute_result"
    }
   ],
   "source": [
    "movies['genre']=movies['genre'].str.split(',')\n",
    "movies.head(2)"
   ]
  },
  {
   "cell_type": "code",
   "execution_count": 235,
   "metadata": {},
   "outputs": [],
   "source": [
    "def attach (x):\n",
    "    y=' '.join(x)\n",
    "    return y\n",
    "movies['genre2']=movies['genre'].apply(attach)"
   ]
  },
  {
   "cell_type": "code",
   "execution_count": 236,
   "metadata": {},
   "outputs": [
    {
     "data": {
      "text/plain": [
       "Drama        22678\n",
       "Comedy       12802\n",
       "Horror        7648\n",
       "Thriller      7603\n",
       "Action        5349\n",
       "Romance       4401\n",
       "Crime         3752\n",
       "Adventure     2795\n",
       "Mystery       2763\n",
       "Sci-Fi        2503\n",
       "Fantasy       1977\n",
       "Family        1961\n",
       "Animation     1259\n",
       "Music         1256\n",
       "Biography      986\n",
       "dtype: int64"
      ]
     },
     "execution_count": 236,
     "metadata": {},
     "output_type": "execute_result"
    }
   ],
   "source": [
    "genre_corpus = ' '.join(' '.join(movies['genre2']).split())\n",
    "dicti=Counter(genre_corpus.split())\n",
    "p=pd.Series(dicti)\n",
    "x=p.sort_values(ascending=False)\n",
    "x.head(15)"
   ]
  },
  {
   "cell_type": "code",
   "execution_count": 237,
   "metadata": {},
   "outputs": [
    {
     "data": {
      "text/plain": [
       "Text(0.5,1,'Movie genre')"
      ]
     },
     "execution_count": 237,
     "metadata": {},
     "output_type": "execute_result"
    },
    {
     "data": {
      "image/png": "[encoded data removed]",
      "text/plain": [
       "<Figure size 576x432 with 1 Axes>"
      ]
     },
     "metadata": {},
     "output_type": "display_data"
    }
   ],
   "source": [
    "fig, ax= plt.subplots(figsize=(8,6))\n",
    "x.head(15).plot(kind='bar')\n",
    "plt.xlabel('Genre', fontsize=13)\n",
    "plt.ylabel('Number of movies', fontsize=13)\n",
    "plt.title('Movie genre', fontsize=16)"
   ]
  },
  {
   "cell_type": "markdown",
   "metadata": {},
   "source": [
    "Next comes the maximum grosser in the available data. It is 2015 flick: 'Star Wars: The Force Awaken'. This movie earned a revenue of over 936 million(in $)."
   ]
  },
  {
   "cell_type": "code",
   "execution_count": 238,
   "metadata": {},
   "outputs": [
    {
     "data": {
      "text/html": [
       "<div>\n",
       "<style scoped>\n",
       "    .dataframe tbody tr th:only-of-type {\n",
       "        vertical-align: middle;\n",
       "    }\n",
       "\n",
       "    .dataframe tbody tr th {\n",
       "        vertical-align: top;\n",
       "    }\n",
       "\n",
       "    .dataframe thead th {\n",
       "        text-align: right;\n",
       "    }\n",
       "</style>\n",
       "<table border=\"1\" class=\"dataframe\">\n",
       "  <thead>\n",
       "    <tr style=\"text-align: right;\">\n",
       "      <th></th>\n",
       "      <th>movie</th>\n",
       "      <th>year</th>\n",
       "      <th>genre</th>\n",
       "      <th>duration</th>\n",
       "      <th>certificate</th>\n",
       "      <th>directors</th>\n",
       "      <th>stars</th>\n",
       "      <th>rating</th>\n",
       "      <th>metascore</th>\n",
       "      <th>vote</th>\n",
       "      <th>gross</th>\n",
       "      <th>genre2</th>\n",
       "    </tr>\n",
       "  </thead>\n",
       "  <tbody>\n",
       "    <tr>\n",
       "      <th>17588</th>\n",
       "      <td>Star Wars: The Force Awakens</td>\n",
       "      <td>2015</td>\n",
       "      <td>[Action,  Adventure,  Fantasy]</td>\n",
       "      <td>136</td>\n",
       "      <td>PG-13</td>\n",
       "      <td>J.J. Abrams</td>\n",
       "      <td>Daisy Ridley, John Boyega, Oscar Isaac, Domhna...</td>\n",
       "      <td>8.0</td>\n",
       "      <td>81.0</td>\n",
       "      <td>766401</td>\n",
       "      <td>936662225</td>\n",
       "      <td>Action  Adventure  Fantasy</td>\n",
       "    </tr>\n",
       "  </tbody>\n",
       "</table>\n",
       "</div>"
      ],
      "text/plain": [
       "                              movie  year                           genre  \\\n",
       "17588  Star Wars: The Force Awakens  2015  [Action,  Adventure,  Fantasy]   \n",
       "\n",
       "       duration certificate    directors  \\\n",
       "17588       136       PG-13  J.J. Abrams   \n",
       "\n",
       "                                                   stars  rating  metascore  \\\n",
       "17588  Daisy Ridley, John Boyega, Oscar Isaac, Domhna...     8.0       81.0   \n",
       "\n",
       "         vote      gross                      genre2  \n",
       "17588  766401  936662225  Action  Adventure  Fantasy  "
      ]
     },
     "execution_count": 238,
     "metadata": {},
     "output_type": "execute_result"
    }
   ],
   "source": [
    "movies['gross'].max()\n",
    "movies.loc[movies['gross']==movies['gross'].max()]"
   ]
  },
  {
   "cell_type": "code",
   "execution_count": 239,
   "metadata": {},
   "outputs": [
    {
     "data": {
      "text/plain": [
       "(array([0, 1, 2, 3, 4]), <a list of 5 Text xticklabel objects>)"
      ]
     },
     "execution_count": 239,
     "metadata": {},
     "output_type": "execute_result"
    },
    {
     "data": {
      "image/png": "[encoded data removed]",
      "text/plain": [
       "<Figure size 360x360 with 1 Axes>"
      ]
     },
     "metadata": {},
     "output_type": "display_data"
    }
   ],
   "source": [
    "#ax.ticklabel_format(style='plain')\n",
    "a=movies[movies['gross']!=0]\n",
    "b=a.sort_values('gross', ascending=False).head(5)\n",
    "sns.catplot(x='movie', y='gross', kind='bar', data=b)\n",
    "plt.xlabel('Movies',fontsize=13)\n",
    "plt.ylabel('Revenue generated',fontsize=13)\n",
    "plt.title('Blockbusters',fontsize=16)\n",
    "plt.xticks(rotation=90)\n",
    "#ax.get_yaxis().get_major_formatter().set_scientific(False)"
   ]
  },
  {
   "cell_type": "markdown",
   "metadata": {},
   "source": [
    "The least earner among the movies (for which we have revenue data) is Veer!"
   ]
  },
  {
   "cell_type": "code",
   "execution_count": 240,
   "metadata": {},
   "outputs": [
    {
     "data": {
      "text/html": [
       "<div>\n",
       "<style scoped>\n",
       "    .dataframe tbody tr th:only-of-type {\n",
       "        vertical-align: middle;\n",
       "    }\n",
       "\n",
       "    .dataframe tbody tr th {\n",
       "        vertical-align: top;\n",
       "    }\n",
       "\n",
       "    .dataframe thead th {\n",
       "        text-align: right;\n",
       "    }\n",
       "</style>\n",
       "<table border=\"1\" class=\"dataframe\">\n",
       "  <thead>\n",
       "    <tr style=\"text-align: right;\">\n",
       "      <th></th>\n",
       "      <th>movie</th>\n",
       "      <th>year</th>\n",
       "      <th>genre</th>\n",
       "      <th>duration</th>\n",
       "      <th>certificate</th>\n",
       "      <th>directors</th>\n",
       "      <th>stars</th>\n",
       "      <th>rating</th>\n",
       "      <th>metascore</th>\n",
       "      <th>vote</th>\n",
       "      <th>gross</th>\n",
       "      <th>genre2</th>\n",
       "    </tr>\n",
       "  </thead>\n",
       "  <tbody>\n",
       "    <tr>\n",
       "      <th>32385</th>\n",
       "      <td>Veer!</td>\n",
       "      <td>2012</td>\n",
       "      <td>[Comedy,  Drama,  Romance]</td>\n",
       "      <td>87</td>\n",
       "      <td>Unrated</td>\n",
       "      <td>Patrick Barry</td>\n",
       "      <td>Jesse Gay, Erin Cline, James Nguyen, Corsica W...</td>\n",
       "      <td>7.6</td>\n",
       "      <td>0.0</td>\n",
       "      <td>66</td>\n",
       "      <td>85</td>\n",
       "      <td>Comedy  Drama  Romance</td>\n",
       "    </tr>\n",
       "  </tbody>\n",
       "</table>\n",
       "</div>"
      ],
      "text/plain": [
       "       movie  year                       genre  duration certificate  \\\n",
       "32385  Veer!  2012  [Comedy,  Drama,  Romance]        87     Unrated   \n",
       "\n",
       "           directors                                              stars  \\\n",
       "32385  Patrick Barry  Jesse Gay, Erin Cline, James Nguyen, Corsica W...   \n",
       "\n",
       "       rating  metascore  vote  gross                  genre2  \n",
       "32385     7.6        0.0    66     85  Comedy  Drama  Romance  "
      ]
     },
     "execution_count": 240,
     "metadata": {},
     "output_type": "execute_result"
    }
   ],
   "source": [
    "c=a.sort_values('gross', ascending=True).head(1)\n",
    "c"
   ]
  },
  {
   "cell_type": "code",
   "execution_count": 241,
   "metadata": {},
   "outputs": [
    {
     "data": {
      "text/html": [
       "<div>\n",
       "<style scoped>\n",
       "    .dataframe tbody tr th:only-of-type {\n",
       "        vertical-align: middle;\n",
       "    }\n",
       "\n",
       "    .dataframe tbody tr th {\n",
       "        vertical-align: top;\n",
       "    }\n",
       "\n",
       "    .dataframe thead th {\n",
       "        text-align: right;\n",
       "    }\n",
       "</style>\n",
       "<table border=\"1\" class=\"dataframe\">\n",
       "  <thead>\n",
       "    <tr style=\"text-align: right;\">\n",
       "      <th></th>\n",
       "      <th>movie</th>\n",
       "      <th>year</th>\n",
       "      <th>genre</th>\n",
       "      <th>duration</th>\n",
       "      <th>certificate</th>\n",
       "      <th>directors</th>\n",
       "      <th>stars</th>\n",
       "      <th>rating</th>\n",
       "      <th>metascore</th>\n",
       "      <th>vote</th>\n",
       "      <th>gross</th>\n",
       "      <th>genre2</th>\n",
       "    </tr>\n",
       "  </thead>\n",
       "  <tbody>\n",
       "    <tr>\n",
       "      <th>22686</th>\n",
       "      <td>Boyhood</td>\n",
       "      <td>2014</td>\n",
       "      <td>[Drama]</td>\n",
       "      <td>165</td>\n",
       "      <td>R</td>\n",
       "      <td>Richard Linklater</td>\n",
       "      <td>Ellar Coltrane, Patricia Arquette, Ethan Hawke...</td>\n",
       "      <td>7.9</td>\n",
       "      <td>100.0</td>\n",
       "      <td>310618</td>\n",
       "      <td>25379975</td>\n",
       "      <td>Drama</td>\n",
       "    </tr>\n",
       "  </tbody>\n",
       "</table>\n",
       "</div>"
      ],
      "text/plain": [
       "         movie  year    genre  duration certificate          directors  \\\n",
       "22686  Boyhood  2014  [Drama]       165           R  Richard Linklater   \n",
       "\n",
       "                                                   stars  rating  metascore  \\\n",
       "22686  Ellar Coltrane, Patricia Arquette, Ethan Hawke...     7.9      100.0   \n",
       "\n",
       "         vote     gross genre2  \n",
       "22686  310618  25379975  Drama  "
      ]
     },
     "execution_count": 241,
     "metadata": {},
     "output_type": "execute_result"
    }
   ],
   "source": [
    "movies[movies['metascore']==100]"
   ]
  },
  {
   "cell_type": "markdown",
   "metadata": {},
   "source": [
    "There are 9 movies with ratings of 10. The most recent in this list is 2018 released 'Hassan - The image of our common pain'. As expected this movies are rated by only a few individuals, thus a rating of 10."
   ]
  },
  {
   "cell_type": "code",
   "execution_count": 242,
   "metadata": {},
   "outputs": [
    {
     "data": {
      "text/html": [
       "<div>\n",
       "<style scoped>\n",
       "    .dataframe tbody tr th:only-of-type {\n",
       "        vertical-align: middle;\n",
       "    }\n",
       "\n",
       "    .dataframe tbody tr th {\n",
       "        vertical-align: top;\n",
       "    }\n",
       "\n",
       "    .dataframe thead th {\n",
       "        text-align: right;\n",
       "    }\n",
       "</style>\n",
       "<table border=\"1\" class=\"dataframe\">\n",
       "  <thead>\n",
       "    <tr style=\"text-align: right;\">\n",
       "      <th></th>\n",
       "      <th>movie</th>\n",
       "      <th>year</th>\n",
       "      <th>genre</th>\n",
       "      <th>duration</th>\n",
       "      <th>certificate</th>\n",
       "      <th>directors</th>\n",
       "      <th>stars</th>\n",
       "      <th>rating</th>\n",
       "      <th>metascore</th>\n",
       "      <th>vote</th>\n",
       "      <th>gross</th>\n",
       "      <th>genre2</th>\n",
       "    </tr>\n",
       "  </thead>\n",
       "  <tbody>\n",
       "    <tr>\n",
       "      <th>0</th>\n",
       "      <td>Hassan - The image of our common pain</td>\n",
       "      <td>2018</td>\n",
       "      <td>[Drama,  Family]</td>\n",
       "      <td>111</td>\n",
       "      <td>Unrated</td>\n",
       "      <td>Emaan</td>\n",
       "      <td>Leena Alam, Haroon Azizi, Hakim Diljo, Emaan</td>\n",
       "      <td>10.0</td>\n",
       "      <td>0.0</td>\n",
       "      <td>5</td>\n",
       "      <td>0</td>\n",
       "      <td>Drama  Family</td>\n",
       "    </tr>\n",
       "    <tr>\n",
       "      <th>6079</th>\n",
       "      <td>Desierto en tu mente</td>\n",
       "      <td>2017</td>\n",
       "      <td>[Comedy,  Drama,  Fantasy]</td>\n",
       "      <td>63</td>\n",
       "      <td>Unrated</td>\n",
       "      <td>Marta Grimalt</td>\n",
       "      <td>Craig Amromin, Bruna Blavia, Maria Amelia Cana...</td>\n",
       "      <td>10.0</td>\n",
       "      <td>0.0</td>\n",
       "      <td>5</td>\n",
       "      <td>0</td>\n",
       "      <td>Comedy  Drama  Fantasy</td>\n",
       "    </tr>\n",
       "    <tr>\n",
       "      <th>6080</th>\n",
       "      <td>September Rayne</td>\n",
       "      <td>2017</td>\n",
       "      <td>[Drama]</td>\n",
       "      <td>0</td>\n",
       "      <td>Unrated</td>\n",
       "      <td>Cassandra Bell</td>\n",
       "      <td>Harold Dennis, Terry King, Anah Ambuchi, Peter...</td>\n",
       "      <td>10.0</td>\n",
       "      <td>0.0</td>\n",
       "      <td>5</td>\n",
       "      <td>0</td>\n",
       "      <td>Drama</td>\n",
       "    </tr>\n",
       "    <tr>\n",
       "      <th>11966</th>\n",
       "      <td>Emergency Landing</td>\n",
       "      <td>2016</td>\n",
       "      <td>[Drama]</td>\n",
       "      <td>0</td>\n",
       "      <td>Unrated</td>\n",
       "      <td>Rodney L. Cherry</td>\n",
       "      <td>Renee Carillo, Brian Fecteau, Mylarah Silverne...</td>\n",
       "      <td>10.0</td>\n",
       "      <td>0.0</td>\n",
       "      <td>7</td>\n",
       "      <td>0</td>\n",
       "      <td>Drama</td>\n",
       "    </tr>\n",
       "    <tr>\n",
       "      <th>11967</th>\n",
       "      <td>Somewhere Over That Rainbow</td>\n",
       "      <td>2016</td>\n",
       "      <td>[Drama]</td>\n",
       "      <td>75</td>\n",
       "      <td>Unrated</td>\n",
       "      <td>Rhiannon Williams</td>\n",
       "      <td>Ajay Banks, Moise Capalb, Claudine Dearn, Josh...</td>\n",
       "      <td>10.0</td>\n",
       "      <td>0.0</td>\n",
       "      <td>6</td>\n",
       "      <td>0</td>\n",
       "      <td>Drama</td>\n",
       "    </tr>\n",
       "    <tr>\n",
       "      <th>17353</th>\n",
       "      <td>The Weekend Warriors</td>\n",
       "      <td>2015</td>\n",
       "      <td>[Comedy]</td>\n",
       "      <td>0</td>\n",
       "      <td>Unrated</td>\n",
       "      <td>Myster DL</td>\n",
       "      <td>Joey Barbieri, Sunny Black, Michael Claridge, ...</td>\n",
       "      <td>10.0</td>\n",
       "      <td>0.0</td>\n",
       "      <td>5</td>\n",
       "      <td>0</td>\n",
       "      <td>Comedy</td>\n",
       "    </tr>\n",
       "    <tr>\n",
       "      <th>22372</th>\n",
       "      <td>The Wizard of OZcar</td>\n",
       "      <td>2014</td>\n",
       "      <td>[Family,  Fantasy]</td>\n",
       "      <td>22</td>\n",
       "      <td>Unrated</td>\n",
       "      <td>Varta Torossian</td>\n",
       "      <td>Barry James Montoya II, I. Elijah Baughman, El...</td>\n",
       "      <td>10.0</td>\n",
       "      <td>0.0</td>\n",
       "      <td>5</td>\n",
       "      <td>0</td>\n",
       "      <td>Family  Fantasy</td>\n",
       "    </tr>\n",
       "    <tr>\n",
       "      <th>22373</th>\n",
       "      <td>Stalemate</td>\n",
       "      <td>2014</td>\n",
       "      <td>[Drama]</td>\n",
       "      <td>60</td>\n",
       "      <td>Unrated</td>\n",
       "      <td>John C. Koch</td>\n",
       "      <td>William H. Frey III, Nadia Kiyatkina, Catarina...</td>\n",
       "      <td>10.0</td>\n",
       "      <td>0.0</td>\n",
       "      <td>6</td>\n",
       "      <td>0</td>\n",
       "      <td>Drama</td>\n",
       "    </tr>\n",
       "    <tr>\n",
       "      <th>27283</th>\n",
       "      <td>The Bad Coming Back</td>\n",
       "      <td>2013</td>\n",
       "      <td>[Drama]</td>\n",
       "      <td>89</td>\n",
       "      <td>Unrated</td>\n",
       "      <td>Esteban Gunn</td>\n",
       "      <td>Carl Silva, Chris Kato, Josh Berg, Shaun Fletcher</td>\n",
       "      <td>10.0</td>\n",
       "      <td>0.0</td>\n",
       "      <td>5</td>\n",
       "      <td>0</td>\n",
       "      <td>Drama</td>\n",
       "    </tr>\n",
       "  </tbody>\n",
       "</table>\n",
       "</div>"
      ],
      "text/plain": [
       "                                       movie  year  \\\n",
       "0      Hassan - The image of our common pain  2018   \n",
       "6079                    Desierto en tu mente  2017   \n",
       "6080                         September Rayne  2017   \n",
       "11966                      Emergency Landing  2016   \n",
       "11967            Somewhere Over That Rainbow  2016   \n",
       "17353                   The Weekend Warriors  2015   \n",
       "22372                    The Wizard of OZcar  2014   \n",
       "22373                              Stalemate  2014   \n",
       "27283                    The Bad Coming Back  2013   \n",
       "\n",
       "                            genre  duration certificate          directors  \\\n",
       "0                [Drama,  Family]       111     Unrated              Emaan   \n",
       "6079   [Comedy,  Drama,  Fantasy]        63     Unrated      Marta Grimalt   \n",
       "6080                      [Drama]         0     Unrated     Cassandra Bell   \n",
       "11966                     [Drama]         0     Unrated   Rodney L. Cherry   \n",
       "11967                     [Drama]        75     Unrated  Rhiannon Williams   \n",
       "17353                    [Comedy]         0     Unrated          Myster DL   \n",
       "22372          [Family,  Fantasy]        22     Unrated    Varta Torossian   \n",
       "22373                     [Drama]        60     Unrated       John C. Koch   \n",
       "27283                     [Drama]        89     Unrated       Esteban Gunn   \n",
       "\n",
       "                                                   stars  rating  metascore  \\\n",
       "0           Leena Alam, Haroon Azizi, Hakim Diljo, Emaan    10.0        0.0   \n",
       "6079   Craig Amromin, Bruna Blavia, Maria Amelia Cana...    10.0        0.0   \n",
       "6080   Harold Dennis, Terry King, Anah Ambuchi, Peter...    10.0        0.0   \n",
       "11966  Renee Carillo, Brian Fecteau, Mylarah Silverne...    10.0        0.0   \n",
       "11967  Ajay Banks, Moise Capalb, Claudine Dearn, Josh...    10.0        0.0   \n",
       "17353  Joey Barbieri, Sunny Black, Michael Claridge, ...    10.0        0.0   \n",
       "22372  Barry James Montoya II, I. Elijah Baughman, El...    10.0        0.0   \n",
       "22373  William H. Frey III, Nadia Kiyatkina, Catarina...    10.0        0.0   \n",
       "27283  Carl Silva, Chris Kato, Josh Berg, Shaun Fletcher    10.0        0.0   \n",
       "\n",
       "       vote  gross                  genre2  \n",
       "0         5      0           Drama  Family  \n",
       "6079      5      0  Comedy  Drama  Fantasy  \n",
       "6080      5      0                   Drama  \n",
       "11966     7      0                   Drama  \n",
       "11967     6      0                   Drama  \n",
       "17353     5      0                  Comedy  \n",
       "22372     5      0         Family  Fantasy  \n",
       "22373     6      0                   Drama  \n",
       "27283     5      0                   Drama  "
      ]
     },
     "execution_count": 242,
     "metadata": {},
     "output_type": "execute_result"
    }
   ],
   "source": [
    "movies.loc[movies['rating']==movies['rating'].max()]"
   ]
  },
  {
   "cell_type": "markdown",
   "metadata": {},
   "source": [
    "The longest movie in the list is 91hour long 'London EC1'. According to IMDb '[London EC1] A compilation of short films showing an intriguing mix of diverse film genres, featuring unique characters in stories full of mystery, fun and the dark side of love'. "
   ]
  },
  {
   "cell_type": "code",
   "execution_count": 243,
   "metadata": {},
   "outputs": [
    {
     "data": {
      "text/html": [
       "<div>\n",
       "<style scoped>\n",
       "    .dataframe tbody tr th:only-of-type {\n",
       "        vertical-align: middle;\n",
       "    }\n",
       "\n",
       "    .dataframe tbody tr th {\n",
       "        vertical-align: top;\n",
       "    }\n",
       "\n",
       "    .dataframe thead th {\n",
       "        text-align: right;\n",
       "    }\n",
       "</style>\n",
       "<table border=\"1\" class=\"dataframe\">\n",
       "  <thead>\n",
       "    <tr style=\"text-align: right;\">\n",
       "      <th></th>\n",
       "      <th>movie</th>\n",
       "      <th>year</th>\n",
       "      <th>genre</th>\n",
       "      <th>duration</th>\n",
       "      <th>certificate</th>\n",
       "      <th>directors</th>\n",
       "      <th>stars</th>\n",
       "      <th>rating</th>\n",
       "      <th>metascore</th>\n",
       "      <th>vote</th>\n",
       "      <th>gross</th>\n",
       "      <th>genre2</th>\n",
       "    </tr>\n",
       "  </thead>\n",
       "  <tbody>\n",
       "    <tr>\n",
       "      <th>21166</th>\n",
       "      <td>London EC1</td>\n",
       "      <td>2015</td>\n",
       "      <td>[Comedy,  Drama,  Mystery]</td>\n",
       "      <td>5460</td>\n",
       "      <td>Unrated</td>\n",
       "      <td>Erdogan Gilgil</td>\n",
       "      <td>Pablo A. Alonso, Tilly Bulgar, Grace Cookey-Ga...</td>\n",
       "      <td>0.0</td>\n",
       "      <td>0.0</td>\n",
       "      <td>0</td>\n",
       "      <td>0</td>\n",
       "      <td>Comedy  Drama  Mystery</td>\n",
       "    </tr>\n",
       "  </tbody>\n",
       "</table>\n",
       "</div>"
      ],
      "text/plain": [
       "            movie  year                       genre  duration certificate  \\\n",
       "21166  London EC1  2015  [Comedy,  Drama,  Mystery]      5460     Unrated   \n",
       "\n",
       "            directors                                              stars  \\\n",
       "21166  Erdogan Gilgil  Pablo A. Alonso, Tilly Bulgar, Grace Cookey-Ga...   \n",
       "\n",
       "       rating  metascore  vote  gross                  genre2  \n",
       "21166     0.0        0.0     0      0  Comedy  Drama  Mystery  "
      ]
     },
     "execution_count": 243,
     "metadata": {},
     "output_type": "execute_result"
    }
   ],
   "source": [
    "movies[movies['duration']==movies['duration'].max()]"
   ]
  },
  {
   "cell_type": "markdown",
   "metadata": {},
   "source": [
    "Next, I plotted the top 10 longest movies. Most of these movies are made for exhibition purposes and are not shown in movie theatres. "
   ]
  },
  {
   "cell_type": "code",
   "execution_count": 244,
   "metadata": {},
   "outputs": [
    {
     "data": {
      "text/plain": [
       "(array([0, 1, 2, 3, 4, 5, 6, 7, 8, 9]), <a list of 10 Text xticklabel objects>)"
      ]
     },
     "execution_count": 244,
     "metadata": {},
     "output_type": "execute_result"
    },
    {
     "data": {
      "image/png": "[encoded data removed]",
      "text/plain": [
       "<Figure size 360x360 with 1 Axes>"
      ]
     },
     "metadata": {},
     "output_type": "display_data"
    }
   ],
   "source": [
    "d=movies.sort_values('duration',ascending=False).head(10)\n",
    "sns.catplot(x='movie', y='duration', kind='bar', data=d, palette='Accent')\n",
    "plt.xlabel('Movies',fontsize=13)\n",
    "plt.ylabel('Duration (in min)',fontsize=13)\n",
    "plt.title('Long movies',fontsize=16)\n",
    "plt.xticks(rotation=90)"
   ]
  },
  {
   "cell_type": "markdown",
   "metadata": {},
   "source": [
    "Next, I plotted 20 shortest movies.11 of them are just 1 min long"
   ]
  },
  {
   "cell_type": "code",
   "execution_count": 245,
   "metadata": {},
   "outputs": [
    {
     "data": {
      "text/plain": [
       "(array([ 0,  1,  2,  3,  4,  5,  6,  7,  8,  9, 10, 11, 12, 13, 14, 15, 16,\n",
       "        17, 18, 19]), <a list of 20 Text xticklabel objects>)"
      ]
     },
     "execution_count": 245,
     "metadata": {},
     "output_type": "execute_result"
    },
    {
     "data": {
      "image/png": "[encoded data removed]",
      "text/plain": [
       "<Figure size 360x360 with 1 Axes>"
      ]
     },
     "metadata": {},
     "output_type": "display_data"
    }
   ],
   "source": [
    "e=movies[movies['duration']!= 0]\n",
    "f=e.sort_values('duration',ascending=True).head(20)\n",
    "sns.catplot(x='movie', y='duration', kind='bar', data=f, palette=\"Accent\")\n",
    "plt.xlabel('Movies',fontsize=13)\n",
    "plt.ylabel('Duration',fontsize=13)\n",
    "plt.title('Short movies',fontsize=16)\n",
    "plt.xticks(rotation=90)"
   ]
  },
  {
   "cell_type": "markdown",
   "metadata": {},
   "source": [
    "The most highly voted movie is Inception. It is followed by 'Out of Order', 'The Dark Knight Rises', 'interstellar' and 'Django Unchained'. While there are number of movies which are not rated in IMDb website. Other than that, the minimum number of votes for rated movies is 5 and there is a list of movies in this category such as 'Hassan-The image of our common pain' , 'Luka' to name a few."
   ]
  },
  {
   "cell_type": "code",
   "execution_count": 246,
   "metadata": {},
   "outputs": [
    {
     "data": {
      "text/plain": [
       "Text(0.5,1,'Highly voted movies')"
      ]
     },
     "execution_count": 246,
     "metadata": {},
     "output_type": "execute_result"
    },
    {
     "data": {
      "image/png": "[encoded data removed]",
      "text/plain": [
       "<Figure size 360x360 with 1 Axes>"
      ]
     },
     "metadata": {},
     "output_type": "display_data"
    }
   ],
   "source": [
    "g=movies[movies['vote']!= 0]\n",
    "h=g.sort_values('vote',ascending=False).head(5)\n",
    "sns.catplot(x='movie', y='vote', data=h, kind='bar')\n",
    "plt.xticks(rotation=90)\n",
    "plt.xlabel('Movies',fontsize=13)\n",
    "plt.ylabel('Votes',fontsize=13)\n",
    "plt.title('Highly voted movies',fontsize=16)"
   ]
  },
  {
   "cell_type": "code",
   "execution_count": 247,
   "metadata": {},
   "outputs": [],
   "source": [
    "i=movies[movies['directors']!='Unknown']"
   ]
  },
  {
   "cell_type": "code",
   "execution_count": 248,
   "metadata": {},
   "outputs": [
    {
     "data": {
      "text/html": [
       "<div>\n",
       "<style scoped>\n",
       "    .dataframe tbody tr th:only-of-type {\n",
       "        vertical-align: middle;\n",
       "    }\n",
       "\n",
       "    .dataframe tbody tr th {\n",
       "        vertical-align: top;\n",
       "    }\n",
       "\n",
       "    .dataframe thead th {\n",
       "        text-align: right;\n",
       "    }\n",
       "</style>\n",
       "<table border=\"1\" class=\"dataframe\">\n",
       "  <thead>\n",
       "    <tr style=\"text-align: right;\">\n",
       "      <th></th>\n",
       "      <th>movie</th>\n",
       "      <th>year</th>\n",
       "      <th>genre</th>\n",
       "      <th>duration</th>\n",
       "      <th>certificate</th>\n",
       "      <th>directors</th>\n",
       "      <th>stars</th>\n",
       "      <th>rating</th>\n",
       "      <th>metascore</th>\n",
       "      <th>vote</th>\n",
       "      <th>gross</th>\n",
       "      <th>genre2</th>\n",
       "      <th>num_dir</th>\n",
       "    </tr>\n",
       "  </thead>\n",
       "  <tbody>\n",
       "    <tr>\n",
       "      <th>0</th>\n",
       "      <td>Hassan - The image of our common pain</td>\n",
       "      <td>2018</td>\n",
       "      <td>[Drama,  Family]</td>\n",
       "      <td>111</td>\n",
       "      <td>Unrated</td>\n",
       "      <td>[Emaan]</td>\n",
       "      <td>Leena Alam, Haroon Azizi, Hakim Diljo, Emaan</td>\n",
       "      <td>10.0</td>\n",
       "      <td>0.0</td>\n",
       "      <td>5</td>\n",
       "      <td>0</td>\n",
       "      <td>Drama  Family</td>\n",
       "      <td>1</td>\n",
       "    </tr>\n",
       "    <tr>\n",
       "      <th>1</th>\n",
       "      <td>Halt: The Motion Picture</td>\n",
       "      <td>2018</td>\n",
       "      <td>[Drama]</td>\n",
       "      <td>110</td>\n",
       "      <td>Unrated</td>\n",
       "      <td>[Jezar Riches]</td>\n",
       "      <td>Harley Wallen, Andrew Dawe-Collins, Dennis Doy...</td>\n",
       "      <td>9.9</td>\n",
       "      <td>0.0</td>\n",
       "      <td>29</td>\n",
       "      <td>0</td>\n",
       "      <td>Drama</td>\n",
       "      <td>1</td>\n",
       "    </tr>\n",
       "    <tr>\n",
       "      <th>2</th>\n",
       "      <td>Onyx, Kings of the Grail</td>\n",
       "      <td>2018</td>\n",
       "      <td>[History]</td>\n",
       "      <td>0</td>\n",
       "      <td>Unrated</td>\n",
       "      <td>[Roberto Girault]</td>\n",
       "      <td>Jim Caviezel, Maria de Medeiros, Anthony Howel...</td>\n",
       "      <td>9.8</td>\n",
       "      <td>0.0</td>\n",
       "      <td>5</td>\n",
       "      <td>0</td>\n",
       "      <td>History</td>\n",
       "      <td>1</td>\n",
       "    </tr>\n",
       "    <tr>\n",
       "      <th>3</th>\n",
       "      <td>Mr. Presto</td>\n",
       "      <td>2018</td>\n",
       "      <td>[Comedy]</td>\n",
       "      <td>111</td>\n",
       "      <td>Unrated</td>\n",
       "      <td>[Joey Kneiser]</td>\n",
       "      <td>Shane Spresser, Eric Giles, Jon Latham, Spence...</td>\n",
       "      <td>9.8</td>\n",
       "      <td>0.0</td>\n",
       "      <td>5</td>\n",
       "      <td>0</td>\n",
       "      <td>Comedy</td>\n",
       "      <td>1</td>\n",
       "    </tr>\n",
       "    <tr>\n",
       "      <th>4</th>\n",
       "      <td>Green on Green</td>\n",
       "      <td>2018</td>\n",
       "      <td>[Adventure,  Comedy]</td>\n",
       "      <td>90</td>\n",
       "      <td>Unrated</td>\n",
       "      <td>[Tom Knoblauch]</td>\n",
       "      <td>Rachel Dinan, Leah Cardenas, David Remus, Drew...</td>\n",
       "      <td>9.8</td>\n",
       "      <td>0.0</td>\n",
       "      <td>5</td>\n",
       "      <td>0</td>\n",
       "      <td>Adventure  Comedy</td>\n",
       "      <td>1</td>\n",
       "    </tr>\n",
       "  </tbody>\n",
       "</table>\n",
       "</div>"
      ],
      "text/plain": [
       "                                   movie  year                 genre  \\\n",
       "0  Hassan - The image of our common pain  2018      [Drama,  Family]   \n",
       "1               Halt: The Motion Picture  2018               [Drama]   \n",
       "2               Onyx, Kings of the Grail  2018             [History]   \n",
       "3                             Mr. Presto  2018              [Comedy]   \n",
       "4                         Green on Green  2018  [Adventure,  Comedy]   \n",
       "\n",
       "   duration certificate          directors  \\\n",
       "0       111     Unrated            [Emaan]   \n",
       "1       110     Unrated     [Jezar Riches]   \n",
       "2         0     Unrated  [Roberto Girault]   \n",
       "3       111     Unrated     [Joey Kneiser]   \n",
       "4        90     Unrated    [Tom Knoblauch]   \n",
       "\n",
       "                                               stars  rating  metascore  vote  \\\n",
       "0       Leena Alam, Haroon Azizi, Hakim Diljo, Emaan    10.0        0.0     5   \n",
       "1  Harley Wallen, Andrew Dawe-Collins, Dennis Doy...     9.9        0.0    29   \n",
       "2  Jim Caviezel, Maria de Medeiros, Anthony Howel...     9.8        0.0     5   \n",
       "3  Shane Spresser, Eric Giles, Jon Latham, Spence...     9.8        0.0     5   \n",
       "4  Rachel Dinan, Leah Cardenas, David Remus, Drew...     9.8        0.0     5   \n",
       "\n",
       "   gross             genre2  num_dir  \n",
       "0      0      Drama  Family        1  \n",
       "1      0              Drama        1  \n",
       "2      0            History        1  \n",
       "3      0             Comedy        1  \n",
       "4      0  Adventure  Comedy        1  "
      ]
     },
     "execution_count": 248,
     "metadata": {},
     "output_type": "execute_result"
    }
   ],
   "source": [
    "i['directors']=i['directors'].str.split(',')\n",
    "i['num_dir']=i['directors'].apply(len)\n",
    "i.head()"
   ]
  },
  {
   "cell_type": "code",
   "execution_count": 249,
   "metadata": {
    "scrolled": false
   },
   "outputs": [],
   "source": [
    "#i[i['num_dir']==2]"
   ]
  },
  {
   "cell_type": "markdown",
   "metadata": {},
   "source": [
    "Interesting fact: Although, majority of the movies are directed by single directors. There are movies directed by 2, 3, 4, 5,6,7,8,9,10...even upto 81 directors. No doubt it took 81 directors to direct 'World of Death' as its a horror flick!"
   ]
  },
  {
   "cell_type": "code",
   "execution_count": 258,
   "metadata": {},
   "outputs": [],
   "source": [
    "counts = i['num_dir'].value_counts()"
   ]
  },
  {
   "cell_type": "code",
   "execution_count": 273,
   "metadata": {},
   "outputs": [
    {
     "data": {
      "image/png": "[encoded data removed]",
      "text/plain": [
       "<Figure size 432x288 with 1 Axes>"
      ]
     },
     "metadata": {},
     "output_type": "display_data"
    }
   ],
   "source": [
    "srt_counts = sorted(list(counts.iteritems()))\n",
    "xs, ys = zip(*srt_counts)\n",
    "plt.bar(xs, ys)\n",
    "plt.yscale('log')"
   ]
  },
  {
   "cell_type": "code",
   "execution_count": 272,
   "metadata": {},
   "outputs": [
    {
     "data": {
      "text/plain": [
       "Text(0.5,1,'Bar Chart for Number of Directors')"
      ]
     },
     "execution_count": 272,
     "metadata": {},
     "output_type": "execute_result"
    },
    {
     "data": {
      "image/png": "[encoded data removed]",
      "text/plain": [
       "<Figure size 576x432 with 1 Axes>"
      ]
     },
     "metadata": {},
     "output_type": "display_data"
    }
   ],
   "source": [
    "fig,ax=plt.subplots(figsize=(8,6))\n",
    "i['num_dir'].value_counts().sort_index().plot(kind='bar')\n",
    "plt.yscale('log')\n",
    "plt.xlabel('Number of Directors', fontsize=13)\n",
    "plt.ylabel('Number of Movies (log scale)', fontsize=13)\n",
    "plt.title('Bar Chart for Number of Directors', fontsize=16)"
   ]
  },
  {
   "cell_type": "code",
   "execution_count": 185,
   "metadata": {},
   "outputs": [
    {
     "data": {
      "text/html": [
       "<div>\n",
       "<style scoped>\n",
       "    .dataframe tbody tr th:only-of-type {\n",
       "        vertical-align: middle;\n",
       "    }\n",
       "\n",
       "    .dataframe tbody tr th {\n",
       "        vertical-align: top;\n",
       "    }\n",
       "\n",
       "    .dataframe thead th {\n",
       "        text-align: right;\n",
       "    }\n",
       "</style>\n",
       "<table border=\"1\" class=\"dataframe\">\n",
       "  <thead>\n",
       "    <tr style=\"text-align: right;\">\n",
       "      <th></th>\n",
       "      <th>movie</th>\n",
       "      <th>year</th>\n",
       "      <th>genre</th>\n",
       "      <th>duration</th>\n",
       "      <th>certificate</th>\n",
       "      <th>directors</th>\n",
       "      <th>stars</th>\n",
       "      <th>rating</th>\n",
       "      <th>metascore</th>\n",
       "      <th>vote</th>\n",
       "      <th>gross</th>\n",
       "      <th>genre2</th>\n",
       "      <th>num_dir</th>\n",
       "      <th>num_dirs</th>\n",
       "    </tr>\n",
       "  </thead>\n",
       "  <tbody>\n",
       "    <tr>\n",
       "      <th>12865</th>\n",
       "      <td>World of Death</td>\n",
       "      <td>2016</td>\n",
       "      <td>[Comedy,  Horror,  Sci-Fi]</td>\n",
       "      <td>142</td>\n",
       "      <td>Unrated</td>\n",
       "      <td>[Allan Harvey,  Brian Lockyer,  Steven Payne, ...</td>\n",
       "      <td>Brandon Hunt, Morgan Finley King, Jeremy Koern...</td>\n",
       "      <td>7.0</td>\n",
       "      <td>0.0</td>\n",
       "      <td>28</td>\n",
       "      <td>0</td>\n",
       "      <td>Comedy  Horror  Sci-Fi</td>\n",
       "      <td>81</td>\n",
       "      <td>11-81</td>\n",
       "    </tr>\n",
       "  </tbody>\n",
       "</table>\n",
       "</div>"
      ],
      "text/plain": [
       "                movie  year                       genre  duration certificate  \\\n",
       "12865  World of Death  2016  [Comedy,  Horror,  Sci-Fi]       142     Unrated   \n",
       "\n",
       "                                               directors  \\\n",
       "12865  [Allan Harvey,  Brian Lockyer,  Steven Payne, ...   \n",
       "\n",
       "                                                   stars  rating  metascore  \\\n",
       "12865  Brandon Hunt, Morgan Finley King, Jeremy Koern...     7.0        0.0   \n",
       "\n",
       "       vote  gross                  genre2  num_dir num_dirs  \n",
       "12865    28      0  Comedy  Horror  Sci-Fi       81    11-81  "
      ]
     },
     "execution_count": 185,
     "metadata": {},
     "output_type": "execute_result"
    }
   ],
   "source": [
    "i[i['num_dir']==81]"
   ]
  },
  {
   "cell_type": "markdown",
   "metadata": {},
   "source": [
    "For further analysis, I needed genre not be in a list but needed directrors to be in a list in the movies dataframe therefore, I performed the following data manipulation."
   ]
  },
  {
   "cell_type": "code",
   "execution_count": 64,
   "metadata": {},
   "outputs": [
    {
     "data": {
      "text/html": [
       "<div>\n",
       "<style scoped>\n",
       "    .dataframe tbody tr th:only-of-type {\n",
       "        vertical-align: middle;\n",
       "    }\n",
       "\n",
       "    .dataframe tbody tr th {\n",
       "        vertical-align: top;\n",
       "    }\n",
       "\n",
       "    .dataframe thead th {\n",
       "        text-align: right;\n",
       "    }\n",
       "</style>\n",
       "<table border=\"1\" class=\"dataframe\">\n",
       "  <thead>\n",
       "    <tr style=\"text-align: right;\">\n",
       "      <th></th>\n",
       "      <th>movie</th>\n",
       "      <th>year</th>\n",
       "      <th>duration</th>\n",
       "      <th>certificate</th>\n",
       "      <th>directors</th>\n",
       "      <th>stars</th>\n",
       "      <th>rating</th>\n",
       "      <th>metascore</th>\n",
       "      <th>vote</th>\n",
       "      <th>gross</th>\n",
       "      <th>num_dir</th>\n",
       "      <th>genre</th>\n",
       "    </tr>\n",
       "  </thead>\n",
       "  <tbody>\n",
       "    <tr>\n",
       "      <th>0</th>\n",
       "      <td>Hassan - The image of our common pain</td>\n",
       "      <td>2018</td>\n",
       "      <td>111</td>\n",
       "      <td>Unrated</td>\n",
       "      <td>[Emaan]</td>\n",
       "      <td>Leena Alam, Haroon Azizi, Hakim Diljo, Emaan</td>\n",
       "      <td>10.0</td>\n",
       "      <td>0.0</td>\n",
       "      <td>5</td>\n",
       "      <td>0</td>\n",
       "      <td>1</td>\n",
       "      <td>Drama  Family</td>\n",
       "    </tr>\n",
       "  </tbody>\n",
       "</table>\n",
       "</div>"
      ],
      "text/plain": [
       "                                   movie  year  duration certificate  \\\n",
       "0  Hassan - The image of our common pain  2018       111     Unrated   \n",
       "\n",
       "  directors                                         stars  rating  metascore  \\\n",
       "0   [Emaan]  Leena Alam, Haroon Azizi, Hakim Diljo, Emaan    10.0        0.0   \n",
       "\n",
       "   vote  gross  num_dir          genre  \n",
       "0     5      0        1  Drama  Family  "
      ]
     },
     "execution_count": 64,
     "metadata": {},
     "output_type": "execute_result"
    }
   ],
   "source": [
    "i=i.drop('genre', axis=1)\n",
    "i['genre']=i['genre2']\n",
    "i=i.drop('genre2', axis=1)\n",
    "i.head(1)"
   ]
  },
  {
   "cell_type": "markdown",
   "metadata": {},
   "source": [
    "Next, I needed to explode the directors list and make individual rows for directors such that if multiple directors have directed a single movie then I can get each director with its own row with the movie details."
   ]
  },
  {
   "cell_type": "code",
   "execution_count": 65,
   "metadata": {},
   "outputs": [
    {
     "data": {
      "text/html": [
       "<div>\n",
       "<style scoped>\n",
       "    .dataframe tbody tr th:only-of-type {\n",
       "        vertical-align: middle;\n",
       "    }\n",
       "\n",
       "    .dataframe tbody tr th {\n",
       "        vertical-align: top;\n",
       "    }\n",
       "\n",
       "    .dataframe thead th {\n",
       "        text-align: right;\n",
       "    }\n",
       "</style>\n",
       "<table border=\"1\" class=\"dataframe\">\n",
       "  <thead>\n",
       "    <tr style=\"text-align: right;\">\n",
       "      <th></th>\n",
       "      <th>movie</th>\n",
       "      <th>year</th>\n",
       "      <th>certificate</th>\n",
       "      <th>duration</th>\n",
       "      <th>genre</th>\n",
       "      <th>rating</th>\n",
       "      <th>vote</th>\n",
       "      <th>directors</th>\n",
       "      <th>stars</th>\n",
       "      <th>metascore</th>\n",
       "      <th>gross</th>\n",
       "    </tr>\n",
       "  </thead>\n",
       "  <tbody>\n",
       "    <tr>\n",
       "      <th>0</th>\n",
       "      <td>Hassan - The image of our common pain</td>\n",
       "      <td>2018</td>\n",
       "      <td>Unrated</td>\n",
       "      <td>111</td>\n",
       "      <td>Drama  Family</td>\n",
       "      <td>10.0</td>\n",
       "      <td>5</td>\n",
       "      <td>Emaan</td>\n",
       "      <td>Leena Alam, Haroon Azizi, Hakim Diljo, Emaan</td>\n",
       "      <td>0.0</td>\n",
       "      <td>0</td>\n",
       "    </tr>\n",
       "    <tr>\n",
       "      <th>1</th>\n",
       "      <td>Halt: The Motion Picture</td>\n",
       "      <td>2018</td>\n",
       "      <td>Unrated</td>\n",
       "      <td>110</td>\n",
       "      <td>Drama</td>\n",
       "      <td>9.9</td>\n",
       "      <td>29</td>\n",
       "      <td>Jezar Riches</td>\n",
       "      <td>Harley Wallen, Andrew Dawe-Collins, Dennis Doy...</td>\n",
       "      <td>0.0</td>\n",
       "      <td>0</td>\n",
       "    </tr>\n",
       "    <tr>\n",
       "      <th>2</th>\n",
       "      <td>Onyx, Kings of the Grail</td>\n",
       "      <td>2018</td>\n",
       "      <td>Unrated</td>\n",
       "      <td>0</td>\n",
       "      <td>History</td>\n",
       "      <td>9.8</td>\n",
       "      <td>5</td>\n",
       "      <td>Roberto Girault</td>\n",
       "      <td>Jim Caviezel, Maria de Medeiros, Anthony Howel...</td>\n",
       "      <td>0.0</td>\n",
       "      <td>0</td>\n",
       "    </tr>\n",
       "    <tr>\n",
       "      <th>3</th>\n",
       "      <td>Mr. Presto</td>\n",
       "      <td>2018</td>\n",
       "      <td>Unrated</td>\n",
       "      <td>111</td>\n",
       "      <td>Comedy</td>\n",
       "      <td>9.8</td>\n",
       "      <td>5</td>\n",
       "      <td>Joey Kneiser</td>\n",
       "      <td>Shane Spresser, Eric Giles, Jon Latham, Spence...</td>\n",
       "      <td>0.0</td>\n",
       "      <td>0</td>\n",
       "    </tr>\n",
       "    <tr>\n",
       "      <th>4</th>\n",
       "      <td>Green on Green</td>\n",
       "      <td>2018</td>\n",
       "      <td>Unrated</td>\n",
       "      <td>90</td>\n",
       "      <td>Adventure  Comedy</td>\n",
       "      <td>9.8</td>\n",
       "      <td>5</td>\n",
       "      <td>Tom Knoblauch</td>\n",
       "      <td>Rachel Dinan, Leah Cardenas, David Remus, Drew...</td>\n",
       "      <td>0.0</td>\n",
       "      <td>0</td>\n",
       "    </tr>\n",
       "  </tbody>\n",
       "</table>\n",
       "</div>"
      ],
      "text/plain": [
       "                                   movie  year certificate  duration  \\\n",
       "0  Hassan - The image of our common pain  2018     Unrated       111   \n",
       "1               Halt: The Motion Picture  2018     Unrated       110   \n",
       "2               Onyx, Kings of the Grail  2018     Unrated         0   \n",
       "3                             Mr. Presto  2018     Unrated       111   \n",
       "4                         Green on Green  2018     Unrated        90   \n",
       "\n",
       "               genre  rating  vote        directors  \\\n",
       "0      Drama  Family    10.0     5            Emaan   \n",
       "1              Drama     9.9    29     Jezar Riches   \n",
       "2            History     9.8     5  Roberto Girault   \n",
       "3             Comedy     9.8     5     Joey Kneiser   \n",
       "4  Adventure  Comedy     9.8     5    Tom Knoblauch   \n",
       "\n",
       "                                               stars  metascore  gross  \n",
       "0       Leena Alam, Haroon Azizi, Hakim Diljo, Emaan        0.0      0  \n",
       "1  Harley Wallen, Andrew Dawe-Collins, Dennis Doy...        0.0      0  \n",
       "2  Jim Caviezel, Maria de Medeiros, Anthony Howel...        0.0      0  \n",
       "3  Shane Spresser, Eric Giles, Jon Latham, Spence...        0.0      0  \n",
       "4  Rachel Dinan, Leah Cardenas, David Remus, Drew...        0.0      0  "
      ]
     },
     "execution_count": 65,
     "metadata": {},
     "output_type": "execute_result"
    }
   ],
   "source": [
    "movies_=[]\n",
    "years_=[]\n",
    "genres_=[]\n",
    "certificates_=[]\n",
    "star_=[]\n",
    "metascores_=[]\n",
    "votes_=[]\n",
    "duration_=[]\n",
    "rating_=[]\n",
    "director_=[]\n",
    "gross_=[]\n",
    "for _, row in i.iterrows():\n",
    "    #print(row)\n",
    "    moviex=row.movie\n",
    "    yearx=row.year\n",
    "    genrex=row.genre\n",
    "    certificatex=row.certificate\n",
    "    starsx=row.stars\n",
    "    ratingx=row.rating\n",
    "    metascorex=row.metascore\n",
    "    votex=row.vote\n",
    "    durationx=row.duration\n",
    "    grossx=row.gross\n",
    "    for director in row.directors:\n",
    "        movies_.append(moviex)\n",
    "        years_.append(yearx)\n",
    "        genres_.append(genrex)\n",
    "        certificates_.append(certificatex)\n",
    "        star_.append(starsx)\n",
    "        rating_.append(ratingx)\n",
    "        metascores_.append(metascorex)\n",
    "        votes_.append(votex)\n",
    "        gross_.append(grossx)\n",
    "        duration_.append(durationx)\n",
    "        director_.append(director)\n",
    "\n",
    "fun=pd.DataFrame({'movie':movies_,'year':years_,'certificate':certificates_,'duration':duration_, 'genre':genres_,'rating':rating_,'vote':votes_, 'directors':director_, 'stars':star_,'metascore':metascores_,'gross':gross_})\n",
    "fun.head()"
   ]
  },
  {
   "cell_type": "code",
   "execution_count": 66,
   "metadata": {},
   "outputs": [
    {
     "name": "stdout",
     "output_type": "stream",
     "text": [
      "<class 'pandas.core.frame.DataFrame'>\n",
      "RangeIndex: 55207 entries, 0 to 55206\n",
      "Data columns (total 11 columns):\n",
      "movie          55207 non-null object\n",
      "year           55207 non-null int64\n",
      "certificate    55207 non-null object\n",
      "duration       55207 non-null int64\n",
      "genre          55207 non-null object\n",
      "rating         55207 non-null float64\n",
      "vote           55207 non-null int64\n",
      "directors      55207 non-null object\n",
      "stars          55207 non-null object\n",
      "metascore      55207 non-null float64\n",
      "gross          55207 non-null int64\n",
      "dtypes: float64(2), int64(4), object(5)\n",
      "memory usage: 4.6+ MB\n"
     ]
    }
   ],
   "source": [
    "fun.info()"
   ]
  },
  {
   "cell_type": "markdown",
   "metadata": {},
   "source": [
    "I was interested in lnowing how many director are there in this list..And the number is 40557"
   ]
  },
  {
   "cell_type": "code",
   "execution_count": 67,
   "metadata": {},
   "outputs": [],
   "source": [
    "fun['directors']=fun['directors'].str.strip()"
   ]
  },
  {
   "cell_type": "code",
   "execution_count": 68,
   "metadata": {},
   "outputs": [
    {
     "data": {
      "text/plain": [
       "39061"
      ]
     },
     "execution_count": 68,
     "metadata": {},
     "output_type": "execute_result"
    }
   ],
   "source": [
    "fun['directors'].nunique()"
   ]
  },
  {
   "cell_type": "markdown",
   "metadata": {},
   "source": [
    "Next, I checked for the most prolific directors, the ones who direct movies like machines...Omer Pasha tops the charts as he has directed over 59 movies, followed by Larry Rosen, David DeCoteau, Michael Fredianelli, Paul T.T. Easter"
   ]
  },
  {
   "cell_type": "code",
   "execution_count": 69,
   "metadata": {},
   "outputs": [
    {
     "data": {
      "text/plain": [
       "directors\n",
       "Omer Pasha             59\n",
       "Larry Rosen            47\n",
       "David DeCoteau         35\n",
       "Jason Impey            34\n",
       "Michael Fredianelli    32\n",
       "Name: movie, dtype: int64"
      ]
     },
     "execution_count": 69,
     "metadata": {},
     "output_type": "execute_result"
    }
   ],
   "source": [
    "fun.groupby('directors')['movie'].count().sort_values(ascending=False).head()"
   ]
  },
  {
   "cell_type": "code",
   "execution_count": 70,
   "metadata": {},
   "outputs": [
    {
     "data": {
      "text/plain": [
       "<matplotlib.axes._subplots.AxesSubplot at 0x117cbf780>"
      ]
     },
     "execution_count": 70,
     "metadata": {},
     "output_type": "execute_result"
    },
    {
     "data": {
      "image/png": "[encoded data removed]",
      "text/plain": [
       "<Figure size 432x288 with 1 Axes>"
      ]
     },
     "metadata": {},
     "output_type": "display_data"
    }
   ],
   "source": [
    "fun.groupby('directors')['movie'].count().sort_values(ascending=False).head(5).plot(kind='bar')"
   ]
  },
  {
   "cell_type": "markdown",
   "metadata": {},
   "source": [
    "Next comes, the director who has churned the most money from his movies. In this category J.J. Abrams is a winner with 4 mega movies - Star Wars: The Force Awakens,Star Trek: Into Darkness,Super 8 and Star Trek. This guy has made 1.5 billion dollars from these 4 movies."
   ]
  },
  {
   "cell_type": "markdown",
   "metadata": {},
   "source": [
    "Below is a graph for top 5 directors in the above category."
   ]
  },
  {
   "cell_type": "code",
   "execution_count": 71,
   "metadata": {},
   "outputs": [
    {
     "data": {
      "text/plain": [
       "<matplotlib.axes._subplots.AxesSubplot at 0x1126f50b8>"
      ]
     },
     "execution_count": 71,
     "metadata": {},
     "output_type": "execute_result"
    },
    {
     "data": {
      "image/png": "[encoded data removed]",
      "text/plain": [
       "<Figure size 432x288 with 1 Axes>"
      ]
     },
     "metadata": {},
     "output_type": "display_data"
    }
   ],
   "source": [
    "fun.groupby('directors')['gross'].sum().sort_values(ascending=False).head().plot(kind='bar')"
   ]
  },
  {
   "cell_type": "code",
   "execution_count": 72,
   "metadata": {},
   "outputs": [
    {
     "data": {
      "text/html": [
       "<div>\n",
       "<style scoped>\n",
       "    .dataframe tbody tr th:only-of-type {\n",
       "        vertical-align: middle;\n",
       "    }\n",
       "\n",
       "    .dataframe tbody tr th {\n",
       "        vertical-align: top;\n",
       "    }\n",
       "\n",
       "    .dataframe thead th {\n",
       "        text-align: right;\n",
       "    }\n",
       "</style>\n",
       "<table border=\"1\" class=\"dataframe\">\n",
       "  <thead>\n",
       "    <tr style=\"text-align: right;\">\n",
       "      <th></th>\n",
       "      <th>movie</th>\n",
       "      <th>year</th>\n",
       "      <th>certificate</th>\n",
       "      <th>duration</th>\n",
       "      <th>genre</th>\n",
       "      <th>rating</th>\n",
       "      <th>vote</th>\n",
       "      <th>directors</th>\n",
       "      <th>stars</th>\n",
       "      <th>metascore</th>\n",
       "      <th>gross</th>\n",
       "    </tr>\n",
       "  </thead>\n",
       "  <tbody>\n",
       "    <tr>\n",
       "      <th>20355</th>\n",
       "      <td>Star Wars: The Force Awakens</td>\n",
       "      <td>2015</td>\n",
       "      <td>PG-13</td>\n",
       "      <td>136</td>\n",
       "      <td>Action  Adventure  Fantasy</td>\n",
       "      <td>8.0</td>\n",
       "      <td>766401</td>\n",
       "      <td>J.J. Abrams</td>\n",
       "      <td>Daisy Ridley, John Boyega, Oscar Isaac, Domhna...</td>\n",
       "      <td>81.0</td>\n",
       "      <td>936662225</td>\n",
       "    </tr>\n",
       "    <tr>\n",
       "      <th>32018</th>\n",
       "      <td>Star Trek: Into Darkness</td>\n",
       "      <td>2013</td>\n",
       "      <td>PG-13</td>\n",
       "      <td>132</td>\n",
       "      <td>Action  Adventure  Sci-Fi</td>\n",
       "      <td>7.7</td>\n",
       "      <td>440537</td>\n",
       "      <td>J.J. Abrams</td>\n",
       "      <td>Chris Pine, Zachary Quinto, Zoe Saldana, Bened...</td>\n",
       "      <td>72.0</td>\n",
       "      <td>228778661</td>\n",
       "    </tr>\n",
       "    <tr>\n",
       "      <th>42882</th>\n",
       "      <td>Super 8</td>\n",
       "      <td>2011</td>\n",
       "      <td>PG-13</td>\n",
       "      <td>112</td>\n",
       "      <td>Mystery  Sci-Fi  Thriller</td>\n",
       "      <td>7.0</td>\n",
       "      <td>316391</td>\n",
       "      <td>J.J. Abrams</td>\n",
       "      <td>Elle Fanning, AJ Michalka, Kyle Chandler, Joel...</td>\n",
       "      <td>72.0</td>\n",
       "      <td>127004179</td>\n",
       "    </tr>\n",
       "    <tr>\n",
       "      <th>51176</th>\n",
       "      <td>Star Trek</td>\n",
       "      <td>2009</td>\n",
       "      <td>PG-13</td>\n",
       "      <td>127</td>\n",
       "      <td>Action  Adventure  Sci-Fi</td>\n",
       "      <td>8.0</td>\n",
       "      <td>550964</td>\n",
       "      <td>J.J. Abrams</td>\n",
       "      <td>Chris Pine, Zachary Quinto, Simon Pegg, Leonar...</td>\n",
       "      <td>82.0</td>\n",
       "      <td>257730019</td>\n",
       "    </tr>\n",
       "  </tbody>\n",
       "</table>\n",
       "</div>"
      ],
      "text/plain": [
       "                              movie  year certificate  duration  \\\n",
       "20355  Star Wars: The Force Awakens  2015       PG-13       136   \n",
       "32018      Star Trek: Into Darkness  2013       PG-13       132   \n",
       "42882                       Super 8  2011       PG-13       112   \n",
       "51176                     Star Trek  2009       PG-13       127   \n",
       "\n",
       "                            genre  rating    vote    directors  \\\n",
       "20355  Action  Adventure  Fantasy     8.0  766401  J.J. Abrams   \n",
       "32018   Action  Adventure  Sci-Fi     7.7  440537  J.J. Abrams   \n",
       "42882   Mystery  Sci-Fi  Thriller     7.0  316391  J.J. Abrams   \n",
       "51176   Action  Adventure  Sci-Fi     8.0  550964  J.J. Abrams   \n",
       "\n",
       "                                                   stars  metascore      gross  \n",
       "20355  Daisy Ridley, John Boyega, Oscar Isaac, Domhna...       81.0  936662225  \n",
       "32018  Chris Pine, Zachary Quinto, Zoe Saldana, Bened...       72.0  228778661  \n",
       "42882  Elle Fanning, AJ Michalka, Kyle Chandler, Joel...       72.0  127004179  \n",
       "51176  Chris Pine, Zachary Quinto, Simon Pegg, Leonar...       82.0  257730019  "
      ]
     },
     "execution_count": 72,
     "metadata": {},
     "output_type": "execute_result"
    }
   ],
   "source": [
    "fun[fun['directors']=='J.J. Abrams']"
   ]
  },
  {
   "cell_type": "markdown",
   "metadata": {},
   "source": [
    "Next, I was interested in finding out who is the most efficient money churning director, that is the guy who has made most money per movie. In this category James Cameroon with his single movie 'Avatar' is a winner. He has made 760 million dollar from a single movie. He is followed by Angus MacLane, Anthony Russo, Patty Jenkins and Jennifer Lee."
   ]
  },
  {
   "cell_type": "code",
   "execution_count": 73,
   "metadata": {},
   "outputs": [
    {
     "data": {
      "text/html": [
       "<div>\n",
       "<style scoped>\n",
       "    .dataframe tbody tr th:only-of-type {\n",
       "        vertical-align: middle;\n",
       "    }\n",
       "\n",
       "    .dataframe tbody tr th {\n",
       "        vertical-align: top;\n",
       "    }\n",
       "\n",
       "    .dataframe thead th {\n",
       "        text-align: right;\n",
       "    }\n",
       "</style>\n",
       "<table border=\"1\" class=\"dataframe\">\n",
       "  <thead>\n",
       "    <tr style=\"text-align: right;\">\n",
       "      <th></th>\n",
       "      <th>index</th>\n",
       "      <th>gross</th>\n",
       "      <th>movie</th>\n",
       "      <th>money per movie</th>\n",
       "    </tr>\n",
       "  </thead>\n",
       "  <tbody>\n",
       "    <tr>\n",
       "      <th>1026</th>\n",
       "      <td>James Cameron</td>\n",
       "      <td>760507625</td>\n",
       "      <td>1</td>\n",
       "      <td>760507625.0</td>\n",
       "    </tr>\n",
       "    <tr>\n",
       "      <th>157</th>\n",
       "      <td>Angus MacLane</td>\n",
       "      <td>486295561</td>\n",
       "      <td>1</td>\n",
       "      <td>486295561.0</td>\n",
       "    </tr>\n",
       "    <tr>\n",
       "      <th>182</th>\n",
       "      <td>Anthony Russo</td>\n",
       "      <td>1346666403</td>\n",
       "      <td>3</td>\n",
       "      <td>448888801.0</td>\n",
       "    </tr>\n",
       "    <tr>\n",
       "      <th>1925</th>\n",
       "      <td>Patty Jenkins</td>\n",
       "      <td>412563408</td>\n",
       "      <td>1</td>\n",
       "      <td>412563408.0</td>\n",
       "    </tr>\n",
       "    <tr>\n",
       "      <th>418</th>\n",
       "      <td>Chris Buck</td>\n",
       "      <td>400738009</td>\n",
       "      <td>1</td>\n",
       "      <td>400738009.0</td>\n",
       "    </tr>\n",
       "  </tbody>\n",
       "</table>\n",
       "</div>"
      ],
      "text/plain": [
       "              index       gross  movie  money per movie\n",
       "1026  James Cameron   760507625      1      760507625.0\n",
       "157   Angus MacLane   486295561      1      486295561.0\n",
       "182   Anthony Russo  1346666403      3      448888801.0\n",
       "1925  Patty Jenkins   412563408      1      412563408.0\n",
       "418      Chris Buck   400738009      1      400738009.0"
      ]
     },
     "execution_count": 73,
     "metadata": {},
     "output_type": "execute_result"
    }
   ],
   "source": [
    "j=fun.groupby('directors')['gross'].sum().sort_values(ascending=False)\n",
    "k=fun.groupby('directors')['movie'].count().sort_values(ascending=False)\n",
    "l=pd.concat([j,k], axis=1)\n",
    "m=l.drop(l[l['gross']==0].index)\n",
    "m['money per movie']=m['gross'].divide(m['movie'])\n",
    "m.reset_index(level=0, inplace=True)\n",
    "n=m.sort_values('money per movie', ascending=False).head()\n",
    "n"
   ]
  },
  {
   "cell_type": "code",
   "execution_count": 74,
   "metadata": {},
   "outputs": [
    {
     "data": {
      "text/plain": [
       "Text(0.5,1,'Highly efficient directors')"
      ]
     },
     "execution_count": 74,
     "metadata": {},
     "output_type": "execute_result"
    },
    {
     "data": {
      "image/png": "[encoded data removed]",
      "text/plain": [
       "<Figure size 360x360 with 1 Axes>"
      ]
     },
     "metadata": {},
     "output_type": "display_data"
    }
   ],
   "source": [
    "sns.catplot(y='money per movie', x='index',data=n, kind='bar')\n",
    "plt.xticks(rotation=90)\n",
    "plt.xlabel('Directors',fontsize=14)\n",
    "plt.ylabel('Revenue generated per movie',fontsize=14)\n",
    "plt.title('Highly efficient directors',fontsize=16)"
   ]
  },
  {
   "cell_type": "code",
   "execution_count": 75,
   "metadata": {},
   "outputs": [
    {
     "data": {
      "text/html": [
       "<div>\n",
       "<style scoped>\n",
       "    .dataframe tbody tr th:only-of-type {\n",
       "        vertical-align: middle;\n",
       "    }\n",
       "\n",
       "    .dataframe tbody tr th {\n",
       "        vertical-align: top;\n",
       "    }\n",
       "\n",
       "    .dataframe thead th {\n",
       "        text-align: right;\n",
       "    }\n",
       "</style>\n",
       "<table border=\"1\" class=\"dataframe\">\n",
       "  <thead>\n",
       "    <tr style=\"text-align: right;\">\n",
       "      <th></th>\n",
       "      <th>movie</th>\n",
       "      <th>year</th>\n",
       "      <th>certificate</th>\n",
       "      <th>duration</th>\n",
       "      <th>genre</th>\n",
       "      <th>rating</th>\n",
       "      <th>vote</th>\n",
       "      <th>directors</th>\n",
       "      <th>stars</th>\n",
       "      <th>metascore</th>\n",
       "      <th>gross</th>\n",
       "    </tr>\n",
       "  </thead>\n",
       "  <tbody>\n",
       "    <tr>\n",
       "      <th>51242</th>\n",
       "      <td>Avatar</td>\n",
       "      <td>2009</td>\n",
       "      <td>PG-13</td>\n",
       "      <td>162</td>\n",
       "      <td>Action  Adventure  Fantasy</td>\n",
       "      <td>7.8</td>\n",
       "      <td>1017917</td>\n",
       "      <td>James Cameron</td>\n",
       "      <td>Sam Worthington, Zoe Saldana, Sigourney Weaver...</td>\n",
       "      <td>83.0</td>\n",
       "      <td>760507625</td>\n",
       "    </tr>\n",
       "  </tbody>\n",
       "</table>\n",
       "</div>"
      ],
      "text/plain": [
       "        movie  year certificate  duration                       genre  rating  \\\n",
       "51242  Avatar  2009       PG-13       162  Action  Adventure  Fantasy     7.8   \n",
       "\n",
       "          vote      directors  \\\n",
       "51242  1017917  James Cameron   \n",
       "\n",
       "                                                   stars  metascore      gross  \n",
       "51242  Sam Worthington, Zoe Saldana, Sigourney Weaver...       83.0  760507625  "
      ]
     },
     "execution_count": 75,
     "metadata": {},
     "output_type": "execute_result"
    }
   ],
   "source": [
    "fun[fun['directors']=='James Cameron']"
   ]
  },
  {
   "cell_type": "code",
   "execution_count": 76,
   "metadata": {},
   "outputs": [
    {
     "data": {
      "text/html": [
       "<div>\n",
       "<style scoped>\n",
       "    .dataframe tbody tr th:only-of-type {\n",
       "        vertical-align: middle;\n",
       "    }\n",
       "\n",
       "    .dataframe tbody tr th {\n",
       "        vertical-align: top;\n",
       "    }\n",
       "\n",
       "    .dataframe thead th {\n",
       "        text-align: right;\n",
       "    }\n",
       "</style>\n",
       "<table border=\"1\" class=\"dataframe\">\n",
       "  <thead>\n",
       "    <tr style=\"text-align: right;\">\n",
       "      <th></th>\n",
       "      <th>movie</th>\n",
       "      <th>year</th>\n",
       "      <th>genre</th>\n",
       "      <th>duration</th>\n",
       "      <th>certificate</th>\n",
       "      <th>directors</th>\n",
       "      <th>stars</th>\n",
       "      <th>rating</th>\n",
       "      <th>metascore</th>\n",
       "      <th>vote</th>\n",
       "      <th>gross</th>\n",
       "      <th>genre2</th>\n",
       "    </tr>\n",
       "  </thead>\n",
       "  <tbody>\n",
       "    <tr>\n",
       "      <th>0</th>\n",
       "      <td>Hassan - The image of our common pain</td>\n",
       "      <td>2018</td>\n",
       "      <td>[Drama,  Family]</td>\n",
       "      <td>111</td>\n",
       "      <td>Unrated</td>\n",
       "      <td>Emaan</td>\n",
       "      <td>[Leena Alam,  Haroon Azizi,  Hakim Diljo,  Emaan]</td>\n",
       "      <td>10.0</td>\n",
       "      <td>0.0</td>\n",
       "      <td>5</td>\n",
       "      <td>0</td>\n",
       "      <td>Drama  Family</td>\n",
       "    </tr>\n",
       "    <tr>\n",
       "      <th>1</th>\n",
       "      <td>Halt: The Motion Picture</td>\n",
       "      <td>2018</td>\n",
       "      <td>[Drama]</td>\n",
       "      <td>110</td>\n",
       "      <td>Unrated</td>\n",
       "      <td>Jezar Riches</td>\n",
       "      <td>[Harley Wallen,  Andrew Dawe-Collins,  Dennis ...</td>\n",
       "      <td>9.9</td>\n",
       "      <td>0.0</td>\n",
       "      <td>29</td>\n",
       "      <td>0</td>\n",
       "      <td>Drama</td>\n",
       "    </tr>\n",
       "  </tbody>\n",
       "</table>\n",
       "</div>"
      ],
      "text/plain": [
       "                                   movie  year             genre  duration  \\\n",
       "0  Hassan - The image of our common pain  2018  [Drama,  Family]       111   \n",
       "1               Halt: The Motion Picture  2018           [Drama]       110   \n",
       "\n",
       "  certificate     directors  \\\n",
       "0     Unrated         Emaan   \n",
       "1     Unrated  Jezar Riches   \n",
       "\n",
       "                                               stars  rating  metascore  vote  \\\n",
       "0  [Leena Alam,  Haroon Azizi,  Hakim Diljo,  Emaan]    10.0        0.0     5   \n",
       "1  [Harley Wallen,  Andrew Dawe-Collins,  Dennis ...     9.9        0.0    29   \n",
       "\n",
       "   gross         genre2  \n",
       "0      0  Drama  Family  \n",
       "1      0          Drama  "
      ]
     },
     "execution_count": 76,
     "metadata": {},
     "output_type": "execute_result"
    }
   ],
   "source": [
    "o=movies[movies['stars']!='Unknown']\n",
    "o['stars']=o['stars'].str.split(',')\n",
    "o.head(2)"
   ]
  },
  {
   "cell_type": "code",
   "execution_count": 77,
   "metadata": {},
   "outputs": [
    {
     "data": {
      "text/html": [
       "<div>\n",
       "<style scoped>\n",
       "    .dataframe tbody tr th:only-of-type {\n",
       "        vertical-align: middle;\n",
       "    }\n",
       "\n",
       "    .dataframe tbody tr th {\n",
       "        vertical-align: top;\n",
       "    }\n",
       "\n",
       "    .dataframe thead th {\n",
       "        text-align: right;\n",
       "    }\n",
       "</style>\n",
       "<table border=\"1\" class=\"dataframe\">\n",
       "  <thead>\n",
       "    <tr style=\"text-align: right;\">\n",
       "      <th></th>\n",
       "      <th>movie</th>\n",
       "      <th>year</th>\n",
       "      <th>duration</th>\n",
       "      <th>certificate</th>\n",
       "      <th>directors</th>\n",
       "      <th>stars</th>\n",
       "      <th>rating</th>\n",
       "      <th>metascore</th>\n",
       "      <th>vote</th>\n",
       "      <th>gross</th>\n",
       "      <th>genre</th>\n",
       "    </tr>\n",
       "  </thead>\n",
       "  <tbody>\n",
       "    <tr>\n",
       "      <th>0</th>\n",
       "      <td>Hassan - The image of our common pain</td>\n",
       "      <td>2018</td>\n",
       "      <td>111</td>\n",
       "      <td>Unrated</td>\n",
       "      <td>Emaan</td>\n",
       "      <td>[Leena Alam,  Haroon Azizi,  Hakim Diljo,  Emaan]</td>\n",
       "      <td>10.0</td>\n",
       "      <td>0.0</td>\n",
       "      <td>5</td>\n",
       "      <td>0</td>\n",
       "      <td>Drama  Family</td>\n",
       "    </tr>\n",
       "  </tbody>\n",
       "</table>\n",
       "</div>"
      ],
      "text/plain": [
       "                                   movie  year  duration certificate  \\\n",
       "0  Hassan - The image of our common pain  2018       111     Unrated   \n",
       "\n",
       "  directors                                              stars  rating  \\\n",
       "0     Emaan  [Leena Alam,  Haroon Azizi,  Hakim Diljo,  Emaan]    10.0   \n",
       "\n",
       "   metascore  vote  gross          genre  \n",
       "0        0.0     5      0  Drama  Family  "
      ]
     },
     "execution_count": 77,
     "metadata": {},
     "output_type": "execute_result"
    }
   ],
   "source": [
    "o=o.drop('genre', axis=1)\n",
    "o['genre']=o['genre2']\n",
    "o=o.drop('genre2', axis=1)\n",
    "o.head(1)"
   ]
  },
  {
   "cell_type": "code",
   "execution_count": 78,
   "metadata": {},
   "outputs": [
    {
     "data": {
      "text/html": [
       "<div>\n",
       "<style scoped>\n",
       "    .dataframe tbody tr th:only-of-type {\n",
       "        vertical-align: middle;\n",
       "    }\n",
       "\n",
       "    .dataframe tbody tr th {\n",
       "        vertical-align: top;\n",
       "    }\n",
       "\n",
       "    .dataframe thead th {\n",
       "        text-align: right;\n",
       "    }\n",
       "</style>\n",
       "<table border=\"1\" class=\"dataframe\">\n",
       "  <thead>\n",
       "    <tr style=\"text-align: right;\">\n",
       "      <th></th>\n",
       "      <th>movie</th>\n",
       "      <th>year</th>\n",
       "      <th>certificate</th>\n",
       "      <th>duration</th>\n",
       "      <th>genre</th>\n",
       "      <th>rating</th>\n",
       "      <th>vote</th>\n",
       "      <th>directors</th>\n",
       "      <th>stars</th>\n",
       "      <th>metascore</th>\n",
       "      <th>gross</th>\n",
       "    </tr>\n",
       "  </thead>\n",
       "  <tbody>\n",
       "    <tr>\n",
       "      <th>0</th>\n",
       "      <td>Hassan - The image of our common pain</td>\n",
       "      <td>2018</td>\n",
       "      <td>Unrated</td>\n",
       "      <td>111</td>\n",
       "      <td>Drama  Family</td>\n",
       "      <td>10.0</td>\n",
       "      <td>5</td>\n",
       "      <td>Emaan</td>\n",
       "      <td>Leena Alam</td>\n",
       "      <td>0.0</td>\n",
       "      <td>0</td>\n",
       "    </tr>\n",
       "    <tr>\n",
       "      <th>1</th>\n",
       "      <td>Hassan - The image of our common pain</td>\n",
       "      <td>2018</td>\n",
       "      <td>Unrated</td>\n",
       "      <td>111</td>\n",
       "      <td>Drama  Family</td>\n",
       "      <td>10.0</td>\n",
       "      <td>5</td>\n",
       "      <td>Emaan</td>\n",
       "      <td>Haroon Azizi</td>\n",
       "      <td>0.0</td>\n",
       "      <td>0</td>\n",
       "    </tr>\n",
       "    <tr>\n",
       "      <th>2</th>\n",
       "      <td>Hassan - The image of our common pain</td>\n",
       "      <td>2018</td>\n",
       "      <td>Unrated</td>\n",
       "      <td>111</td>\n",
       "      <td>Drama  Family</td>\n",
       "      <td>10.0</td>\n",
       "      <td>5</td>\n",
       "      <td>Emaan</td>\n",
       "      <td>Hakim Diljo</td>\n",
       "      <td>0.0</td>\n",
       "      <td>0</td>\n",
       "    </tr>\n",
       "    <tr>\n",
       "      <th>3</th>\n",
       "      <td>Hassan - The image of our common pain</td>\n",
       "      <td>2018</td>\n",
       "      <td>Unrated</td>\n",
       "      <td>111</td>\n",
       "      <td>Drama  Family</td>\n",
       "      <td>10.0</td>\n",
       "      <td>5</td>\n",
       "      <td>Emaan</td>\n",
       "      <td>Emaan</td>\n",
       "      <td>0.0</td>\n",
       "      <td>0</td>\n",
       "    </tr>\n",
       "    <tr>\n",
       "      <th>4</th>\n",
       "      <td>Halt: The Motion Picture</td>\n",
       "      <td>2018</td>\n",
       "      <td>Unrated</td>\n",
       "      <td>110</td>\n",
       "      <td>Drama</td>\n",
       "      <td>9.9</td>\n",
       "      <td>29</td>\n",
       "      <td>Jezar Riches</td>\n",
       "      <td>Harley Wallen</td>\n",
       "      <td>0.0</td>\n",
       "      <td>0</td>\n",
       "    </tr>\n",
       "  </tbody>\n",
       "</table>\n",
       "</div>"
      ],
      "text/plain": [
       "                                   movie  year certificate  duration  \\\n",
       "0  Hassan - The image of our common pain  2018     Unrated       111   \n",
       "1  Hassan - The image of our common pain  2018     Unrated       111   \n",
       "2  Hassan - The image of our common pain  2018     Unrated       111   \n",
       "3  Hassan - The image of our common pain  2018     Unrated       111   \n",
       "4               Halt: The Motion Picture  2018     Unrated       110   \n",
       "\n",
       "           genre  rating  vote     directors          stars  metascore  gross  \n",
       "0  Drama  Family    10.0     5         Emaan     Leena Alam        0.0      0  \n",
       "1  Drama  Family    10.0     5         Emaan   Haroon Azizi        0.0      0  \n",
       "2  Drama  Family    10.0     5         Emaan    Hakim Diljo        0.0      0  \n",
       "3  Drama  Family    10.0     5         Emaan          Emaan        0.0      0  \n",
       "4          Drama     9.9    29  Jezar Riches  Harley Wallen        0.0      0  "
      ]
     },
     "execution_count": 78,
     "metadata": {},
     "output_type": "execute_result"
    }
   ],
   "source": [
    "movies_1=[]\n",
    "years_1=[]\n",
    "genres_1=[]\n",
    "certificates_1=[]\n",
    "star_1=[]\n",
    "metascores_1=[]\n",
    "votes_1=[]\n",
    "duration_1=[]\n",
    "rating_1=[]\n",
    "director_1=[]\n",
    "gross_1=[]\n",
    "for _, row in o.iterrows():\n",
    "    #print(row)\n",
    "    moviey=row.movie\n",
    "    yeary=row.year\n",
    "    genrey=row.genre\n",
    "    certificatey=row.certificate\n",
    "    ratingy=row.rating\n",
    "    metascorey=row.metascore\n",
    "    votey=row.vote\n",
    "    durationy=row.duration\n",
    "    grossy=row.gross\n",
    "    directorsy=row.directors\n",
    "    #print(row.stars)\n",
    "    for star in row.stars:\n",
    "        movies_1.append(moviey)\n",
    "        years_1.append(yeary)\n",
    "        genres_1.append(genrey)\n",
    "        certificates_1.append(certificatey)\n",
    "        star_1.append(star)\n",
    "        rating_1.append(ratingy)\n",
    "        metascores_1.append(metascorey)\n",
    "        votes_1.append(votey)\n",
    "        gross_1.append(grossy)\n",
    "        duration_1.append(durationy)\n",
    "        director_1.append(directorsy)\n",
    "\n",
    "fun2=pd.DataFrame({'movie':movies_1,'year':years_1,'certificate':certificates_1,'duration':duration_1, 'genre':genres_1,'rating':rating_1,'vote':votes_1, 'directors':director_1, 'stars':star_1,'metascore':metascores_1,'gross':gross_1})\n",
    "fun2.head()"
   ]
  },
  {
   "cell_type": "code",
   "execution_count": 79,
   "metadata": {},
   "outputs": [
    {
     "name": "stdout",
     "output_type": "stream",
     "text": [
      "<class 'pandas.core.frame.DataFrame'>\n",
      "RangeIndex: 174697 entries, 0 to 174696\n",
      "Data columns (total 11 columns):\n",
      "movie          174697 non-null object\n",
      "year           174697 non-null int64\n",
      "certificate    174697 non-null object\n",
      "duration       174697 non-null int64\n",
      "genre          174697 non-null object\n",
      "rating         174697 non-null float64\n",
      "vote           174697 non-null int64\n",
      "directors      174697 non-null object\n",
      "stars          174697 non-null object\n",
      "metascore      174697 non-null float64\n",
      "gross          174697 non-null int64\n",
      "dtypes: float64(2), int64(4), object(5)\n",
      "memory usage: 14.7+ MB\n"
     ]
    }
   ],
   "source": [
    "fun2.info()"
   ]
  },
  {
   "cell_type": "code",
   "execution_count": 80,
   "metadata": {},
   "outputs": [],
   "source": [
    "fun2['stars']=fun2['stars'].str.strip()"
   ]
  },
  {
   "cell_type": "markdown",
   "metadata": {},
   "source": [
    "I found that this list contains 128908 stars"
   ]
  },
  {
   "cell_type": "code",
   "execution_count": 81,
   "metadata": {},
   "outputs": [
    {
     "data": {
      "text/plain": [
       "116616"
      ]
     },
     "execution_count": 81,
     "metadata": {},
     "output_type": "execute_result"
    }
   ],
   "source": [
    "fun2['stars'].nunique()"
   ]
  },
  {
   "cell_type": "markdown",
   "metadata": {},
   "source": [
    "The most acted star is Eric Roberts. He has acted in 125 movies."
   ]
  },
  {
   "cell_type": "code",
   "execution_count": 82,
   "metadata": {},
   "outputs": [
    {
     "data": {
      "text/plain": [
       "<matplotlib.axes._subplots.AxesSubplot at 0x11d918780>"
      ]
     },
     "execution_count": 82,
     "metadata": {},
     "output_type": "execute_result"
    },
    {
     "data": {
      "image/png": "[encoded data removed]",
      "text/plain": [
       "<Figure size 432x288 with 1 Axes>"
      ]
     },
     "metadata": {},
     "output_type": "display_data"
    }
   ],
   "source": [
    "fun2.groupby('stars')['movie'].count().sort_values(ascending=False).head().plot(kind='bar')"
   ]
  },
  {
   "cell_type": "code",
   "execution_count": 83,
   "metadata": {},
   "outputs": [
    {
     "data": {
      "text/plain": [
       "stars\n",
       "Eric Roberts      125\n",
       "Tom Sizemore       64\n",
       "Michael Madsen     62\n",
       "Omer Pasha         59\n",
       "Danny Trejo        52\n",
       "Name: movie, dtype: int64"
      ]
     },
     "execution_count": 83,
     "metadata": {},
     "output_type": "execute_result"
    }
   ],
   "source": [
    "fun2.groupby('stars')['movie'].count().sort_values(ascending=False).head()"
   ]
  },
  {
   "cell_type": "markdown",
   "metadata": {},
   "source": [
    "Lets check next, which star's movies have made the maximum money."
   ]
  },
  {
   "cell_type": "code",
   "execution_count": 84,
   "metadata": {},
   "outputs": [
    {
     "data": {
      "text/plain": [
       "stars\n",
       "Robert Downey Jr.    3830758869\n",
       "Dwayne Johnson       2773039122\n",
       "Chris Evans          2706488135\n",
       "Chris Pratt          2398661440\n",
       "Jennifer Lawrence    2298474157\n",
       "Name: gross, dtype: int64"
      ]
     },
     "execution_count": 84,
     "metadata": {},
     "output_type": "execute_result"
    }
   ],
   "source": [
    "fun2.groupby('stars')['gross'].sum().sort_values(ascending=False).head()"
   ]
  },
  {
   "cell_type": "markdown",
   "metadata": {},
   "source": [
    "Iron man-- Robert Downey Jr. beats everyone in this front. "
   ]
  },
  {
   "cell_type": "code",
   "execution_count": 85,
   "metadata": {},
   "outputs": [
    {
     "data": {
      "text/plain": [
       "<matplotlib.axes._subplots.AxesSubplot at 0x1194d8da0>"
      ]
     },
     "execution_count": 85,
     "metadata": {},
     "output_type": "execute_result"
    },
    {
     "data": {
      "image/png": "[encoded data removed]",
      "text/plain": [
       "<Figure size 432x288 with 1 Axes>"
      ]
     },
     "metadata": {},
     "output_type": "display_data"
    }
   ],
   "source": [
    "fun2.groupby('stars')['gross'].sum().sort_values(ascending=False).head().plot(kind='bar')"
   ]
  },
  {
   "cell_type": "markdown",
   "metadata": {},
   "source": [
    "The next title for a star whose per movie gross is maximum goes to the Star Wars actress Daisy Ridley."
   ]
  },
  {
   "cell_type": "code",
   "execution_count": 86,
   "metadata": {},
   "outputs": [
    {
     "data": {
      "text/html": [
       "<div>\n",
       "<style scoped>\n",
       "    .dataframe tbody tr th:only-of-type {\n",
       "        vertical-align: middle;\n",
       "    }\n",
       "\n",
       "    .dataframe tbody tr th {\n",
       "        vertical-align: top;\n",
       "    }\n",
       "\n",
       "    .dataframe thead th {\n",
       "        text-align: right;\n",
       "    }\n",
       "</style>\n",
       "<table border=\"1\" class=\"dataframe\">\n",
       "  <thead>\n",
       "    <tr style=\"text-align: right;\">\n",
       "      <th></th>\n",
       "      <th>index</th>\n",
       "      <th>gross</th>\n",
       "      <th>movie</th>\n",
       "      <th>money per movie</th>\n",
       "    </tr>\n",
       "  </thead>\n",
       "  <tbody>\n",
       "    <tr>\n",
       "      <th>1487</th>\n",
       "      <td>Daisy Ridley</td>\n",
       "      <td>1556843607</td>\n",
       "      <td>2</td>\n",
       "      <td>778421803.5</td>\n",
       "    </tr>\n",
       "    <tr>\n",
       "      <th>6057</th>\n",
       "      <td>Sarah Vowell</td>\n",
       "      <td>608581744</td>\n",
       "      <td>1</td>\n",
       "      <td>608581744.0</td>\n",
       "    </tr>\n",
       "    <tr>\n",
       "      <th>2610</th>\n",
       "      <td>Huck Milner</td>\n",
       "      <td>608581744</td>\n",
       "      <td>1</td>\n",
       "      <td>608581744.0</td>\n",
       "    </tr>\n",
       "    <tr>\n",
       "      <th>3634</th>\n",
       "      <td>Kaitlin Olson</td>\n",
       "      <td>486295561</td>\n",
       "      <td>1</td>\n",
       "      <td>486295561.0</td>\n",
       "    </tr>\n",
       "    <tr>\n",
       "      <th>1991</th>\n",
       "      <td>Ellen DeGeneres</td>\n",
       "      <td>486295561</td>\n",
       "      <td>1</td>\n",
       "      <td>486295561.0</td>\n",
       "    </tr>\n",
       "  </tbody>\n",
       "</table>\n",
       "</div>"
      ],
      "text/plain": [
       "                index       gross  movie  money per movie\n",
       "1487     Daisy Ridley  1556843607      2      778421803.5\n",
       "6057     Sarah Vowell   608581744      1      608581744.0\n",
       "2610      Huck Milner   608581744      1      608581744.0\n",
       "3634    Kaitlin Olson   486295561      1      486295561.0\n",
       "1991  Ellen DeGeneres   486295561      1      486295561.0"
      ]
     },
     "execution_count": 86,
     "metadata": {},
     "output_type": "execute_result"
    }
   ],
   "source": [
    "p=fun2.drop(fun2[fun2['gross']==0].index)\n",
    "q=p.groupby('stars')['gross'].sum().sort_values(ascending=False)\n",
    "r=p.groupby('stars')['movie'].count().sort_values(ascending=False)\n",
    "s=pd.concat([q,r],axis=1)\n",
    "s['money per movie']=s['gross'].divide(s['movie'])\n",
    "s.reset_index(level=0, inplace=True)\n",
    "t=s.sort_values('money per movie',ascending=False).head()\n",
    "t"
   ]
  },
  {
   "cell_type": "code",
   "execution_count": 87,
   "metadata": {},
   "outputs": [
    {
     "data": {
      "text/plain": [
       "Text(0.5,1,'Highly efficient stars')"
      ]
     },
     "execution_count": 87,
     "metadata": {},
     "output_type": "execute_result"
    },
    {
     "data": {
      "image/png": "[encoded data removed]",
      "text/plain": [
       "<Figure size 360x360 with 1 Axes>"
      ]
     },
     "metadata": {},
     "output_type": "display_data"
    }
   ],
   "source": [
    "sns.catplot(y='money per movie', x='index',data=t, kind='bar')\n",
    "plt.xticks(rotation=90)\n",
    "plt.xlabel('Stars',fontsize=14)\n",
    "plt.ylabel('Revenue generated per movie',fontsize=14)\n",
    "plt.title('Highly efficient stars',fontsize=16)"
   ]
  },
  {
   "cell_type": "code",
   "execution_count": 88,
   "metadata": {},
   "outputs": [
    {
     "data": {
      "text/html": [
       "<div>\n",
       "<style scoped>\n",
       "    .dataframe tbody tr th:only-of-type {\n",
       "        vertical-align: middle;\n",
       "    }\n",
       "\n",
       "    .dataframe tbody tr th {\n",
       "        vertical-align: top;\n",
       "    }\n",
       "\n",
       "    .dataframe thead th {\n",
       "        text-align: right;\n",
       "    }\n",
       "</style>\n",
       "<table border=\"1\" class=\"dataframe\">\n",
       "  <thead>\n",
       "    <tr style=\"text-align: right;\">\n",
       "      <th></th>\n",
       "      <th>movie</th>\n",
       "      <th>year</th>\n",
       "      <th>certificate</th>\n",
       "      <th>duration</th>\n",
       "      <th>genre</th>\n",
       "      <th>rating</th>\n",
       "      <th>vote</th>\n",
       "      <th>directors</th>\n",
       "      <th>stars</th>\n",
       "      <th>metascore</th>\n",
       "      <th>gross</th>\n",
       "    </tr>\n",
       "  </thead>\n",
       "  <tbody>\n",
       "    <tr>\n",
       "      <th>24531</th>\n",
       "      <td>Star Wars: Episode VIII - The Last Jedi</td>\n",
       "      <td>2017</td>\n",
       "      <td>PG-13</td>\n",
       "      <td>152</td>\n",
       "      <td>Action  Adventure  Fantasy</td>\n",
       "      <td>7.2</td>\n",
       "      <td>437391</td>\n",
       "      <td>Rian Johnson</td>\n",
       "      <td>Daisy Ridley</td>\n",
       "      <td>85.0</td>\n",
       "      <td>620181382</td>\n",
       "    </tr>\n",
       "    <tr>\n",
       "      <th>62551</th>\n",
       "      <td>Star Wars: The Force Awakens</td>\n",
       "      <td>2015</td>\n",
       "      <td>PG-13</td>\n",
       "      <td>136</td>\n",
       "      <td>Action  Adventure  Fantasy</td>\n",
       "      <td>8.0</td>\n",
       "      <td>766401</td>\n",
       "      <td>J.J. Abrams</td>\n",
       "      <td>Daisy Ridley</td>\n",
       "      <td>81.0</td>\n",
       "      <td>936662225</td>\n",
       "    </tr>\n",
       "  </tbody>\n",
       "</table>\n",
       "</div>"
      ],
      "text/plain": [
       "                                         movie  year certificate  duration  \\\n",
       "24531  Star Wars: Episode VIII - The Last Jedi  2017       PG-13       152   \n",
       "62551             Star Wars: The Force Awakens  2015       PG-13       136   \n",
       "\n",
       "                            genre  rating    vote     directors         stars  \\\n",
       "24531  Action  Adventure  Fantasy     7.2  437391  Rian Johnson  Daisy Ridley   \n",
       "62551  Action  Adventure  Fantasy     8.0  766401   J.J. Abrams  Daisy Ridley   \n",
       "\n",
       "       metascore      gross  \n",
       "24531       85.0  620181382  \n",
       "62551       81.0  936662225  "
      ]
     },
     "execution_count": 88,
     "metadata": {},
     "output_type": "execute_result"
    }
   ],
   "source": [
    "p[p['stars']=='Daisy Ridley']"
   ]
  },
  {
   "cell_type": "markdown",
   "metadata": {},
   "source": [
    "Next, I tried building a predictive model for predicting revenue generated by a movie. For this I used the data for which 'gross' was available. "
   ]
  },
  {
   "cell_type": "code",
   "execution_count": 89,
   "metadata": {},
   "outputs": [
    {
     "name": "stdout",
     "output_type": "stream",
     "text": [
      "<class 'pandas.core.frame.DataFrame'>\n",
      "Int64Index: 3546 entries, 48 to 46983\n",
      "Data columns (total 12 columns):\n",
      "Unnamed: 0     3546 non-null int64\n",
      "movie          3546 non-null object\n",
      "year           3546 non-null int64\n",
      "genre          3546 non-null object\n",
      "duration       3546 non-null int64\n",
      "certificate    3546 non-null object\n",
      "directors      3546 non-null object\n",
      "stars          3546 non-null object\n",
      "rating         3546 non-null float64\n",
      "metascore      3546 non-null float64\n",
      "vote           3546 non-null int64\n",
      "gross          3546 non-null int64\n",
      "dtypes: float64(2), int64(5), object(5)\n",
      "memory usage: 360.1+ KB\n"
     ]
    }
   ],
   "source": [
    "data=pd.read_csv('movies_2.csv')\n",
    "data=data[data['gross']!=0]\n",
    "data.info()"
   ]
  },
  {
   "cell_type": "code",
   "execution_count": 90,
   "metadata": {},
   "outputs": [
    {
     "data": {
      "text/html": [
       "<div>\n",
       "<style scoped>\n",
       "    .dataframe tbody tr th:only-of-type {\n",
       "        vertical-align: middle;\n",
       "    }\n",
       "\n",
       "    .dataframe tbody tr th {\n",
       "        vertical-align: top;\n",
       "    }\n",
       "\n",
       "    .dataframe thead th {\n",
       "        text-align: right;\n",
       "    }\n",
       "</style>\n",
       "<table border=\"1\" class=\"dataframe\">\n",
       "  <thead>\n",
       "    <tr style=\"text-align: right;\">\n",
       "      <th></th>\n",
       "      <th>Unnamed: 0</th>\n",
       "      <th>movie</th>\n",
       "      <th>year</th>\n",
       "      <th>genre</th>\n",
       "      <th>duration</th>\n",
       "      <th>certificate</th>\n",
       "      <th>directors</th>\n",
       "      <th>stars</th>\n",
       "      <th>rating</th>\n",
       "      <th>metascore</th>\n",
       "      <th>vote</th>\n",
       "      <th>gross</th>\n",
       "      <th>genre2</th>\n",
       "    </tr>\n",
       "  </thead>\n",
       "  <tbody>\n",
       "    <tr>\n",
       "      <th>48</th>\n",
       "      <td>48</td>\n",
       "      <td>The Boys Are Back - Bandstand: The Broadway Mu...</td>\n",
       "      <td>2018</td>\n",
       "      <td>Musical</td>\n",
       "      <td>130</td>\n",
       "      <td>Unrated</td>\n",
       "      <td>Lorenzo Thione, Matt Hoffman</td>\n",
       "      <td>Carleigh Bettiol, Mary Callanan, Joe Carroll, ...</td>\n",
       "      <td>9.2</td>\n",
       "      <td>0.0</td>\n",
       "      <td>45</td>\n",
       "      <td>855333</td>\n",
       "      <td>[Musical]</td>\n",
       "    </tr>\n",
       "    <tr>\n",
       "      <th>139</th>\n",
       "      <td>139</td>\n",
       "      <td>Spider-Man: Into the Spider-Verse</td>\n",
       "      <td>2018</td>\n",
       "      <td>Animation, Action, Adventure</td>\n",
       "      <td>117</td>\n",
       "      <td>PG</td>\n",
       "      <td>Bob Persichetti, Peter Ramsey, Rodney Rothman</td>\n",
       "      <td>Shameik Moore, Jake Johnson, Hailee Steinfeld,...</td>\n",
       "      <td>8.7</td>\n",
       "      <td>87.0</td>\n",
       "      <td>67264</td>\n",
       "      <td>133978231</td>\n",
       "      <td>[Animation, Action, Adventure]</td>\n",
       "    </tr>\n",
       "  </tbody>\n",
       "</table>\n",
       "</div>"
      ],
      "text/plain": [
       "     Unnamed: 0                                              movie  year  \\\n",
       "48           48  The Boys Are Back - Bandstand: The Broadway Mu...  2018   \n",
       "139         139                  Spider-Man: Into the Spider-Verse  2018   \n",
       "\n",
       "                            genre  duration certificate  \\\n",
       "48                        Musical       130     Unrated   \n",
       "139  Animation, Action, Adventure       117          PG   \n",
       "\n",
       "                                         directors  \\\n",
       "48                    Lorenzo Thione, Matt Hoffman   \n",
       "139  Bob Persichetti, Peter Ramsey, Rodney Rothman   \n",
       "\n",
       "                                                 stars  rating  metascore  \\\n",
       "48   Carleigh Bettiol, Mary Callanan, Joe Carroll, ...     9.2        0.0   \n",
       "139  Shameik Moore, Jake Johnson, Hailee Steinfeld,...     8.7       87.0   \n",
       "\n",
       "      vote      gross                          genre2  \n",
       "48      45     855333                       [Musical]  \n",
       "139  67264  133978231  [Animation, Action, Adventure]  "
      ]
     },
     "execution_count": 90,
     "metadata": {},
     "output_type": "execute_result"
    }
   ],
   "source": [
    "data['genre2']=data['genre'].str.split(', ')\n",
    "data.head(2)"
   ]
  },
  {
   "cell_type": "code",
   "execution_count": 91,
   "metadata": {},
   "outputs": [
    {
     "data": {
      "text/html": [
       "<div>\n",
       "<style scoped>\n",
       "    .dataframe tbody tr th:only-of-type {\n",
       "        vertical-align: middle;\n",
       "    }\n",
       "\n",
       "    .dataframe tbody tr th {\n",
       "        vertical-align: top;\n",
       "    }\n",
       "\n",
       "    .dataframe thead th {\n",
       "        text-align: right;\n",
       "    }\n",
       "</style>\n",
       "<table border=\"1\" class=\"dataframe\">\n",
       "  <thead>\n",
       "    <tr style=\"text-align: right;\">\n",
       "      <th></th>\n",
       "      <th>Unnamed: 0</th>\n",
       "      <th>movie</th>\n",
       "      <th>year</th>\n",
       "      <th>genre</th>\n",
       "      <th>duration</th>\n",
       "      <th>certificate</th>\n",
       "      <th>directors</th>\n",
       "      <th>stars</th>\n",
       "      <th>rating</th>\n",
       "      <th>metascore</th>\n",
       "      <th>...</th>\n",
       "      <th>Music</th>\n",
       "      <th>Musical</th>\n",
       "      <th>Mystery</th>\n",
       "      <th>Romance</th>\n",
       "      <th>Sci-Fi</th>\n",
       "      <th>Sport</th>\n",
       "      <th>Thriller</th>\n",
       "      <th>Unknown</th>\n",
       "      <th>War</th>\n",
       "      <th>Western</th>\n",
       "    </tr>\n",
       "  </thead>\n",
       "  <tbody>\n",
       "    <tr>\n",
       "      <th>48</th>\n",
       "      <td>48</td>\n",
       "      <td>The Boys Are Back - Bandstand: The Broadway Mu...</td>\n",
       "      <td>2018</td>\n",
       "      <td>Musical</td>\n",
       "      <td>130</td>\n",
       "      <td>Unrated</td>\n",
       "      <td>Lorenzo Thione, Matt Hoffman</td>\n",
       "      <td>Carleigh Bettiol, Mary Callanan, Joe Carroll, ...</td>\n",
       "      <td>9.2</td>\n",
       "      <td>0.0</td>\n",
       "      <td>...</td>\n",
       "      <td>0</td>\n",
       "      <td>1</td>\n",
       "      <td>0</td>\n",
       "      <td>0</td>\n",
       "      <td>0</td>\n",
       "      <td>0</td>\n",
       "      <td>0</td>\n",
       "      <td>0</td>\n",
       "      <td>0</td>\n",
       "      <td>0</td>\n",
       "    </tr>\n",
       "    <tr>\n",
       "      <th>139</th>\n",
       "      <td>139</td>\n",
       "      <td>Spider-Man: Into the Spider-Verse</td>\n",
       "      <td>2018</td>\n",
       "      <td>Animation, Action, Adventure</td>\n",
       "      <td>117</td>\n",
       "      <td>PG</td>\n",
       "      <td>Bob Persichetti, Peter Ramsey, Rodney Rothman</td>\n",
       "      <td>Shameik Moore, Jake Johnson, Hailee Steinfeld,...</td>\n",
       "      <td>8.7</td>\n",
       "      <td>87.0</td>\n",
       "      <td>...</td>\n",
       "      <td>0</td>\n",
       "      <td>0</td>\n",
       "      <td>0</td>\n",
       "      <td>0</td>\n",
       "      <td>0</td>\n",
       "      <td>0</td>\n",
       "      <td>0</td>\n",
       "      <td>0</td>\n",
       "      <td>0</td>\n",
       "      <td>0</td>\n",
       "    </tr>\n",
       "  </tbody>\n",
       "</table>\n",
       "<p>2 rows × 33 columns</p>\n",
       "</div>"
      ],
      "text/plain": [
       "     Unnamed: 0                                              movie  year  \\\n",
       "48           48  The Boys Are Back - Bandstand: The Broadway Mu...  2018   \n",
       "139         139                  Spider-Man: Into the Spider-Verse  2018   \n",
       "\n",
       "                            genre  duration certificate  \\\n",
       "48                        Musical       130     Unrated   \n",
       "139  Animation, Action, Adventure       117          PG   \n",
       "\n",
       "                                         directors  \\\n",
       "48                    Lorenzo Thione, Matt Hoffman   \n",
       "139  Bob Persichetti, Peter Ramsey, Rodney Rothman   \n",
       "\n",
       "                                                 stars  rating  metascore  \\\n",
       "48   Carleigh Bettiol, Mary Callanan, Joe Carroll, ...     9.2        0.0   \n",
       "139  Shameik Moore, Jake Johnson, Hailee Steinfeld,...     8.7       87.0   \n",
       "\n",
       "      ...     Music  Musical  Mystery  Romance  Sci-Fi  Sport  Thriller  \\\n",
       "48    ...         0        1        0        0       0      0         0   \n",
       "139   ...         0        0        0        0       0      0         0   \n",
       "\n",
       "     Unknown  War  Western  \n",
       "48         0    0        0  \n",
       "139        0    0        0  \n",
       "\n",
       "[2 rows x 33 columns]"
      ]
     },
     "execution_count": 91,
     "metadata": {},
     "output_type": "execute_result"
    }
   ],
   "source": [
    "# to get the list of the genre for each row into a One hot encoded form\n",
    "from sklearn.preprocessing import MultiLabelBinarizer\n",
    "mlb = MultiLabelBinarizer()\n",
    "data2 = data.join(pd.DataFrame(mlb.fit_transform(data.pop('genre2')),\n",
    "                          columns=mlb.classes_,\n",
    "                          index=data.index))\n",
    "data2.head(2)"
   ]
  },
  {
   "cell_type": "code",
   "execution_count": 92,
   "metadata": {},
   "outputs": [
    {
     "data": {
      "text/plain": [
       "(3546, 24)"
      ]
     },
     "execution_count": 92,
     "metadata": {},
     "output_type": "execute_result"
    }
   ],
   "source": [
    "data3= data2.drop(['Unnamed: 0', 'movie','year', 'genre','duration','certificate','directors','stars','Unknown'], axis=1)\n",
    "data3.shape"
   ]
  },
  {
   "cell_type": "code",
   "execution_count": 93,
   "metadata": {},
   "outputs": [],
   "source": [
    "x=data3.drop('gross', axis=1)\n",
    "X=x.values\n",
    "y=data3['gross']"
   ]
  },
  {
   "cell_type": "markdown",
   "metadata": {},
   "source": [
    "Used RandomForestRegressor to build a model. Hyperparameter tuning was also done. The low R2 score and hig RMSE could be due to a small data size and not all determining features available for this analysis such as the budget of the movie, etc."
   ]
  },
  {
   "cell_type": "code",
   "execution_count": 94,
   "metadata": {},
   "outputs": [
    {
     "name": "stdout",
     "output_type": "stream",
     "text": [
      "RMSE : 42245586.153561\n",
      "R2 score: 0.64\n"
     ]
    }
   ],
   "source": [
    "forest_model = RandomForestRegressor(random_state=21)\n",
    "train_X, test_X, train_y, test_y = train_test_split(X, y, test_size=0.25, random_state=21)\n",
    "rmse= np.sqrt(np.mean(-cross_val_score(forest_model, train_X, train_y,cv=3,  scoring='neg_mean_squared_error')))\n",
    "print(\"RMSE : %f\" % (rmse))\n",
    "r2_score1= np.mean(cross_val_score(forest_model, train_X, train_y,cv=5,  scoring='r2'))\n",
    "print(\"R2 score: %s\" % '{:.2}'.format(r2_score1))"
   ]
  },
  {
   "cell_type": "code",
   "execution_count": 95,
   "metadata": {},
   "outputs": [
    {
     "name": "stdout",
     "output_type": "stream",
     "text": [
      "{'bootstrap': True, 'max_depth': 60, 'max_features': 'sqrt', 'min_samples_leaf': 1, 'min_samples_split': 4, 'n_estimators': 1000}\n"
     ]
    }
   ],
   "source": [
    "param_grid = {'max_depth': [10, 20, 60],\n",
    "              'max_features': ['auto','sqrt'],\n",
    "              'min_samples_leaf': [1, 3, 5],\n",
    "              'min_samples_split': [2, 4, 8],\n",
    "              'n_estimators': [100, 500, 1000],\n",
    "             'bootstrap': [False, True]}\n",
    "# Create a base model\n",
    "rf = RandomForestRegressor(random_state=21)\n",
    "# Instantiate the grid search model\n",
    "rf_grid = GridSearchCV(estimator = rf, param_grid = param_grid, \n",
    "                          cv = 3, n_jobs = -1, verbose = 0)\n",
    "rf_grid.fit(train_X, train_y)\n",
    "print(rf_grid.best_params_)\n"
   ]
  },
  {
   "cell_type": "code",
   "execution_count": 96,
   "metadata": {},
   "outputs": [
    {
     "name": "stdout",
     "output_type": "stream",
     "text": [
      "RMSE : 40582962.327138\n",
      "R2 score: 0.64\n"
     ]
    }
   ],
   "source": [
    "rf_cv_grid=RandomForestRegressor(random_state=21,n_estimators= 500, min_samples_split= 2, min_samples_leaf= 1, max_features= 'sqrt', max_depth= 20, bootstrap= True)\n",
    "train_X, test_X, train_y, test_y = train_test_split(X, y, test_size=0.25, random_state=21)\n",
    "rf_cv_grid.fit(train_X,train_y )\n",
    "predictions=rf_cv_grid.predict(test_X)\n",
    "rmse3 = np.sqrt(mean_squared_error(test_y, predictions))\n",
    "print(\"RMSE : %f\" % (rmse3))\n",
    "r23= r2_score(test_y,predictions)\n",
    "print(\"R2 score: %s\" % '{:.2}'.format(r23))"
   ]
  },
  {
   "cell_type": "markdown",
   "metadata": {},
   "source": [
    "Next obtained importance of features for determining revenue of a movie. "
   ]
  },
  {
   "cell_type": "code",
   "execution_count": 98,
   "metadata": {},
   "outputs": [
    {
     "data": {
      "image/png": "[encoded data removed]",
      "text/plain": [
       "<Figure size 504x360 with 1 Axes>"
      ]
     },
     "metadata": {},
     "output_type": "display_data"
    }
   ],
   "source": [
    "#rf_cv_grid.fit(train_X, train_y)\n",
    "fig, ax=plt.subplots(figsize=(7,5))\n",
    "features = x.columns\n",
    "importances = rf_cv_grid.feature_importances_\n",
    "indices = np.argsort(importances)\n",
    "\n",
    "plt.title('Features Importance', fontsize=14)\n",
    "plt.barh(range(len(indices)), importances[indices], color='green', align='center')\n",
    "plt.yticks(range(len(indices)), [features[i] for i in indices])\n",
    "plt.xlabel('Relative Importance')\n",
    "plt.show() \n",
    "\n"
   ]
  }
 ],
 "metadata": {
  "kernelspec": {
   "display_name": "Python 3",
   "language": "python",
   "name": "python3"
  },
  "language_info": {
   "codemirror_mode": {
    "name": "ipython",
    "version": 3
   },
   "file_extension": ".py",
   "mimetype": "text/x-python",
   "name": "python",
   "nbconvert_exporter": "python",
   "pygments_lexer": "ipython3",
   "version": "3.6.4"
  }
 },
 "nbformat": 4,
 "nbformat_minor": 2
}
