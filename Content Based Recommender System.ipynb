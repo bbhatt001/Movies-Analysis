{
 "cells": [
  {
   "cell_type": "markdown",
   "metadata": {},
   "source": [
    "## Part 3"
   ]
  },
  {
   "cell_type": "markdown",
   "metadata": {},
   "source": [
    "This notebook deals with creating a content based recommender system."
   ]
  },
  {
   "cell_type": "code",
   "execution_count": 1,
   "metadata": {},
   "outputs": [],
   "source": [
    "#Importing necessary modules\n",
    "import pandas as pd\n",
    "import numpy as np\n",
    "import matplotlib.pyplot as plt\n",
    "% matplotlib inline\n",
    "from sklearn.feature_extraction.text import CountVectorizer\n",
    "from sklearn.metrics.pairwise import cosine_similarity\n",
    "\n",
    "pd.set_option('display.max_rows', None, 'display.max_columns', None)"
   ]
  },
  {
   "cell_type": "code",
   "execution_count": 2,
   "metadata": {},
   "outputs": [
    {
     "name": "stdout",
     "output_type": "stream",
     "text": [
      "<class 'pandas.core.frame.DataFrame'>\n",
      "RangeIndex: 48158 entries, 0 to 48157\n",
      "Data columns (total 12 columns):\n",
      "Unnamed: 0     48158 non-null int64\n",
      "movie          48158 non-null object\n",
      "year           48158 non-null int64\n",
      "genre          48158 non-null object\n",
      "duration       48158 non-null int64\n",
      "certificate    48158 non-null object\n",
      "directors      48158 non-null object\n",
      "stars          48158 non-null object\n",
      "rating         48158 non-null float64\n",
      "metascore      48158 non-null float64\n",
      "vote           48158 non-null int64\n",
      "gross          48158 non-null int64\n",
      "dtypes: float64(2), int64(5), object(5)\n",
      "memory usage: 4.4+ MB\n"
     ]
    }
   ],
   "source": [
    "movies=pd.read_csv('movies_2.csv')\n",
    "movies.info()"
   ]
  },
  {
   "cell_type": "code",
   "execution_count": 3,
   "metadata": {},
   "outputs": [
    {
     "name": "stdout",
     "output_type": "stream",
     "text": [
      "<class 'pandas.core.frame.DataFrame'>\n",
      "RangeIndex: 48158 entries, 0 to 48157\n",
      "Data columns (total 4 columns):\n",
      "movie        48158 non-null object\n",
      "genre        48158 non-null object\n",
      "directors    48158 non-null object\n",
      "stars        48158 non-null object\n",
      "dtypes: object(4)\n",
      "memory usage: 1.5+ MB\n"
     ]
    }
   ],
   "source": [
    "movies=movies.drop(['Unnamed: 0','year','duration','certificate','rating','metascore','vote','gross'], axis=1)\n",
    "movies['stars']=movies['stars'].str.replace('Unknown','')\n",
    "movies['genre']=movies['genre'].str.replace('Unknown','')\n",
    "movies['directors']=movies['directors'].str.replace('Unknown','')\n",
    "movies.info()"
   ]
  },
  {
   "cell_type": "markdown",
   "metadata": {},
   "source": [
    "To get content based recommendations, we need to first collect all the words from stars, directors and genre. This has been done next. There are many stars for each movie and as not all of them deciding factor whether a movie is good or not, I collected only first three stars per movie. Also, I gave more weight to directors for my recommendation. "
   ]
  },
  {
   "cell_type": "code",
   "execution_count": 4,
   "metadata": {},
   "outputs": [
    {
     "data": {
      "text/html": [
       "<div>\n",
       "<style scoped>\n",
       "    .dataframe tbody tr th:only-of-type {\n",
       "        vertical-align: middle;\n",
       "    }\n",
       "\n",
       "    .dataframe tbody tr th {\n",
       "        vertical-align: top;\n",
       "    }\n",
       "\n",
       "    .dataframe thead th {\n",
       "        text-align: right;\n",
       "    }\n",
       "</style>\n",
       "<table border=\"1\" class=\"dataframe\">\n",
       "  <thead>\n",
       "    <tr style=\"text-align: right;\">\n",
       "      <th></th>\n",
       "      <th>movie</th>\n",
       "      <th>genre</th>\n",
       "      <th>directors</th>\n",
       "      <th>stars</th>\n",
       "      <th>n_stars</th>\n",
       "    </tr>\n",
       "  </thead>\n",
       "  <tbody>\n",
       "    <tr>\n",
       "      <th>0</th>\n",
       "      <td>Hassan - The image of our common pain</td>\n",
       "      <td>Drama, Family</td>\n",
       "      <td>Emaan</td>\n",
       "      <td>[Leena Alam,  Haroon Azizi,  Hakim Diljo,  Emaan]</td>\n",
       "      <td>4</td>\n",
       "    </tr>\n",
       "    <tr>\n",
       "      <th>1</th>\n",
       "      <td>Halt: The Motion Picture</td>\n",
       "      <td>Drama</td>\n",
       "      <td>Jezar Riches</td>\n",
       "      <td>[Harley Wallen,  Andrew Dawe-Collins,  Dennis ...</td>\n",
       "      <td>4</td>\n",
       "    </tr>\n",
       "  </tbody>\n",
       "</table>\n",
       "</div>"
      ],
      "text/plain": [
       "                                   movie          genre     directors  \\\n",
       "0  Hassan - The image of our common pain  Drama, Family         Emaan   \n",
       "1               Halt: The Motion Picture          Drama  Jezar Riches   \n",
       "\n",
       "                                               stars  n_stars  \n",
       "0  [Leena Alam,  Haroon Azizi,  Hakim Diljo,  Emaan]        4  \n",
       "1  [Harley Wallen,  Andrew Dawe-Collins,  Dennis ...        4  "
      ]
     },
     "execution_count": 4,
     "metadata": {},
     "output_type": "execute_result"
    }
   ],
   "source": [
    "movies['stars']=movies['stars'].str.split(',')\n",
    "movies['n_stars']=movies['stars'].apply(len)\n",
    "movies.head(2)"
   ]
  },
  {
   "cell_type": "code",
   "execution_count": 5,
   "metadata": {},
   "outputs": [
    {
     "data": {
      "text/html": [
       "<div>\n",
       "<style scoped>\n",
       "    .dataframe tbody tr th:only-of-type {\n",
       "        vertical-align: middle;\n",
       "    }\n",
       "\n",
       "    .dataframe tbody tr th {\n",
       "        vertical-align: top;\n",
       "    }\n",
       "\n",
       "    .dataframe thead th {\n",
       "        text-align: right;\n",
       "    }\n",
       "</style>\n",
       "<table border=\"1\" class=\"dataframe\">\n",
       "  <thead>\n",
       "    <tr style=\"text-align: right;\">\n",
       "      <th></th>\n",
       "      <th>movie</th>\n",
       "      <th>genre</th>\n",
       "      <th>directors</th>\n",
       "      <th>stars</th>\n",
       "      <th>n_stars</th>\n",
       "      <th>stars1</th>\n",
       "    </tr>\n",
       "  </thead>\n",
       "  <tbody>\n",
       "    <tr>\n",
       "      <th>0</th>\n",
       "      <td>Hassan - The image of our common pain</td>\n",
       "      <td>Drama, Family</td>\n",
       "      <td>Emaan</td>\n",
       "      <td>[Leena Alam,  Haroon Azizi,  Hakim Diljo,  Emaan]</td>\n",
       "      <td>4</td>\n",
       "      <td>[Leena Alam,  Haroon Azizi,  Hakim Diljo]</td>\n",
       "    </tr>\n",
       "    <tr>\n",
       "      <th>1</th>\n",
       "      <td>Halt: The Motion Picture</td>\n",
       "      <td>Drama</td>\n",
       "      <td>Jezar Riches</td>\n",
       "      <td>[Harley Wallen,  Andrew Dawe-Collins,  Dennis ...</td>\n",
       "      <td>4</td>\n",
       "      <td>[Harley Wallen,  Andrew Dawe-Collins,  Dennis ...</td>\n",
       "    </tr>\n",
       "  </tbody>\n",
       "</table>\n",
       "</div>"
      ],
      "text/plain": [
       "                                   movie          genre     directors  \\\n",
       "0  Hassan - The image of our common pain  Drama, Family         Emaan   \n",
       "1               Halt: The Motion Picture          Drama  Jezar Riches   \n",
       "\n",
       "                                               stars  n_stars  \\\n",
       "0  [Leena Alam,  Haroon Azizi,  Hakim Diljo,  Emaan]        4   \n",
       "1  [Harley Wallen,  Andrew Dawe-Collins,  Dennis ...        4   \n",
       "\n",
       "                                              stars1  \n",
       "0          [Leena Alam,  Haroon Azizi,  Hakim Diljo]  \n",
       "1  [Harley Wallen,  Andrew Dawe-Collins,  Dennis ...  "
      ]
     },
     "execution_count": 5,
     "metadata": {},
     "output_type": "execute_result"
    }
   ],
   "source": [
    "movies['stars1'] = movies['stars'].apply(lambda x: x[:3] if len(x) >=3 else x)\n",
    "movies.head(2)"
   ]
  },
  {
   "cell_type": "markdown",
   "metadata": {},
   "source": [
    "The next function helps in combining both the first and second names and making them lowercase. This prevents the later algorithm in wrongly matching 'James' of James Cameron and James Wan."
   ]
  },
  {
   "cell_type": "code",
   "execution_count": 6,
   "metadata": {},
   "outputs": [
    {
     "data": {
      "text/html": [
       "<div>\n",
       "<style scoped>\n",
       "    .dataframe tbody tr th:only-of-type {\n",
       "        vertical-align: middle;\n",
       "    }\n",
       "\n",
       "    .dataframe tbody tr th {\n",
       "        vertical-align: top;\n",
       "    }\n",
       "\n",
       "    .dataframe thead th {\n",
       "        text-align: right;\n",
       "    }\n",
       "</style>\n",
       "<table border=\"1\" class=\"dataframe\">\n",
       "  <thead>\n",
       "    <tr style=\"text-align: right;\">\n",
       "      <th></th>\n",
       "      <th>movie</th>\n",
       "      <th>genre</th>\n",
       "      <th>directors</th>\n",
       "      <th>stars</th>\n",
       "      <th>n_stars</th>\n",
       "      <th>stars1</th>\n",
       "      <th>stars2</th>\n",
       "    </tr>\n",
       "  </thead>\n",
       "  <tbody>\n",
       "    <tr>\n",
       "      <th>0</th>\n",
       "      <td>Hassan - The image of our common pain</td>\n",
       "      <td>Drama, Family</td>\n",
       "      <td>Emaan</td>\n",
       "      <td>[Leena Alam,  Haroon Azizi,  Hakim Diljo,  Emaan]</td>\n",
       "      <td>4</td>\n",
       "      <td>[Leena Alam,  Haroon Azizi,  Hakim Diljo]</td>\n",
       "      <td>[leenaalam, haroonazizi, hakimdiljo]</td>\n",
       "    </tr>\n",
       "    <tr>\n",
       "      <th>1</th>\n",
       "      <td>Halt: The Motion Picture</td>\n",
       "      <td>Drama</td>\n",
       "      <td>Jezar Riches</td>\n",
       "      <td>[Harley Wallen,  Andrew Dawe-Collins,  Dennis ...</td>\n",
       "      <td>4</td>\n",
       "      <td>[Harley Wallen,  Andrew Dawe-Collins,  Dennis ...</td>\n",
       "      <td>[harleywallen, andrewdawe-collins, dennisdoyle...</td>\n",
       "    </tr>\n",
       "    <tr>\n",
       "      <th>2</th>\n",
       "      <td>Onyx, Kings of the Grail</td>\n",
       "      <td>History</td>\n",
       "      <td>Roberto Girault</td>\n",
       "      <td>[Jim Caviezel,  Maria de Medeiros,  Anthony Ho...</td>\n",
       "      <td>4</td>\n",
       "      <td>[Jim Caviezel,  Maria de Medeiros,  Anthony Ho...</td>\n",
       "      <td>[jimcaviezel, mariademedeiros, anthonyhowell]</td>\n",
       "    </tr>\n",
       "    <tr>\n",
       "      <th>3</th>\n",
       "      <td>Mr. Presto</td>\n",
       "      <td>Comedy</td>\n",
       "      <td>Joey Kneiser</td>\n",
       "      <td>[Shane Spresser,  Eric Giles,  Jon Latham,  Sp...</td>\n",
       "      <td>4</td>\n",
       "      <td>[Shane Spresser,  Eric Giles,  Jon Latham]</td>\n",
       "      <td>[shanespresser, ericgiles, jonlatham]</td>\n",
       "    </tr>\n",
       "    <tr>\n",
       "      <th>4</th>\n",
       "      <td>Green on Green</td>\n",
       "      <td>Adventure, Comedy</td>\n",
       "      <td>Tom Knoblauch</td>\n",
       "      <td>[Rachel Dinan,  Leah Cardenas,  David Remus,  ...</td>\n",
       "      <td>4</td>\n",
       "      <td>[Rachel Dinan,  Leah Cardenas,  David Remus]</td>\n",
       "      <td>[racheldinan, leahcardenas, davidremus]</td>\n",
       "    </tr>\n",
       "  </tbody>\n",
       "</table>\n",
       "</div>"
      ],
      "text/plain": [
       "                                   movie              genre        directors  \\\n",
       "0  Hassan - The image of our common pain      Drama, Family            Emaan   \n",
       "1               Halt: The Motion Picture              Drama     Jezar Riches   \n",
       "2               Onyx, Kings of the Grail            History  Roberto Girault   \n",
       "3                             Mr. Presto             Comedy     Joey Kneiser   \n",
       "4                         Green on Green  Adventure, Comedy    Tom Knoblauch   \n",
       "\n",
       "                                               stars  n_stars  \\\n",
       "0  [Leena Alam,  Haroon Azizi,  Hakim Diljo,  Emaan]        4   \n",
       "1  [Harley Wallen,  Andrew Dawe-Collins,  Dennis ...        4   \n",
       "2  [Jim Caviezel,  Maria de Medeiros,  Anthony Ho...        4   \n",
       "3  [Shane Spresser,  Eric Giles,  Jon Latham,  Sp...        4   \n",
       "4  [Rachel Dinan,  Leah Cardenas,  David Remus,  ...        4   \n",
       "\n",
       "                                              stars1  \\\n",
       "0          [Leena Alam,  Haroon Azizi,  Hakim Diljo]   \n",
       "1  [Harley Wallen,  Andrew Dawe-Collins,  Dennis ...   \n",
       "2  [Jim Caviezel,  Maria de Medeiros,  Anthony Ho...   \n",
       "3         [Shane Spresser,  Eric Giles,  Jon Latham]   \n",
       "4       [Rachel Dinan,  Leah Cardenas,  David Remus]   \n",
       "\n",
       "                                              stars2  \n",
       "0               [leenaalam, haroonazizi, hakimdiljo]  \n",
       "1  [harleywallen, andrewdawe-collins, dennisdoyle...  \n",
       "2      [jimcaviezel, mariademedeiros, anthonyhowell]  \n",
       "3              [shanespresser, ericgiles, jonlatham]  \n",
       "4            [racheldinan, leahcardenas, davidremus]  "
      ]
     },
     "execution_count": 6,
     "metadata": {},
     "output_type": "execute_result"
    }
   ],
   "source": [
    "def short(x):\n",
    "    lst=[]\n",
    "    for i in x:\n",
    "        y=i.replace(' ','')\n",
    "        z=y.lower()\n",
    "        lst.append(z)\n",
    "    return lst\n",
    "movies['stars2']=movies['stars1'].apply(short)\n",
    "movies.head()"
   ]
  },
  {
   "cell_type": "code",
   "execution_count": 7,
   "metadata": {},
   "outputs": [
    {
     "data": {
      "text/html": [
       "<div>\n",
       "<style scoped>\n",
       "    .dataframe tbody tr th:only-of-type {\n",
       "        vertical-align: middle;\n",
       "    }\n",
       "\n",
       "    .dataframe tbody tr th {\n",
       "        vertical-align: top;\n",
       "    }\n",
       "\n",
       "    .dataframe thead th {\n",
       "        text-align: right;\n",
       "    }\n",
       "</style>\n",
       "<table border=\"1\" class=\"dataframe\">\n",
       "  <thead>\n",
       "    <tr style=\"text-align: right;\">\n",
       "      <th></th>\n",
       "      <th>movie</th>\n",
       "      <th>genre</th>\n",
       "      <th>directors</th>\n",
       "      <th>stars</th>\n",
       "      <th>n_stars</th>\n",
       "      <th>stars1</th>\n",
       "      <th>stars2</th>\n",
       "      <th>directors2</th>\n",
       "    </tr>\n",
       "  </thead>\n",
       "  <tbody>\n",
       "    <tr>\n",
       "      <th>0</th>\n",
       "      <td>Hassan - The image of our common pain</td>\n",
       "      <td>Drama, Family</td>\n",
       "      <td>Emaan</td>\n",
       "      <td>[Leena Alam,  Haroon Azizi,  Hakim Diljo,  Emaan]</td>\n",
       "      <td>4</td>\n",
       "      <td>[Leena Alam,  Haroon Azizi,  Hakim Diljo]</td>\n",
       "      <td>[leenaalam, haroonazizi, hakimdiljo]</td>\n",
       "      <td>[Emaan, Emaan]</td>\n",
       "    </tr>\n",
       "    <tr>\n",
       "      <th>1</th>\n",
       "      <td>Halt: The Motion Picture</td>\n",
       "      <td>Drama</td>\n",
       "      <td>Jezar Riches</td>\n",
       "      <td>[Harley Wallen,  Andrew Dawe-Collins,  Dennis ...</td>\n",
       "      <td>4</td>\n",
       "      <td>[Harley Wallen,  Andrew Dawe-Collins,  Dennis ...</td>\n",
       "      <td>[harleywallen, andrewdawe-collins, dennisdoyle...</td>\n",
       "      <td>[Jezar Riches, Jezar Riches]</td>\n",
       "    </tr>\n",
       "  </tbody>\n",
       "</table>\n",
       "</div>"
      ],
      "text/plain": [
       "                                   movie          genre     directors  \\\n",
       "0  Hassan - The image of our common pain  Drama, Family         Emaan   \n",
       "1               Halt: The Motion Picture          Drama  Jezar Riches   \n",
       "\n",
       "                                               stars  n_stars  \\\n",
       "0  [Leena Alam,  Haroon Azizi,  Hakim Diljo,  Emaan]        4   \n",
       "1  [Harley Wallen,  Andrew Dawe-Collins,  Dennis ...        4   \n",
       "\n",
       "                                              stars1  \\\n",
       "0          [Leena Alam,  Haroon Azizi,  Hakim Diljo]   \n",
       "1  [Harley Wallen,  Andrew Dawe-Collins,  Dennis ...   \n",
       "\n",
       "                                              stars2  \\\n",
       "0               [leenaalam, haroonazizi, hakimdiljo]   \n",
       "1  [harleywallen, andrewdawe-collins, dennisdoyle...   \n",
       "\n",
       "                     directors2  \n",
       "0                [Emaan, Emaan]  \n",
       "1  [Jezar Riches, Jezar Riches]  "
      ]
     },
     "execution_count": 7,
     "metadata": {},
     "output_type": "execute_result"
    }
   ],
   "source": [
    "movies['directors2']=movies['directors'].apply(lambda x: [x,x])\n",
    "movies.head(2)"
   ]
  },
  {
   "cell_type": "code",
   "execution_count": 8,
   "metadata": {},
   "outputs": [
    {
     "data": {
      "text/html": [
       "<div>\n",
       "<style scoped>\n",
       "    .dataframe tbody tr th:only-of-type {\n",
       "        vertical-align: middle;\n",
       "    }\n",
       "\n",
       "    .dataframe tbody tr th {\n",
       "        vertical-align: top;\n",
       "    }\n",
       "\n",
       "    .dataframe thead th {\n",
       "        text-align: right;\n",
       "    }\n",
       "</style>\n",
       "<table border=\"1\" class=\"dataframe\">\n",
       "  <thead>\n",
       "    <tr style=\"text-align: right;\">\n",
       "      <th></th>\n",
       "      <th>movie</th>\n",
       "      <th>genre</th>\n",
       "      <th>directors</th>\n",
       "      <th>stars</th>\n",
       "      <th>n_stars</th>\n",
       "      <th>stars1</th>\n",
       "      <th>stars2</th>\n",
       "      <th>directors2</th>\n",
       "      <th>directors3</th>\n",
       "    </tr>\n",
       "  </thead>\n",
       "  <tbody>\n",
       "    <tr>\n",
       "      <th>0</th>\n",
       "      <td>Hassan - The image of our common pain</td>\n",
       "      <td>Drama, Family</td>\n",
       "      <td>Emaan</td>\n",
       "      <td>[Leena Alam,  Haroon Azizi,  Hakim Diljo,  Emaan]</td>\n",
       "      <td>4</td>\n",
       "      <td>[Leena Alam,  Haroon Azizi,  Hakim Diljo]</td>\n",
       "      <td>[leenaalam, haroonazizi, hakimdiljo]</td>\n",
       "      <td>[Emaan, Emaan]</td>\n",
       "      <td>[emaan, emaan]</td>\n",
       "    </tr>\n",
       "    <tr>\n",
       "      <th>1</th>\n",
       "      <td>Halt: The Motion Picture</td>\n",
       "      <td>Drama</td>\n",
       "      <td>Jezar Riches</td>\n",
       "      <td>[Harley Wallen,  Andrew Dawe-Collins,  Dennis ...</td>\n",
       "      <td>4</td>\n",
       "      <td>[Harley Wallen,  Andrew Dawe-Collins,  Dennis ...</td>\n",
       "      <td>[harleywallen, andrewdawe-collins, dennisdoyle...</td>\n",
       "      <td>[Jezar Riches, Jezar Riches]</td>\n",
       "      <td>[jezarriches, jezarriches]</td>\n",
       "    </tr>\n",
       "  </tbody>\n",
       "</table>\n",
       "</div>"
      ],
      "text/plain": [
       "                                   movie          genre     directors  \\\n",
       "0  Hassan - The image of our common pain  Drama, Family         Emaan   \n",
       "1               Halt: The Motion Picture          Drama  Jezar Riches   \n",
       "\n",
       "                                               stars  n_stars  \\\n",
       "0  [Leena Alam,  Haroon Azizi,  Hakim Diljo,  Emaan]        4   \n",
       "1  [Harley Wallen,  Andrew Dawe-Collins,  Dennis ...        4   \n",
       "\n",
       "                                              stars1  \\\n",
       "0          [Leena Alam,  Haroon Azizi,  Hakim Diljo]   \n",
       "1  [Harley Wallen,  Andrew Dawe-Collins,  Dennis ...   \n",
       "\n",
       "                                              stars2  \\\n",
       "0               [leenaalam, haroonazizi, hakimdiljo]   \n",
       "1  [harleywallen, andrewdawe-collins, dennisdoyle...   \n",
       "\n",
       "                     directors2                  directors3  \n",
       "0                [Emaan, Emaan]              [emaan, emaan]  \n",
       "1  [Jezar Riches, Jezar Riches]  [jezarriches, jezarriches]  "
      ]
     },
     "execution_count": 8,
     "metadata": {},
     "output_type": "execute_result"
    }
   ],
   "source": [
    "movies['directors3']=movies['directors2'].apply(short)\n",
    "movies.head(2)"
   ]
  },
  {
   "cell_type": "code",
   "execution_count": 9,
   "metadata": {},
   "outputs": [
    {
     "data": {
      "text/html": [
       "<div>\n",
       "<style scoped>\n",
       "    .dataframe tbody tr th:only-of-type {\n",
       "        vertical-align: middle;\n",
       "    }\n",
       "\n",
       "    .dataframe tbody tr th {\n",
       "        vertical-align: top;\n",
       "    }\n",
       "\n",
       "    .dataframe thead th {\n",
       "        text-align: right;\n",
       "    }\n",
       "</style>\n",
       "<table border=\"1\" class=\"dataframe\">\n",
       "  <thead>\n",
       "    <tr style=\"text-align: right;\">\n",
       "      <th></th>\n",
       "      <th>movie</th>\n",
       "      <th>stars2</th>\n",
       "      <th>directors3</th>\n",
       "      <th>genre3</th>\n",
       "    </tr>\n",
       "  </thead>\n",
       "  <tbody>\n",
       "    <tr>\n",
       "      <th>0</th>\n",
       "      <td>Hassan - The image of our common pain</td>\n",
       "      <td>[leenaalam, haroonazizi, hakimdiljo]</td>\n",
       "      <td>[emaan, emaan]</td>\n",
       "      <td>[drama, family]</td>\n",
       "    </tr>\n",
       "    <tr>\n",
       "      <th>1</th>\n",
       "      <td>Halt: The Motion Picture</td>\n",
       "      <td>[harleywallen, andrewdawe-collins, dennisdoyle...</td>\n",
       "      <td>[jezarriches, jezarriches]</td>\n",
       "      <td>[drama]</td>\n",
       "    </tr>\n",
       "  </tbody>\n",
       "</table>\n",
       "</div>"
      ],
      "text/plain": [
       "                                   movie  \\\n",
       "0  Hassan - The image of our common pain   \n",
       "1               Halt: The Motion Picture   \n",
       "\n",
       "                                              stars2  \\\n",
       "0               [leenaalam, haroonazizi, hakimdiljo]   \n",
       "1  [harleywallen, andrewdawe-collins, dennisdoyle...   \n",
       "\n",
       "                   directors3           genre3  \n",
       "0              [emaan, emaan]  [drama, family]  \n",
       "1  [jezarriches, jezarriches]          [drama]  "
      ]
     },
     "execution_count": 9,
     "metadata": {},
     "output_type": "execute_result"
    }
   ],
   "source": [
    "movies['genre']=movies['genre'].str.split(',')\n",
    "movies['genre3']=movies['genre'].apply(short)\n",
    "movies=movies.drop(['genre','directors','stars','n_stars','stars1','directors2'], axis=1)\n",
    "movies.head(2)"
   ]
  },
  {
   "cell_type": "markdown",
   "metadata": {},
   "source": [
    "This step combines stars, directors and genre for individual movie into a single string. "
   ]
  },
  {
   "cell_type": "code",
   "execution_count": 10,
   "metadata": {},
   "outputs": [
    {
     "data": {
      "text/html": [
       "<div>\n",
       "<style scoped>\n",
       "    .dataframe tbody tr th:only-of-type {\n",
       "        vertical-align: middle;\n",
       "    }\n",
       "\n",
       "    .dataframe tbody tr th {\n",
       "        vertical-align: top;\n",
       "    }\n",
       "\n",
       "    .dataframe thead th {\n",
       "        text-align: right;\n",
       "    }\n",
       "</style>\n",
       "<table border=\"1\" class=\"dataframe\">\n",
       "  <thead>\n",
       "    <tr style=\"text-align: right;\">\n",
       "      <th></th>\n",
       "      <th>movie</th>\n",
       "      <th>stars2</th>\n",
       "      <th>directors3</th>\n",
       "      <th>genre3</th>\n",
       "      <th>bag</th>\n",
       "      <th>bag_len</th>\n",
       "    </tr>\n",
       "  </thead>\n",
       "  <tbody>\n",
       "    <tr>\n",
       "      <th>0</th>\n",
       "      <td>Hassan - The image of our common pain</td>\n",
       "      <td>[leenaalam, haroonazizi, hakimdiljo]</td>\n",
       "      <td>[emaan, emaan]</td>\n",
       "      <td>[drama, family]</td>\n",
       "      <td>leenaalam haroonazizi hakimdiljo emaan emaan d...</td>\n",
       "      <td>7</td>\n",
       "    </tr>\n",
       "    <tr>\n",
       "      <th>1</th>\n",
       "      <td>Halt: The Motion Picture</td>\n",
       "      <td>[harleywallen, andrewdawe-collins, dennisdoyle...</td>\n",
       "      <td>[jezarriches, jezarriches]</td>\n",
       "      <td>[drama]</td>\n",
       "      <td>harleywallen andrewdawe-collins dennisdoylejr....</td>\n",
       "      <td>6</td>\n",
       "    </tr>\n",
       "  </tbody>\n",
       "</table>\n",
       "</div>"
      ],
      "text/plain": [
       "                                   movie  \\\n",
       "0  Hassan - The image of our common pain   \n",
       "1               Halt: The Motion Picture   \n",
       "\n",
       "                                              stars2  \\\n",
       "0               [leenaalam, haroonazizi, hakimdiljo]   \n",
       "1  [harleywallen, andrewdawe-collins, dennisdoyle...   \n",
       "\n",
       "                   directors3           genre3  \\\n",
       "0              [emaan, emaan]  [drama, family]   \n",
       "1  [jezarriches, jezarriches]          [drama]   \n",
       "\n",
       "                                                 bag  bag_len  \n",
       "0  leenaalam haroonazizi hakimdiljo emaan emaan d...        7  \n",
       "1  harleywallen andrewdawe-collins dennisdoylejr....        6  "
      ]
     },
     "execution_count": 10,
     "metadata": {},
     "output_type": "execute_result"
    }
   ],
   "source": [
    "movies['bag'] = (movies['stars2'] + movies['directors3'] + movies['genre3']).apply(lambda x: [s for s in x if s])\n",
    "movies['bag_len']=movies['bag'].apply(len)\n",
    "movies['bag'] = movies['bag'].apply(lambda x: ' '.join(x))\n",
    "movies.head(2)"
   ]
  },
  {
   "cell_type": "markdown",
   "metadata": {},
   "source": [
    "We use Bag-of-Words model here. In this we first split the document in to tokens, then assign a weight to each token depending upon the frequency with which it occurs in the document or in a collection of all the documents and then make a matrix where each document is a row and each column is a token. This operation gives us an item vector. By this I mean that each movie is a vector with the weighted values for each attribute (that is a director's name or star's name). One of the vectorizer we will be using here for the mentioned purpose is CountVectorizer. It gives a matrix where the words represent column and movies are the rows and the weight is equal to the number of times a word occurs in a document."
   ]
  },
  {
   "cell_type": "code",
   "execution_count": 11,
   "metadata": {},
   "outputs": [],
   "source": [
    "count = CountVectorizer(analyzer='word',stop_words='english')\n",
    "movies_matrix = count.fit_transform(movies['bag'])"
   ]
  },
  {
   "cell_type": "markdown",
   "metadata": {},
   "source": [
    "Next, we have to calculate similarity between the items. As in the previous step we have obtained item profiles which are vectors in a high dimensional space. A good distance metric is an angle between the pairs of item vectors. We can estimate angle using Cosine formula. Mathematically,        \n",
    "Cosine simiarity= Cos(theta)= A.B / ||A|| ||B||\n",
    "that is, its a product of two vectors divided by the product of their magnitude. Thus Cosine similarity gives a measure of similarity between two movies. Thus as theta reduces, cosine similarity increases. "
   ]
  },
  {
   "cell_type": "markdown",
   "metadata": {},
   "source": [
    "For further operations we need a map that can take a movie's title and give its index in the dataframe. This is done below. Additionally, we make a function that can output a list of similar movies when we provide it with our movie of choice. In this function, first cosine similarity between the selected movie and all movies is found and then the function returns top 10 similar movies to our movie of choice."
   ]
  },
  {
   "cell_type": "code",
   "execution_count": 12,
   "metadata": {},
   "outputs": [],
   "source": [
    "# map that gives the movie index in dataframe\n",
    "indices = pd.Series(movies.index, index=movies['movie'])\n",
    "\n",
    "# function that provides a list of similar movies\n",
    "def recommendations(title):\n",
    "    \n",
    "    # get index of the movie in the dataframe\n",
    "    idx = indices[title]\n",
    "    \n",
    "    # get movie matrix for the selected movie\n",
    "    chosen_movie_matrix = movies_matrix[idx]\n",
    "    \n",
    "    #get cosine similarity of all the movies with the selected movie\n",
    "    cos_sim = cosine_similarity(chosen_movie_matrix, movies_matrix)\n",
    "    \n",
    "    # get a list of tuple where first is movie index and second is cos similarity score for all \n",
    "    #the movies with the provided movie. Similarity score is penalised based on the number of contents of the bag. \n",
    "    scores = [(i, sim - 1/(movies.iloc[i]['bag_len']+.0001)) for i, sim in enumerate(cos_sim[0])]\n",
    "\n",
    "    # sorting all the movies based on the similarity scores in an ascending order\n",
    "    scores.sort(key=lambda x: x[1], reverse=True)\n",
    "\n",
    "    # get the indices of the top 10 similar movies\n",
    "    movie_indices = [i[0] for i in scores[1:11]]\n",
    "\n",
    "    # get the names of the most similar movies\n",
    "    return movies.iloc[movie_indices]['movie']"
   ]
  },
  {
   "cell_type": "code",
   "execution_count": 13,
   "metadata": {},
   "outputs": [
    {
     "data": {
      "text/plain": [
       "22440                      Interstellar\n",
       "32080             The Dark Knight Rises\n",
       "6513                            Dunkirk\n",
       "4024                     The Star Kings\n",
       "24037       Star Wars: The New Republic\n",
       "28336                           Don Jon\n",
       "599                    Ready Player One\n",
       "695                           Bumblebee\n",
       "1314     Jurassic World: Fallen Kingdom\n",
       "1373                            Rampage\n",
       "Name: movie, dtype: object"
      ]
     },
     "execution_count": 13,
     "metadata": {},
     "output_type": "execute_result"
    }
   ],
   "source": [
    "recommendations('Inception')"
   ]
  },
  {
   "cell_type": "markdown",
   "metadata": {},
   "source": [
    "In the case of Inception, the first 3 movies have same director and some overlap with the genre of the selected movie. The rest of the movies in the recommended list have match with the genre. As this is a content based recommender system we do not want to filter movies according to the rating rather we have prefered here filtering based on the director(s), stars and genre."
   ]
  },
  {
   "cell_type": "code",
   "execution_count": 14,
   "metadata": {},
   "outputs": [
    {
     "data": {
      "text/plain": [
       "27559            Before Midnight\n",
       "7082            Last Flag Flying\n",
       "12838     Everybody Wants Some!!\n",
       "37285                     Bernie\n",
       "954                        Blaze\n",
       "1065                   Stockholm\n",
       "6952              First Reformed\n",
       "8637                 Blood Money\n",
       "12466                     Maudie\n",
       "13604    In a Valley of Violence\n",
       "Name: movie, dtype: object"
      ]
     },
     "execution_count": 14,
     "metadata": {},
     "output_type": "execute_result"
    }
   ],
   "source": [
    "recommendations('Boyhood')"
   ]
  },
  {
   "cell_type": "markdown",
   "metadata": {},
   "source": [
    "After selecting 'Boyhood', the first 3 recommendations have matching directors and first 2 belong to the same genre 'drama'. "
   ]
  }
 ],
 "metadata": {
  "kernelspec": {
   "display_name": "Python 3",
   "language": "python",
   "name": "python3"
  },
  "language_info": {
   "codemirror_mode": {
    "name": "ipython",
    "version": 3
   },
   "file_extension": ".py",
   "mimetype": "text/x-python",
   "name": "python",
   "nbconvert_exporter": "python",
   "pygments_lexer": "ipython3",
   "version": "3.6.4"
  }
 },
 "nbformat": 4,
 "nbformat_minor": 2
}
